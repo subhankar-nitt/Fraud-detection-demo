{
  "nbformat": 4,
  "nbformat_minor": 0,
  "metadata": {
    "kernelspec": {
      "language": "python",
      "display_name": "Python 3",
      "name": "python3"
    },
    "language_info": {
      "name": "python",
      "version": "3.7.9",
      "mimetype": "text/x-python",
      "codemirror_mode": {
        "name": "ipython",
        "version": 3
      },
      "pygments_lexer": "ipython3",
      "nbconvert_exporter": "python",
      "file_extension": ".py"
    },
    "colab": {
      "name": "fraudtransactionsrules.ipynb",
      "provenance": [],
      "include_colab_link": true
    }
  },
  "cells": [
    {
      "cell_type": "markdown",
      "metadata": {
        "id": "view-in-github",
        "colab_type": "text"
      },
      "source": [
        "<a href=\"https://colab.research.google.com/github/subhankar-nitt/Fraud-detection-demo/blob/subhankar/mlProj/app/fraudtransactionsrules.ipynb\" target=\"_parent\"><img src=\"https://colab.research.google.com/assets/colab-badge.svg\" alt=\"Open In Colab\"/></a>"
      ]
    },
    {
      "cell_type": "markdown",
      "metadata": {
        "id": "wbgz_sznsbVG"
      },
      "source": [
        "# ****Topic - Rule extraction for Fraud detection DataSet****\n",
        "# ****Author-Subhankar Biswas ****\n",
        "# ****Data- 22/06/2021****\n",
        "# ****Description - In this notebook we will try to extract rules can be used to tag the database based on outliers.****"
      ]
    },
    {
      "cell_type": "markdown",
      "metadata": {
        "id": "hprbiNgpsbVN"
      },
      "source": [
        "# **Loading the DataSet and exploring it**"
      ]
    },
    {
      "cell_type": "code",
      "metadata": {
        "execution": {
          "iopub.status.busy": "2021-06-22T06:01:53.510025Z",
          "iopub.execute_input": "2021-06-22T06:01:53.510385Z",
          "iopub.status.idle": "2021-06-22T06:01:53.517335Z",
          "shell.execute_reply.started": "2021-06-22T06:01:53.510356Z",
          "shell.execute_reply": "2021-06-22T06:01:53.516172Z"
        },
        "trusted": true,
        "id": "MmvSVHHOsbVP"
      },
      "source": [
        "#importing the python libraries to be used in this session\n",
        "import pandas as pd  #used for data analysis\n",
        "import numpy as np #used for numerical calculations\n",
        "import seaborn as sns #used for data visualization and plotting\n",
        "import matplotlib.pyplot as plt  #used for data visualization and plotting\n",
        "%matplotlib inline"
      ],
      "execution_count": null,
      "outputs": []
    },
    {
      "cell_type": "code",
      "metadata": {
        "execution": {
          "iopub.status.busy": "2021-06-22T06:02:12.038327Z",
          "iopub.execute_input": "2021-06-22T06:02:12.038643Z",
          "iopub.status.idle": "2021-06-22T06:02:19.546806Z",
          "shell.execute_reply.started": "2021-06-22T06:02:12.038615Z",
          "shell.execute_reply": "2021-06-22T06:02:19.545777Z"
        },
        "trusted": true,
        "id": "eb1Oq9A6sbVR",
        "outputId": "2e5fead9-799d-4fbb-bb69-c059ba58b5ff"
      },
      "source": [
        "#reading the dataset\n",
        "data = pd.read_csv(\"../input/fraud-detection/fraudTrain.csv\")\n",
        "data.head()"
      ],
      "execution_count": null,
      "outputs": [
        {
          "output_type": "execute_result",
          "data": {
            "text/plain": [
              "   Unnamed: 0 trans_date_trans_time            cc_num  \\\n",
              "0           0   2019-01-01 00:00:18  2703186189652095   \n",
              "1           1   2019-01-01 00:00:44      630423337322   \n",
              "2           2   2019-01-01 00:00:51    38859492057661   \n",
              "3           3   2019-01-01 00:01:16  3534093764340240   \n",
              "4           4   2019-01-01 00:03:06   375534208663984   \n",
              "\n",
              "                             merchant       category     amt      first  \\\n",
              "0          fraud_Rippin, Kub and Mann       misc_net    4.97   Jennifer   \n",
              "1     fraud_Heller, Gutmann and Zieme    grocery_pos  107.23  Stephanie   \n",
              "2                fraud_Lind-Buckridge  entertainment  220.11     Edward   \n",
              "3  fraud_Kutch, Hermiston and Farrell  gas_transport   45.00     Jeremy   \n",
              "4                 fraud_Keeling-Crist       misc_pos   41.96      Tyler   \n",
              "\n",
              "      last gender                        street  ...      lat      long  \\\n",
              "0    Banks      F                561 Perry Cove  ...  36.0788  -81.1781   \n",
              "1     Gill      F  43039 Riley Greens Suite 393  ...  48.8878 -118.2105   \n",
              "2  Sanchez      M      594 White Dale Suite 530  ...  42.1808 -112.2620   \n",
              "3    White      M   9443 Cynthia Court Apt. 038  ...  46.2306 -112.1138   \n",
              "4   Garcia      M              408 Bradley Rest  ...  38.4207  -79.4629   \n",
              "\n",
              "   city_pop                                job         dob  \\\n",
              "0      3495          Psychologist, counselling  1988-03-09   \n",
              "1       149  Special educational needs teacher  1978-06-21   \n",
              "2      4154        Nature conservation officer  1962-01-19   \n",
              "3      1939                    Patent attorney  1967-01-12   \n",
              "4        99     Dance movement psychotherapist  1986-03-28   \n",
              "\n",
              "                          trans_num   unix_time  merch_lat  merch_long  \\\n",
              "0  0b242abb623afc578575680df30655b9  1325376018  36.011293  -82.048315   \n",
              "1  1f76529f8574734946361c461b024d99  1325376044  49.159047 -118.186462   \n",
              "2  a1a22d70485983eac12b5b88dad1cf95  1325376051  43.150704 -112.154481   \n",
              "3  6b849c168bdad6f867558c3793159a81  1325376076  47.034331 -112.561071   \n",
              "4  a41d7549acf90789359a9aa5346dcb46  1325376186  38.674999  -78.632459   \n",
              "\n",
              "   is_fraud  \n",
              "0         0  \n",
              "1         0  \n",
              "2         0  \n",
              "3         0  \n",
              "4         0  \n",
              "\n",
              "[5 rows x 23 columns]"
            ],
            "text/html": [
              "<div>\n",
              "<style scoped>\n",
              "    .dataframe tbody tr th:only-of-type {\n",
              "        vertical-align: middle;\n",
              "    }\n",
              "\n",
              "    .dataframe tbody tr th {\n",
              "        vertical-align: top;\n",
              "    }\n",
              "\n",
              "    .dataframe thead th {\n",
              "        text-align: right;\n",
              "    }\n",
              "</style>\n",
              "<table border=\"1\" class=\"dataframe\">\n",
              "  <thead>\n",
              "    <tr style=\"text-align: right;\">\n",
              "      <th></th>\n",
              "      <th>Unnamed: 0</th>\n",
              "      <th>trans_date_trans_time</th>\n",
              "      <th>cc_num</th>\n",
              "      <th>merchant</th>\n",
              "      <th>category</th>\n",
              "      <th>amt</th>\n",
              "      <th>first</th>\n",
              "      <th>last</th>\n",
              "      <th>gender</th>\n",
              "      <th>street</th>\n",
              "      <th>...</th>\n",
              "      <th>lat</th>\n",
              "      <th>long</th>\n",
              "      <th>city_pop</th>\n",
              "      <th>job</th>\n",
              "      <th>dob</th>\n",
              "      <th>trans_num</th>\n",
              "      <th>unix_time</th>\n",
              "      <th>merch_lat</th>\n",
              "      <th>merch_long</th>\n",
              "      <th>is_fraud</th>\n",
              "    </tr>\n",
              "  </thead>\n",
              "  <tbody>\n",
              "    <tr>\n",
              "      <th>0</th>\n",
              "      <td>0</td>\n",
              "      <td>2019-01-01 00:00:18</td>\n",
              "      <td>2703186189652095</td>\n",
              "      <td>fraud_Rippin, Kub and Mann</td>\n",
              "      <td>misc_net</td>\n",
              "      <td>4.97</td>\n",
              "      <td>Jennifer</td>\n",
              "      <td>Banks</td>\n",
              "      <td>F</td>\n",
              "      <td>561 Perry Cove</td>\n",
              "      <td>...</td>\n",
              "      <td>36.0788</td>\n",
              "      <td>-81.1781</td>\n",
              "      <td>3495</td>\n",
              "      <td>Psychologist, counselling</td>\n",
              "      <td>1988-03-09</td>\n",
              "      <td>0b242abb623afc578575680df30655b9</td>\n",
              "      <td>1325376018</td>\n",
              "      <td>36.011293</td>\n",
              "      <td>-82.048315</td>\n",
              "      <td>0</td>\n",
              "    </tr>\n",
              "    <tr>\n",
              "      <th>1</th>\n",
              "      <td>1</td>\n",
              "      <td>2019-01-01 00:00:44</td>\n",
              "      <td>630423337322</td>\n",
              "      <td>fraud_Heller, Gutmann and Zieme</td>\n",
              "      <td>grocery_pos</td>\n",
              "      <td>107.23</td>\n",
              "      <td>Stephanie</td>\n",
              "      <td>Gill</td>\n",
              "      <td>F</td>\n",
              "      <td>43039 Riley Greens Suite 393</td>\n",
              "      <td>...</td>\n",
              "      <td>48.8878</td>\n",
              "      <td>-118.2105</td>\n",
              "      <td>149</td>\n",
              "      <td>Special educational needs teacher</td>\n",
              "      <td>1978-06-21</td>\n",
              "      <td>1f76529f8574734946361c461b024d99</td>\n",
              "      <td>1325376044</td>\n",
              "      <td>49.159047</td>\n",
              "      <td>-118.186462</td>\n",
              "      <td>0</td>\n",
              "    </tr>\n",
              "    <tr>\n",
              "      <th>2</th>\n",
              "      <td>2</td>\n",
              "      <td>2019-01-01 00:00:51</td>\n",
              "      <td>38859492057661</td>\n",
              "      <td>fraud_Lind-Buckridge</td>\n",
              "      <td>entertainment</td>\n",
              "      <td>220.11</td>\n",
              "      <td>Edward</td>\n",
              "      <td>Sanchez</td>\n",
              "      <td>M</td>\n",
              "      <td>594 White Dale Suite 530</td>\n",
              "      <td>...</td>\n",
              "      <td>42.1808</td>\n",
              "      <td>-112.2620</td>\n",
              "      <td>4154</td>\n",
              "      <td>Nature conservation officer</td>\n",
              "      <td>1962-01-19</td>\n",
              "      <td>a1a22d70485983eac12b5b88dad1cf95</td>\n",
              "      <td>1325376051</td>\n",
              "      <td>43.150704</td>\n",
              "      <td>-112.154481</td>\n",
              "      <td>0</td>\n",
              "    </tr>\n",
              "    <tr>\n",
              "      <th>3</th>\n",
              "      <td>3</td>\n",
              "      <td>2019-01-01 00:01:16</td>\n",
              "      <td>3534093764340240</td>\n",
              "      <td>fraud_Kutch, Hermiston and Farrell</td>\n",
              "      <td>gas_transport</td>\n",
              "      <td>45.00</td>\n",
              "      <td>Jeremy</td>\n",
              "      <td>White</td>\n",
              "      <td>M</td>\n",
              "      <td>9443 Cynthia Court Apt. 038</td>\n",
              "      <td>...</td>\n",
              "      <td>46.2306</td>\n",
              "      <td>-112.1138</td>\n",
              "      <td>1939</td>\n",
              "      <td>Patent attorney</td>\n",
              "      <td>1967-01-12</td>\n",
              "      <td>6b849c168bdad6f867558c3793159a81</td>\n",
              "      <td>1325376076</td>\n",
              "      <td>47.034331</td>\n",
              "      <td>-112.561071</td>\n",
              "      <td>0</td>\n",
              "    </tr>\n",
              "    <tr>\n",
              "      <th>4</th>\n",
              "      <td>4</td>\n",
              "      <td>2019-01-01 00:03:06</td>\n",
              "      <td>375534208663984</td>\n",
              "      <td>fraud_Keeling-Crist</td>\n",
              "      <td>misc_pos</td>\n",
              "      <td>41.96</td>\n",
              "      <td>Tyler</td>\n",
              "      <td>Garcia</td>\n",
              "      <td>M</td>\n",
              "      <td>408 Bradley Rest</td>\n",
              "      <td>...</td>\n",
              "      <td>38.4207</td>\n",
              "      <td>-79.4629</td>\n",
              "      <td>99</td>\n",
              "      <td>Dance movement psychotherapist</td>\n",
              "      <td>1986-03-28</td>\n",
              "      <td>a41d7549acf90789359a9aa5346dcb46</td>\n",
              "      <td>1325376186</td>\n",
              "      <td>38.674999</td>\n",
              "      <td>-78.632459</td>\n",
              "      <td>0</td>\n",
              "    </tr>\n",
              "  </tbody>\n",
              "</table>\n",
              "<p>5 rows × 23 columns</p>\n",
              "</div>"
            ]
          },
          "metadata": {
            "tags": []
          },
          "execution_count": 136
        }
      ]
    },
    {
      "cell_type": "code",
      "metadata": {
        "execution": {
          "iopub.status.busy": "2021-06-22T03:27:06.053097Z",
          "iopub.execute_input": "2021-06-22T03:27:06.053460Z",
          "iopub.status.idle": "2021-06-22T03:27:06.538367Z",
          "shell.execute_reply.started": "2021-06-22T03:27:06.053431Z",
          "shell.execute_reply": "2021-06-22T03:27:06.537273Z"
        },
        "trusted": true,
        "id": "NNqVnTEhsbVV",
        "outputId": "604b7db1-9eaa-4944-b44e-71e35c0e2839"
      },
      "source": [
        "#describing the dataset\n",
        "data.describe()"
      ],
      "execution_count": null,
      "outputs": [
        {
          "output_type": "execute_result",
          "data": {
            "text/plain": [
              "         Unnamed: 0        cc_num           amt           zip           lat  \\\n",
              "count  1.296675e+06  1.296675e+06  1.296675e+06  1.296675e+06  1.296675e+06   \n",
              "mean   6.483370e+05  4.171920e+17  7.035104e+01  4.880067e+04  3.853762e+01   \n",
              "std    3.743180e+05  1.308806e+18  1.603160e+02  2.689322e+04  5.075808e+00   \n",
              "min    0.000000e+00  6.041621e+10  1.000000e+00  1.257000e+03  2.002710e+01   \n",
              "25%    3.241685e+05  1.800429e+14  9.650000e+00  2.623700e+04  3.462050e+01   \n",
              "50%    6.483370e+05  3.521417e+15  4.752000e+01  4.817400e+04  3.935430e+01   \n",
              "75%    9.725055e+05  4.642255e+15  8.314000e+01  7.204200e+04  4.194040e+01   \n",
              "max    1.296674e+06  4.992346e+18  2.894890e+04  9.978300e+04  6.669330e+01   \n",
              "\n",
              "               long      city_pop     unix_time     merch_lat    merch_long  \\\n",
              "count  1.296675e+06  1.296675e+06  1.296675e+06  1.296675e+06  1.296675e+06   \n",
              "mean  -9.022634e+01  8.882444e+04  1.349244e+09  3.853734e+01 -9.022646e+01   \n",
              "std    1.375908e+01  3.019564e+05  1.284128e+07  5.109788e+00  1.377109e+01   \n",
              "min   -1.656723e+02  2.300000e+01  1.325376e+09  1.902779e+01 -1.666712e+02   \n",
              "25%   -9.679800e+01  7.430000e+02  1.338751e+09  3.473357e+01 -9.689728e+01   \n",
              "50%   -8.747690e+01  2.456000e+03  1.349250e+09  3.936568e+01 -8.743839e+01   \n",
              "75%   -8.015800e+01  2.032800e+04  1.359385e+09  4.195716e+01 -8.023680e+01   \n",
              "max   -6.795030e+01  2.906700e+06  1.371817e+09  6.751027e+01 -6.695090e+01   \n",
              "\n",
              "           is_fraud  \n",
              "count  1.296675e+06  \n",
              "mean   5.788652e-03  \n",
              "std    7.586269e-02  \n",
              "min    0.000000e+00  \n",
              "25%    0.000000e+00  \n",
              "50%    0.000000e+00  \n",
              "75%    0.000000e+00  \n",
              "max    1.000000e+00  "
            ],
            "text/html": [
              "<div>\n",
              "<style scoped>\n",
              "    .dataframe tbody tr th:only-of-type {\n",
              "        vertical-align: middle;\n",
              "    }\n",
              "\n",
              "    .dataframe tbody tr th {\n",
              "        vertical-align: top;\n",
              "    }\n",
              "\n",
              "    .dataframe thead th {\n",
              "        text-align: right;\n",
              "    }\n",
              "</style>\n",
              "<table border=\"1\" class=\"dataframe\">\n",
              "  <thead>\n",
              "    <tr style=\"text-align: right;\">\n",
              "      <th></th>\n",
              "      <th>Unnamed: 0</th>\n",
              "      <th>cc_num</th>\n",
              "      <th>amt</th>\n",
              "      <th>zip</th>\n",
              "      <th>lat</th>\n",
              "      <th>long</th>\n",
              "      <th>city_pop</th>\n",
              "      <th>unix_time</th>\n",
              "      <th>merch_lat</th>\n",
              "      <th>merch_long</th>\n",
              "      <th>is_fraud</th>\n",
              "    </tr>\n",
              "  </thead>\n",
              "  <tbody>\n",
              "    <tr>\n",
              "      <th>count</th>\n",
              "      <td>1.296675e+06</td>\n",
              "      <td>1.296675e+06</td>\n",
              "      <td>1.296675e+06</td>\n",
              "      <td>1.296675e+06</td>\n",
              "      <td>1.296675e+06</td>\n",
              "      <td>1.296675e+06</td>\n",
              "      <td>1.296675e+06</td>\n",
              "      <td>1.296675e+06</td>\n",
              "      <td>1.296675e+06</td>\n",
              "      <td>1.296675e+06</td>\n",
              "      <td>1.296675e+06</td>\n",
              "    </tr>\n",
              "    <tr>\n",
              "      <th>mean</th>\n",
              "      <td>6.483370e+05</td>\n",
              "      <td>4.171920e+17</td>\n",
              "      <td>7.035104e+01</td>\n",
              "      <td>4.880067e+04</td>\n",
              "      <td>3.853762e+01</td>\n",
              "      <td>-9.022634e+01</td>\n",
              "      <td>8.882444e+04</td>\n",
              "      <td>1.349244e+09</td>\n",
              "      <td>3.853734e+01</td>\n",
              "      <td>-9.022646e+01</td>\n",
              "      <td>5.788652e-03</td>\n",
              "    </tr>\n",
              "    <tr>\n",
              "      <th>std</th>\n",
              "      <td>3.743180e+05</td>\n",
              "      <td>1.308806e+18</td>\n",
              "      <td>1.603160e+02</td>\n",
              "      <td>2.689322e+04</td>\n",
              "      <td>5.075808e+00</td>\n",
              "      <td>1.375908e+01</td>\n",
              "      <td>3.019564e+05</td>\n",
              "      <td>1.284128e+07</td>\n",
              "      <td>5.109788e+00</td>\n",
              "      <td>1.377109e+01</td>\n",
              "      <td>7.586269e-02</td>\n",
              "    </tr>\n",
              "    <tr>\n",
              "      <th>min</th>\n",
              "      <td>0.000000e+00</td>\n",
              "      <td>6.041621e+10</td>\n",
              "      <td>1.000000e+00</td>\n",
              "      <td>1.257000e+03</td>\n",
              "      <td>2.002710e+01</td>\n",
              "      <td>-1.656723e+02</td>\n",
              "      <td>2.300000e+01</td>\n",
              "      <td>1.325376e+09</td>\n",
              "      <td>1.902779e+01</td>\n",
              "      <td>-1.666712e+02</td>\n",
              "      <td>0.000000e+00</td>\n",
              "    </tr>\n",
              "    <tr>\n",
              "      <th>25%</th>\n",
              "      <td>3.241685e+05</td>\n",
              "      <td>1.800429e+14</td>\n",
              "      <td>9.650000e+00</td>\n",
              "      <td>2.623700e+04</td>\n",
              "      <td>3.462050e+01</td>\n",
              "      <td>-9.679800e+01</td>\n",
              "      <td>7.430000e+02</td>\n",
              "      <td>1.338751e+09</td>\n",
              "      <td>3.473357e+01</td>\n",
              "      <td>-9.689728e+01</td>\n",
              "      <td>0.000000e+00</td>\n",
              "    </tr>\n",
              "    <tr>\n",
              "      <th>50%</th>\n",
              "      <td>6.483370e+05</td>\n",
              "      <td>3.521417e+15</td>\n",
              "      <td>4.752000e+01</td>\n",
              "      <td>4.817400e+04</td>\n",
              "      <td>3.935430e+01</td>\n",
              "      <td>-8.747690e+01</td>\n",
              "      <td>2.456000e+03</td>\n",
              "      <td>1.349250e+09</td>\n",
              "      <td>3.936568e+01</td>\n",
              "      <td>-8.743839e+01</td>\n",
              "      <td>0.000000e+00</td>\n",
              "    </tr>\n",
              "    <tr>\n",
              "      <th>75%</th>\n",
              "      <td>9.725055e+05</td>\n",
              "      <td>4.642255e+15</td>\n",
              "      <td>8.314000e+01</td>\n",
              "      <td>7.204200e+04</td>\n",
              "      <td>4.194040e+01</td>\n",
              "      <td>-8.015800e+01</td>\n",
              "      <td>2.032800e+04</td>\n",
              "      <td>1.359385e+09</td>\n",
              "      <td>4.195716e+01</td>\n",
              "      <td>-8.023680e+01</td>\n",
              "      <td>0.000000e+00</td>\n",
              "    </tr>\n",
              "    <tr>\n",
              "      <th>max</th>\n",
              "      <td>1.296674e+06</td>\n",
              "      <td>4.992346e+18</td>\n",
              "      <td>2.894890e+04</td>\n",
              "      <td>9.978300e+04</td>\n",
              "      <td>6.669330e+01</td>\n",
              "      <td>-6.795030e+01</td>\n",
              "      <td>2.906700e+06</td>\n",
              "      <td>1.371817e+09</td>\n",
              "      <td>6.751027e+01</td>\n",
              "      <td>-6.695090e+01</td>\n",
              "      <td>1.000000e+00</td>\n",
              "    </tr>\n",
              "  </tbody>\n",
              "</table>\n",
              "</div>"
            ]
          },
          "metadata": {
            "tags": []
          },
          "execution_count": 9
        }
      ]
    },
    {
      "cell_type": "code",
      "metadata": {
        "execution": {
          "iopub.status.busy": "2021-06-22T03:27:11.326972Z",
          "iopub.execute_input": "2021-06-22T03:27:11.327297Z",
          "iopub.status.idle": "2021-06-22T03:27:11.902529Z",
          "shell.execute_reply.started": "2021-06-22T03:27:11.327269Z",
          "shell.execute_reply": "2021-06-22T03:27:11.901433Z"
        },
        "trusted": true,
        "id": "HwUmEeUQsbVW",
        "outputId": "68ad4232-d0d6-4855-a0ab-8350017495ad"
      },
      "source": [
        "#info about all the columns in that dataset\n",
        "data.info()"
      ],
      "execution_count": null,
      "outputs": [
        {
          "output_type": "stream",
          "text": [
            "<class 'pandas.core.frame.DataFrame'>\n",
            "RangeIndex: 1296675 entries, 0 to 1296674\n",
            "Data columns (total 23 columns):\n",
            " #   Column                 Non-Null Count    Dtype  \n",
            "---  ------                 --------------    -----  \n",
            " 0   Unnamed: 0             1296675 non-null  int64  \n",
            " 1   trans_date_trans_time  1296675 non-null  object \n",
            " 2   cc_num                 1296675 non-null  int64  \n",
            " 3   merchant               1296675 non-null  object \n",
            " 4   category               1296675 non-null  object \n",
            " 5   amt                    1296675 non-null  float64\n",
            " 6   first                  1296675 non-null  object \n",
            " 7   last                   1296675 non-null  object \n",
            " 8   gender                 1296675 non-null  object \n",
            " 9   street                 1296675 non-null  object \n",
            " 10  city                   1296675 non-null  object \n",
            " 11  state                  1296675 non-null  object \n",
            " 12  zip                    1296675 non-null  int64  \n",
            " 13  lat                    1296675 non-null  float64\n",
            " 14  long                   1296675 non-null  float64\n",
            " 15  city_pop               1296675 non-null  int64  \n",
            " 16  job                    1296675 non-null  object \n",
            " 17  dob                    1296675 non-null  object \n",
            " 18  trans_num              1296675 non-null  object \n",
            " 19  unix_time              1296675 non-null  int64  \n",
            " 20  merch_lat              1296675 non-null  float64\n",
            " 21  merch_long             1296675 non-null  float64\n",
            " 22  is_fraud               1296675 non-null  int64  \n",
            "dtypes: float64(5), int64(6), object(12)\n",
            "memory usage: 227.5+ MB\n"
          ],
          "name": "stdout"
        }
      ]
    },
    {
      "cell_type": "code",
      "metadata": {
        "execution": {
          "iopub.status.busy": "2021-06-22T03:27:16.781805Z",
          "iopub.execute_input": "2021-06-22T03:27:16.782147Z",
          "iopub.status.idle": "2021-06-22T03:27:16.788915Z",
          "shell.execute_reply.started": "2021-06-22T03:27:16.782100Z",
          "shell.execute_reply": "2021-06-22T03:27:16.787503Z"
        },
        "trusted": true,
        "id": "Q9VzNiGdsbVX",
        "outputId": "bbde8631-14a5-4232-e6e0-486747279297"
      },
      "source": [
        "#length of the dataset\n",
        "len(data)"
      ],
      "execution_count": null,
      "outputs": [
        {
          "output_type": "execute_result",
          "data": {
            "text/plain": [
              "1296675"
            ]
          },
          "metadata": {
            "tags": []
          },
          "execution_count": 11
        }
      ]
    },
    {
      "cell_type": "code",
      "metadata": {
        "execution": {
          "iopub.status.busy": "2021-06-22T03:29:08.179745Z",
          "iopub.execute_input": "2021-06-22T03:29:08.180118Z",
          "iopub.status.idle": "2021-06-22T03:29:08.186356Z",
          "shell.execute_reply.started": "2021-06-22T03:29:08.180087Z",
          "shell.execute_reply": "2021-06-22T03:29:08.185491Z"
        },
        "trusted": true,
        "id": "X9sCJHWSsbVZ",
        "outputId": "8605613e-08db-4319-c28e-5397c35f8240"
      },
      "source": [
        "#columns in the dataset\n",
        "data.columns"
      ],
      "execution_count": null,
      "outputs": [
        {
          "output_type": "execute_result",
          "data": {
            "text/plain": [
              "Index(['Unnamed: 0', 'trans_date_trans_time', 'cc_num', 'merchant', 'category',\n",
              "       'amt', 'first', 'last', 'gender', 'street', 'city', 'state', 'zip',\n",
              "       'lat', 'long', 'city_pop', 'job', 'dob', 'trans_num', 'unix_time',\n",
              "       'merch_lat', 'merch_long', 'is_fraud'],\n",
              "      dtype='object')"
            ]
          },
          "metadata": {
            "tags": []
          },
          "execution_count": 12
        }
      ]
    },
    {
      "cell_type": "code",
      "metadata": {
        "execution": {
          "iopub.status.busy": "2021-06-22T03:36:37.038900Z",
          "iopub.execute_input": "2021-06-22T03:36:37.039542Z",
          "iopub.status.idle": "2021-06-22T03:36:37.071421Z",
          "shell.execute_reply.started": "2021-06-22T03:36:37.039505Z",
          "shell.execute_reply": "2021-06-22T03:36:37.070493Z"
        },
        "trusted": true,
        "id": "hVG6emI_sbVa"
      },
      "source": [
        "#droping some components which are not used in pca analysis for the dataset\n",
        "pca_data = data.drop(['Unnamed: 0','trans_num','city_pop','job','dob','category','cc_num','trans_date_trans_time','merchant','gender','first','last','state','city','street','zip'],axis=1)"
      ],
      "execution_count": null,
      "outputs": []
    },
    {
      "cell_type": "code",
      "metadata": {
        "execution": {
          "iopub.status.busy": "2021-06-22T03:36:41.678260Z",
          "iopub.execute_input": "2021-06-22T03:36:41.678925Z",
          "iopub.status.idle": "2021-06-22T03:36:41.684575Z",
          "shell.execute_reply.started": "2021-06-22T03:36:41.678888Z",
          "shell.execute_reply": "2021-06-22T03:36:41.683670Z"
        },
        "trusted": true,
        "id": "ZEGKQkxYsbVb",
        "outputId": "8a6c876f-2c87-4311-ac13-d4e41f8ab911"
      },
      "source": [
        "#the remaining columns to be used \n",
        "pca_data.columns"
      ],
      "execution_count": null,
      "outputs": [
        {
          "output_type": "execute_result",
          "data": {
            "text/plain": [
              "Index(['amt', 'lat', 'long', 'unix_time', 'merch_lat', 'merch_long',\n",
              "       'is_fraud'],\n",
              "      dtype='object')"
            ]
          },
          "metadata": {
            "tags": []
          },
          "execution_count": 25
        }
      ]
    },
    {
      "cell_type": "code",
      "metadata": {
        "execution": {
          "iopub.status.busy": "2021-06-22T03:36:45.438286Z",
          "iopub.execute_input": "2021-06-22T03:36:45.439043Z",
          "iopub.status.idle": "2021-06-22T03:36:45.470953Z",
          "shell.execute_reply.started": "2021-06-22T03:36:45.438989Z",
          "shell.execute_reply": "2021-06-22T03:36:45.469857Z"
        },
        "trusted": true,
        "id": "7D8XJobLsbVc",
        "outputId": "5830e2a4-d167-48ff-f5e0-aad4327fcccc"
      },
      "source": [
        "pca_data.info()"
      ],
      "execution_count": null,
      "outputs": [
        {
          "output_type": "stream",
          "text": [
            "<class 'pandas.core.frame.DataFrame'>\n",
            "RangeIndex: 1296675 entries, 0 to 1296674\n",
            "Data columns (total 7 columns):\n",
            " #   Column      Non-Null Count    Dtype  \n",
            "---  ------      --------------    -----  \n",
            " 0   amt         1296675 non-null  float64\n",
            " 1   lat         1296675 non-null  float64\n",
            " 2   long        1296675 non-null  float64\n",
            " 3   unix_time   1296675 non-null  int64  \n",
            " 4   merch_lat   1296675 non-null  float64\n",
            " 5   merch_long  1296675 non-null  float64\n",
            " 6   is_fraud    1296675 non-null  int64  \n",
            "dtypes: float64(5), int64(2)\n",
            "memory usage: 69.3 MB\n"
          ],
          "name": "stdout"
        }
      ]
    },
    {
      "cell_type": "code",
      "metadata": {
        "execution": {
          "iopub.status.busy": "2021-06-22T03:39:12.379404Z",
          "iopub.execute_input": "2021-06-22T03:39:12.379935Z",
          "iopub.status.idle": "2021-06-22T03:39:12.409241Z",
          "shell.execute_reply.started": "2021-06-22T03:39:12.379887Z",
          "shell.execute_reply": "2021-06-22T03:39:12.408394Z"
        },
        "trusted": true,
        "id": "o6l_ueUIsbVd"
      },
      "source": [
        "#splitting the dataset\n",
        "pca_train=pca_data.drop('is_fraud',axis=1)\n",
        "pca_test = pca_data['is_fraud']"
      ],
      "execution_count": null,
      "outputs": []
    },
    {
      "cell_type": "code",
      "metadata": {
        "execution": {
          "iopub.status.busy": "2021-06-22T03:39:41.439179Z",
          "iopub.execute_input": "2021-06-22T03:39:41.439503Z",
          "iopub.status.idle": "2021-06-22T03:39:41.452635Z",
          "shell.execute_reply.started": "2021-06-22T03:39:41.439474Z",
          "shell.execute_reply": "2021-06-22T03:39:41.451603Z"
        },
        "trusted": true,
        "id": "sU8vjoLssbVe",
        "outputId": "e0516a2e-e345-4937-ac8a-0e5ef42e106d"
      },
      "source": [
        "pca_train.head()\n"
      ],
      "execution_count": null,
      "outputs": [
        {
          "output_type": "execute_result",
          "data": {
            "text/plain": [
              "      amt      lat      long   unix_time  merch_lat  merch_long\n",
              "0    4.97  36.0788  -81.1781  1325376018  36.011293  -82.048315\n",
              "1  107.23  48.8878 -118.2105  1325376044  49.159047 -118.186462\n",
              "2  220.11  42.1808 -112.2620  1325376051  43.150704 -112.154481\n",
              "3   45.00  46.2306 -112.1138  1325376076  47.034331 -112.561071\n",
              "4   41.96  38.4207  -79.4629  1325376186  38.674999  -78.632459"
            ],
            "text/html": [
              "<div>\n",
              "<style scoped>\n",
              "    .dataframe tbody tr th:only-of-type {\n",
              "        vertical-align: middle;\n",
              "    }\n",
              "\n",
              "    .dataframe tbody tr th {\n",
              "        vertical-align: top;\n",
              "    }\n",
              "\n",
              "    .dataframe thead th {\n",
              "        text-align: right;\n",
              "    }\n",
              "</style>\n",
              "<table border=\"1\" class=\"dataframe\">\n",
              "  <thead>\n",
              "    <tr style=\"text-align: right;\">\n",
              "      <th></th>\n",
              "      <th>amt</th>\n",
              "      <th>lat</th>\n",
              "      <th>long</th>\n",
              "      <th>unix_time</th>\n",
              "      <th>merch_lat</th>\n",
              "      <th>merch_long</th>\n",
              "    </tr>\n",
              "  </thead>\n",
              "  <tbody>\n",
              "    <tr>\n",
              "      <th>0</th>\n",
              "      <td>4.97</td>\n",
              "      <td>36.0788</td>\n",
              "      <td>-81.1781</td>\n",
              "      <td>1325376018</td>\n",
              "      <td>36.011293</td>\n",
              "      <td>-82.048315</td>\n",
              "    </tr>\n",
              "    <tr>\n",
              "      <th>1</th>\n",
              "      <td>107.23</td>\n",
              "      <td>48.8878</td>\n",
              "      <td>-118.2105</td>\n",
              "      <td>1325376044</td>\n",
              "      <td>49.159047</td>\n",
              "      <td>-118.186462</td>\n",
              "    </tr>\n",
              "    <tr>\n",
              "      <th>2</th>\n",
              "      <td>220.11</td>\n",
              "      <td>42.1808</td>\n",
              "      <td>-112.2620</td>\n",
              "      <td>1325376051</td>\n",
              "      <td>43.150704</td>\n",
              "      <td>-112.154481</td>\n",
              "    </tr>\n",
              "    <tr>\n",
              "      <th>3</th>\n",
              "      <td>45.00</td>\n",
              "      <td>46.2306</td>\n",
              "      <td>-112.1138</td>\n",
              "      <td>1325376076</td>\n",
              "      <td>47.034331</td>\n",
              "      <td>-112.561071</td>\n",
              "    </tr>\n",
              "    <tr>\n",
              "      <th>4</th>\n",
              "      <td>41.96</td>\n",
              "      <td>38.4207</td>\n",
              "      <td>-79.4629</td>\n",
              "      <td>1325376186</td>\n",
              "      <td>38.674999</td>\n",
              "      <td>-78.632459</td>\n",
              "    </tr>\n",
              "  </tbody>\n",
              "</table>\n",
              "</div>"
            ]
          },
          "metadata": {
            "tags": []
          },
          "execution_count": 38
        }
      ]
    },
    {
      "cell_type": "code",
      "metadata": {
        "execution": {
          "iopub.status.busy": "2021-06-22T03:39:53.044001Z",
          "iopub.execute_input": "2021-06-22T03:39:53.044340Z",
          "iopub.status.idle": "2021-06-22T03:39:53.051374Z",
          "shell.execute_reply.started": "2021-06-22T03:39:53.044308Z",
          "shell.execute_reply": "2021-06-22T03:39:53.050341Z"
        },
        "trusted": true,
        "id": "4RVwN2YFsbVe",
        "outputId": "c882e404-9d7f-4df1-f1ee-8b62c6b14098"
      },
      "source": [
        "pca_test.head()"
      ],
      "execution_count": null,
      "outputs": [
        {
          "output_type": "execute_result",
          "data": {
            "text/plain": [
              "0    0\n",
              "1    0\n",
              "2    0\n",
              "3    0\n",
              "4    0\n",
              "Name: is_fraud, dtype: int64"
            ]
          },
          "metadata": {
            "tags": []
          },
          "execution_count": 39
        }
      ]
    },
    {
      "cell_type": "markdown",
      "metadata": {
        "id": "frUTf2wosbVj"
      },
      "source": [
        "# **PCA Analysis on the dataset**"
      ]
    },
    {
      "cell_type": "code",
      "metadata": {
        "execution": {
          "iopub.status.busy": "2021-06-22T03:41:28.709744Z",
          "iopub.execute_input": "2021-06-22T03:41:28.710169Z",
          "iopub.status.idle": "2021-06-22T03:41:28.907793Z",
          "shell.execute_reply.started": "2021-06-22T03:41:28.710122Z",
          "shell.execute_reply": "2021-06-22T03:41:28.906886Z"
        },
        "trusted": true,
        "id": "-34VLuygsbVk"
      },
      "source": [
        "#importing standard scaler library\n",
        "from sklearn.preprocessing import StandardScaler"
      ],
      "execution_count": null,
      "outputs": []
    },
    {
      "cell_type": "code",
      "metadata": {
        "execution": {
          "iopub.status.busy": "2021-06-22T03:43:09.739355Z",
          "iopub.execute_input": "2021-06-22T03:43:09.739840Z",
          "iopub.status.idle": "2021-06-22T03:43:09.967165Z",
          "shell.execute_reply.started": "2021-06-22T03:43:09.739808Z",
          "shell.execute_reply": "2021-06-22T03:43:09.966294Z"
        },
        "trusted": true,
        "id": "AbOZQGV9sbVl"
      },
      "source": [
        "#applying standard scaler to the dataset\n",
        "scaler = StandardScaler()\n",
        "scaler.fit(pca_train)\n",
        "scaled = scaler.transform(pca_train)"
      ],
      "execution_count": null,
      "outputs": []
    },
    {
      "cell_type": "code",
      "metadata": {
        "execution": {
          "iopub.status.busy": "2021-06-22T03:44:09.799109Z",
          "iopub.execute_input": "2021-06-22T03:44:09.799581Z",
          "iopub.status.idle": "2021-06-22T03:44:09.806511Z",
          "shell.execute_reply.started": "2021-06-22T03:44:09.799542Z",
          "shell.execute_reply": "2021-06-22T03:44:09.805433Z"
        },
        "trusted": true,
        "id": "lPgyNnKNsbVn",
        "outputId": "05d5802c-eb38-4fa7-a45f-f301b2cdd212"
      },
      "source": [
        "display(scaled)"
      ],
      "execution_count": null,
      "outputs": [
        {
          "output_type": "display_data",
          "data": {
            "text/plain": [
              "array([[-0.40782607, -0.48441989,  0.65761961, -1.85866447, -0.49435433,\n",
              "         0.59386386],\n",
              "       [ 0.23003923,  2.03911997, -2.03387012, -1.85866244,  2.07869921,\n",
              "        -2.03034087],\n",
              "       [ 0.93414872,  0.7177536 , -1.60153717, -1.8586619 ,  0.90284908,\n",
              "        -1.59232303],\n",
              "       ...,\n",
              "       [ 0.22193025, -1.10288318, -1.13325703,  1.75785644, -0.96243261,\n",
              "        -1.08227231],\n",
              "       [ 0.02837499,  0.94861347, -0.89502874,  1.75786142,  0.83205082,\n",
              "        -0.94507404],\n",
              "       [-0.41200532,  1.43931381, -1.71875438,  1.7578615 ,  1.57122907,\n",
              "        -1.73985164]])"
            ]
          },
          "metadata": {
            "tags": []
          }
        }
      ]
    },
    {
      "cell_type": "code",
      "metadata": {
        "execution": {
          "iopub.status.busy": "2021-06-22T03:44:51.698548Z",
          "iopub.execute_input": "2021-06-22T03:44:51.698879Z",
          "iopub.status.idle": "2021-06-22T03:44:51.889962Z",
          "shell.execute_reply.started": "2021-06-22T03:44:51.698852Z",
          "shell.execute_reply": "2021-06-22T03:44:51.889239Z"
        },
        "trusted": true,
        "id": "eGmYjCnwsbVo"
      },
      "source": [
        "#import PCA from sklearn\n",
        "from sklearn.decomposition import PCA"
      ],
      "execution_count": null,
      "outputs": []
    },
    {
      "cell_type": "code",
      "metadata": {
        "execution": {
          "iopub.status.busy": "2021-06-22T03:45:39.799522Z",
          "iopub.execute_input": "2021-06-22T03:45:39.799897Z",
          "iopub.status.idle": "2021-06-22T03:45:41.994498Z",
          "shell.execute_reply.started": "2021-06-22T03:45:39.799866Z",
          "shell.execute_reply": "2021-06-22T03:45:41.992813Z"
        },
        "trusted": true,
        "id": "tdtJ6VQSsbVp"
      },
      "source": [
        "#Fitting the dataset in the PCA\n",
        "pca = PCA(n_components=2)\n",
        "pca.fit(scaled)\n",
        "scaled_data = pca.transform(scaled)"
      ],
      "execution_count": null,
      "outputs": []
    },
    {
      "cell_type": "code",
      "metadata": {
        "execution": {
          "iopub.status.busy": "2021-06-22T03:46:42.799445Z",
          "iopub.execute_input": "2021-06-22T03:46:42.799804Z",
          "iopub.status.idle": "2021-06-22T03:47:11.328756Z",
          "shell.execute_reply.started": "2021-06-22T03:46:42.799772Z",
          "shell.execute_reply": "2021-06-22T03:47:11.327823Z"
        },
        "trusted": true,
        "id": "ol632j2isbVp",
        "outputId": "faf0ffe6-f2b7-4aa4-fbe1-8e565eec911f"
      },
      "source": [
        "#1st vs 2nd principle components\n",
        "sns.scatterplot(x=scaled_data[:,0],y=scaled_data[:,1],hue=pca_test)"
      ],
      "execution_count": null,
      "outputs": [
        {
          "output_type": "execute_result",
          "data": {
            "text/plain": [
              "<AxesSubplot:>"
            ]
          },
          "metadata": {
            "tags": []
          },
          "execution_count": 49
        },
        {
          "output_type": "display_data",
          "data": {
            "text/plain": [
              "<Figure size 432x288 with 1 Axes>"
            ],
            "image/png": "[encoded data removed]"
          },
          "metadata": {
            "tags": [],
            "needs_background": "light"
          }
        }
      ]
    },
    {
      "cell_type": "markdown",
      "metadata": {
        "id": "Or46Js16sbVr"
      },
      "source": [
        "a class is there based on not fraud data but no clear class based on fraud data"
      ]
    },
    {
      "cell_type": "code",
      "metadata": {
        "execution": {
          "iopub.status.busy": "2021-06-22T03:51:04.849046Z",
          "iopub.execute_input": "2021-06-22T03:51:04.849364Z",
          "iopub.status.idle": "2021-06-22T03:51:04.966478Z",
          "shell.execute_reply.started": "2021-06-22T03:51:04.849336Z",
          "shell.execute_reply": "2021-06-22T03:51:04.965802Z"
        },
        "trusted": true,
        "id": "h6mPHk2WsbVr"
      },
      "source": [
        "from sklearn.manifold import TSNE"
      ],
      "execution_count": null,
      "outputs": []
    },
    {
      "cell_type": "code",
      "metadata": {
        "execution": {
          "iopub.status.busy": "2021-06-22T04:02:01.408012Z",
          "iopub.execute_input": "2021-06-22T04:02:01.408602Z",
          "iopub.status.idle": "2021-06-22T04:02:01.587856Z",
          "shell.execute_reply.started": "2021-06-22T04:02:01.408553Z",
          "shell.execute_reply": "2021-06-22T04:02:01.587093Z"
        },
        "trusted": true,
        "id": "t8hJazX3sbVr",
        "outputId": "be724b57-a63b-4b92-9320-9d4e22d761b0"
      },
      "source": [
        "#heatmap shows co relations between different columns \n",
        "plt.figure(figsize=(10,3))\n",
        "sns.heatmap(pca.components_,cmap='viridis',yticklabels=['FirstFeature','SecondFeature'],xticklabels=pca_data.columns)"
      ],
      "execution_count": null,
      "outputs": [
        {
          "output_type": "execute_result",
          "data": {
            "text/plain": [
              "<AxesSubplot:>"
            ]
          },
          "metadata": {
            "tags": []
          },
          "execution_count": 55
        },
        {
          "output_type": "display_data",
          "data": {
            "text/plain": [
              "<Figure size 720x216 with 2 Axes>"
            ],
            "image/png": "[encoded data removed]"
          },
          "metadata": {
            "tags": [],
            "needs_background": "light"
          }
        }
      ]
    },
    {
      "cell_type": "markdown",
      "metadata": {
        "id": "ucR9JgtKsbVs"
      },
      "source": [
        "we can see here that if the lat and long has a different directions and the amt and unix time have same direction"
      ]
    },
    {
      "cell_type": "markdown",
      "metadata": {
        "id": "0nSEWx_MsbVt"
      },
      "source": [
        "# **Rule based on distance between the last two transactions and time difference**"
      ]
    },
    {
      "cell_type": "code",
      "metadata": {
        "execution": {
          "iopub.status.busy": "2021-06-22T04:04:45.763539Z",
          "iopub.execute_input": "2021-06-22T04:04:45.766325Z",
          "iopub.status.idle": "2021-06-22T04:04:45.794925Z",
          "shell.execute_reply.started": "2021-06-22T04:04:45.766269Z",
          "shell.execute_reply": "2021-06-22T04:04:45.794013Z"
        },
        "trusted": true,
        "id": "lz22AlkUsbVt",
        "outputId": "ad12d9e2-1431-461c-8c35-f39ba8fc5aca"
      },
      "source": [
        "len(data['cc_num'].unique())"
      ],
      "execution_count": null,
      "outputs": [
        {
          "output_type": "execute_result",
          "data": {
            "text/plain": [
              "983"
            ]
          },
          "metadata": {
            "tags": []
          },
          "execution_count": 57
        }
      ]
    },
    {
      "cell_type": "code",
      "metadata": {
        "execution": {
          "iopub.status.busy": "2021-06-22T04:05:51.428586Z",
          "iopub.execute_input": "2021-06-22T04:05:51.429096Z",
          "iopub.status.idle": "2021-06-22T04:05:51.463352Z",
          "shell.execute_reply.started": "2021-06-22T04:05:51.429063Z",
          "shell.execute_reply": "2021-06-22T04:05:51.462027Z"
        },
        "trusted": true,
        "id": "iT0kgicAsbVu",
        "outputId": "fd347387-57c4-4ee6-ee29-b1dbb62b82d9"
      },
      "source": [
        "#unique cards \n",
        "unique_cards=data.groupby([\"cc_num\"]).size().to_frame(\"no of time\").reset_index()\n",
        "unique_cards"
      ],
      "execution_count": null,
      "outputs": [
        {
          "output_type": "execute_result",
          "data": {
            "text/plain": [
              "                  cc_num  no of time\n",
              "0            60416207185        1518\n",
              "1            60422928733        1531\n",
              "2            60423098130         510\n",
              "3            60427851591         528\n",
              "4            60487002085         496\n",
              "..                   ...         ...\n",
              "978  4958589671582726883        1476\n",
              "979  4973530368125489546        1040\n",
              "980  4980323467523543940         532\n",
              "981  4989847570577635369        1007\n",
              "982  4992346398065154184        2059\n",
              "\n",
              "[983 rows x 2 columns]"
            ],
            "text/html": [
              "<div>\n",
              "<style scoped>\n",
              "    .dataframe tbody tr th:only-of-type {\n",
              "        vertical-align: middle;\n",
              "    }\n",
              "\n",
              "    .dataframe tbody tr th {\n",
              "        vertical-align: top;\n",
              "    }\n",
              "\n",
              "    .dataframe thead th {\n",
              "        text-align: right;\n",
              "    }\n",
              "</style>\n",
              "<table border=\"1\" class=\"dataframe\">\n",
              "  <thead>\n",
              "    <tr style=\"text-align: right;\">\n",
              "      <th></th>\n",
              "      <th>cc_num</th>\n",
              "      <th>no of time</th>\n",
              "    </tr>\n",
              "  </thead>\n",
              "  <tbody>\n",
              "    <tr>\n",
              "      <th>0</th>\n",
              "      <td>60416207185</td>\n",
              "      <td>1518</td>\n",
              "    </tr>\n",
              "    <tr>\n",
              "      <th>1</th>\n",
              "      <td>60422928733</td>\n",
              "      <td>1531</td>\n",
              "    </tr>\n",
              "    <tr>\n",
              "      <th>2</th>\n",
              "      <td>60423098130</td>\n",
              "      <td>510</td>\n",
              "    </tr>\n",
              "    <tr>\n",
              "      <th>3</th>\n",
              "      <td>60427851591</td>\n",
              "      <td>528</td>\n",
              "    </tr>\n",
              "    <tr>\n",
              "      <th>4</th>\n",
              "      <td>60487002085</td>\n",
              "      <td>496</td>\n",
              "    </tr>\n",
              "    <tr>\n",
              "      <th>...</th>\n",
              "      <td>...</td>\n",
              "      <td>...</td>\n",
              "    </tr>\n",
              "    <tr>\n",
              "      <th>978</th>\n",
              "      <td>4958589671582726883</td>\n",
              "      <td>1476</td>\n",
              "    </tr>\n",
              "    <tr>\n",
              "      <th>979</th>\n",
              "      <td>4973530368125489546</td>\n",
              "      <td>1040</td>\n",
              "    </tr>\n",
              "    <tr>\n",
              "      <th>980</th>\n",
              "      <td>4980323467523543940</td>\n",
              "      <td>532</td>\n",
              "    </tr>\n",
              "    <tr>\n",
              "      <th>981</th>\n",
              "      <td>4989847570577635369</td>\n",
              "      <td>1007</td>\n",
              "    </tr>\n",
              "    <tr>\n",
              "      <th>982</th>\n",
              "      <td>4992346398065154184</td>\n",
              "      <td>2059</td>\n",
              "    </tr>\n",
              "  </tbody>\n",
              "</table>\n",
              "<p>983 rows × 2 columns</p>\n",
              "</div>"
            ]
          },
          "metadata": {
            "tags": []
          },
          "execution_count": 60
        }
      ]
    },
    {
      "cell_type": "code",
      "metadata": {
        "execution": {
          "iopub.status.busy": "2021-06-22T05:02:11.249401Z",
          "iopub.execute_input": "2021-06-22T05:02:11.249745Z",
          "iopub.status.idle": "2021-06-22T05:02:11.255982Z",
          "shell.execute_reply.started": "2021-06-22T05:02:11.249709Z",
          "shell.execute_reply": "2021-06-22T05:02:11.254772Z"
        },
        "trusted": true,
        "id": "NDrMlfzjsbVu"
      },
      "source": [
        "#function to calculate speed from the lat and long of two place\n",
        "def getSpeed(lat1,lat2,lon1,lon2,time):\n",
        "  rad = 6371 #radious of the earth is 6371\n",
        "\n",
        "  #converting to radians for different \n",
        "  lat1=np.radians(lat1)  \n",
        "  lat2=np.radians(lat2)\n",
        "  lon1=np.radians(lon1)\n",
        "  lon2=np.radians(lon2)\n",
        "\n",
        "  #difference between two places latitude and longitude\n",
        "  dlat = lat2-lat1\n",
        "  dlon = lon2-lon1\n",
        "\n",
        "  #formula to claculate the distance between two place\n",
        "  a = np.sin(dlat/2)**2+np.cos(lat1)*np.cos(lat2)*np.sin(dlon/2)**2\n",
        "\n",
        "  c = np.sqrt(a)\n",
        "  #distance / time = speed , returning the speed for the   \n",
        "  return c*rad/time"
      ],
      "execution_count": null,
      "outputs": []
    },
    {
      "cell_type": "code",
      "metadata": {
        "execution": {
          "iopub.status.busy": "2021-06-22T04:06:49.108122Z",
          "iopub.execute_input": "2021-06-22T04:06:49.108448Z",
          "iopub.status.idle": "2021-06-22T04:06:49.114456Z",
          "shell.execute_reply.started": "2021-06-22T04:06:49.108420Z",
          "shell.execute_reply": "2021-06-22T04:06:49.113282Z"
        },
        "trusted": true,
        "id": "80_ltLFlsbVv"
      },
      "source": [
        "data['speed']=0.0 #creating a new column with speed field "
      ],
      "execution_count": null,
      "outputs": []
    },
    {
      "cell_type": "code",
      "metadata": {
        "execution": {
          "iopub.status.busy": "2021-06-22T04:07:22.943605Z",
          "iopub.execute_input": "2021-06-22T04:07:22.943957Z",
          "iopub.status.idle": "2021-06-22T04:07:32.266152Z",
          "shell.execute_reply.started": "2021-06-22T04:07:22.943928Z",
          "shell.execute_reply": "2021-06-22T04:07:32.265358Z"
        },
        "trusted": true,
        "id": "LSZW-uk3sbVv"
      },
      "source": [
        "speed={}  #creating a empty dictionary\n",
        "\n",
        "#checking each card number and making a directory with key as card number and value as a list of speed which is calculated as \n",
        "#distance between the last two transaction / the time difference between last two transaction\n",
        "for num in unique_cards.cc_num:  \n",
        "\n",
        "  each_card = data[data.cc_num ==num]\n",
        "  i =0 \n",
        "  time_diff=(each_card.unix_time-each_card.unix_time.shift(1))/3600\n",
        "\n",
        "  speed_approx = getDistance(each_card.merch_lat.shift(1),each_card.merch_lat,each_card.merch_long.shift(1),each_card.merch_long,time_diff).tolist()\n",
        "  speed[num]=speed_approx\n"
      ],
      "execution_count": null,
      "outputs": []
    },
    {
      "cell_type": "code",
      "metadata": {
        "execution": {
          "iopub.status.busy": "2021-06-22T04:10:17.132773Z",
          "iopub.execute_input": "2021-06-22T04:10:17.133341Z",
          "iopub.status.idle": "2021-06-22T04:27:48.339950Z",
          "shell.execute_reply.started": "2021-06-22T04:10:17.133305Z",
          "shell.execute_reply": "2021-06-22T04:27:48.338883Z"
        },
        "trusted": true,
        "id": "pj8B7AqGsbVw"
      },
      "source": [
        "#adding the speed to each customer row \n",
        "\n",
        "#creating an empty dataframe with same column as the main dataframe\n",
        "df_cols = data.columns\n",
        "df = pd.DataFrame(columns=df_cols)\n",
        "\n",
        "#retrive all the transactions card numberwise and retrive the speed from the speed dictionary and append those values in the speed fields\n",
        "for card in unique_cards.cc_num:\n",
        "    dataSet =data[data.cc_num == card]\n",
        "    speedlist = speed[card]\n",
        "    i=0\n",
        "    for index in dataSet['Unnamed: 0']:\n",
        "      dataSet.at[index,'speed']=speedlist[i]\n",
        "      i+=1\n",
        "    #print(len(speedlist),len(dataSet))\n",
        "    #display(dataSet.head())\n",
        "    df=df.append(dataSet)"
      ],
      "execution_count": null,
      "outputs": []
    },
    {
      "cell_type": "code",
      "metadata": {
        "execution": {
          "iopub.status.busy": "2021-06-22T04:32:02.279069Z",
          "iopub.execute_input": "2021-06-22T04:32:02.279411Z",
          "iopub.status.idle": "2021-06-22T04:32:02.316580Z",
          "shell.execute_reply.started": "2021-06-22T04:32:02.279382Z",
          "shell.execute_reply": "2021-06-22T04:32:02.315717Z"
        },
        "trusted": true,
        "id": "3ql_OeEosbVx",
        "outputId": "6beb67c3-bf70-4e9e-b352-4afc8ff66ff1"
      },
      "source": [
        "df['speed']=df['speed'].fillna(0) #filling the NaN values with \n",
        "df.head()"
      ],
      "execution_count": null,
      "outputs": [
        {
          "output_type": "execute_result",
          "data": {
            "text/plain": [
              "     Unnamed: 0 trans_date_trans_time       cc_num  \\\n",
              "1017       1017   2019-01-01 12:47:15  60416207185   \n",
              "2724       2724   2019-01-02 08:44:57  60416207185   \n",
              "2726       2726   2019-01-02 08:47:36  60416207185   \n",
              "2882       2882   2019-01-02 12:38:14  60416207185   \n",
              "2907       2907   2019-01-02 13:10:46  60416207185   \n",
              "\n",
              "                               merchant       category    amt first  last  \\\n",
              "1017  fraud_Jones, Sawayn and Romaguera       misc_net   7.27  Mary  Diaz   \n",
              "2724                    fraud_Berge LLC  gas_transport  52.94  Mary  Diaz   \n",
              "2726                 fraud_Luettgen PLC  gas_transport  82.08  Mary  Diaz   \n",
              "2882                fraud_Daugherty LLC      kids_pets  34.79  Mary  Diaz   \n",
              "2907               fraud_Beier and Sons           home  27.18  Mary  Diaz   \n",
              "\n",
              "     gender            street  ...      long city_pop  \\\n",
              "1017      F  9886 Anita Drive  ... -108.8964     1645   \n",
              "2724      F  9886 Anita Drive  ... -108.8964     1645   \n",
              "2726      F  9886 Anita Drive  ... -108.8964     1645   \n",
              "2882      F  9886 Anita Drive  ... -108.8964     1645   \n",
              "2907      F  9886 Anita Drive  ... -108.8964     1645   \n",
              "\n",
              "                              job         dob  \\\n",
              "1017  Information systems manager  1986-02-17   \n",
              "2724  Information systems manager  1986-02-17   \n",
              "2726  Information systems manager  1986-02-17   \n",
              "2882  Information systems manager  1986-02-17   \n",
              "2907  Information systems manager  1986-02-17   \n",
              "\n",
              "                             trans_num   unix_time  merch_lat  merch_long  \\\n",
              "1017  98e3dcf98101146a577f85a34e58feec  1325422035  43.974711 -109.741904   \n",
              "2724  498120fc45d277f7c88e3dba79c33865  1325493897  42.018766 -109.044172   \n",
              "2726  95f514bb993151347c7acdf8505c3d62  1325494056  42.961335 -109.157564   \n",
              "2882  4f0c1a14e0aa7eb56a490780ef9268c5  1325507894  42.228227 -108.747683   \n",
              "2907  3b2ebd3af508afba959640893e1e82bc  1325509846  43.321745 -108.091143   \n",
              "\n",
              "     is_fraud        speed  \n",
              "1017        0     0.000000  \n",
              "2724        0     5.629729  \n",
              "2726        0  1191.161239  \n",
              "2882        0    11.466458  \n",
              "2907        0   122.527590  \n",
              "\n",
              "[5 rows x 24 columns]"
            ],
            "text/html": [
              "<div>\n",
              "<style scoped>\n",
              "    .dataframe tbody tr th:only-of-type {\n",
              "        vertical-align: middle;\n",
              "    }\n",
              "\n",
              "    .dataframe tbody tr th {\n",
              "        vertical-align: top;\n",
              "    }\n",
              "\n",
              "    .dataframe thead th {\n",
              "        text-align: right;\n",
              "    }\n",
              "</style>\n",
              "<table border=\"1\" class=\"dataframe\">\n",
              "  <thead>\n",
              "    <tr style=\"text-align: right;\">\n",
              "      <th></th>\n",
              "      <th>Unnamed: 0</th>\n",
              "      <th>trans_date_trans_time</th>\n",
              "      <th>cc_num</th>\n",
              "      <th>merchant</th>\n",
              "      <th>category</th>\n",
              "      <th>amt</th>\n",
              "      <th>first</th>\n",
              "      <th>last</th>\n",
              "      <th>gender</th>\n",
              "      <th>street</th>\n",
              "      <th>...</th>\n",
              "      <th>long</th>\n",
              "      <th>city_pop</th>\n",
              "      <th>job</th>\n",
              "      <th>dob</th>\n",
              "      <th>trans_num</th>\n",
              "      <th>unix_time</th>\n",
              "      <th>merch_lat</th>\n",
              "      <th>merch_long</th>\n",
              "      <th>is_fraud</th>\n",
              "      <th>speed</th>\n",
              "    </tr>\n",
              "  </thead>\n",
              "  <tbody>\n",
              "    <tr>\n",
              "      <th>1017</th>\n",
              "      <td>1017</td>\n",
              "      <td>2019-01-01 12:47:15</td>\n",
              "      <td>60416207185</td>\n",
              "      <td>fraud_Jones, Sawayn and Romaguera</td>\n",
              "      <td>misc_net</td>\n",
              "      <td>7.27</td>\n",
              "      <td>Mary</td>\n",
              "      <td>Diaz</td>\n",
              "      <td>F</td>\n",
              "      <td>9886 Anita Drive</td>\n",
              "      <td>...</td>\n",
              "      <td>-108.8964</td>\n",
              "      <td>1645</td>\n",
              "      <td>Information systems manager</td>\n",
              "      <td>1986-02-17</td>\n",
              "      <td>98e3dcf98101146a577f85a34e58feec</td>\n",
              "      <td>1325422035</td>\n",
              "      <td>43.974711</td>\n",
              "      <td>-109.741904</td>\n",
              "      <td>0</td>\n",
              "      <td>0.000000</td>\n",
              "    </tr>\n",
              "    <tr>\n",
              "      <th>2724</th>\n",
              "      <td>2724</td>\n",
              "      <td>2019-01-02 08:44:57</td>\n",
              "      <td>60416207185</td>\n",
              "      <td>fraud_Berge LLC</td>\n",
              "      <td>gas_transport</td>\n",
              "      <td>52.94</td>\n",
              "      <td>Mary</td>\n",
              "      <td>Diaz</td>\n",
              "      <td>F</td>\n",
              "      <td>9886 Anita Drive</td>\n",
              "      <td>...</td>\n",
              "      <td>-108.8964</td>\n",
              "      <td>1645</td>\n",
              "      <td>Information systems manager</td>\n",
              "      <td>1986-02-17</td>\n",
              "      <td>498120fc45d277f7c88e3dba79c33865</td>\n",
              "      <td>1325493897</td>\n",
              "      <td>42.018766</td>\n",
              "      <td>-109.044172</td>\n",
              "      <td>0</td>\n",
              "      <td>5.629729</td>\n",
              "    </tr>\n",
              "    <tr>\n",
              "      <th>2726</th>\n",
              "      <td>2726</td>\n",
              "      <td>2019-01-02 08:47:36</td>\n",
              "      <td>60416207185</td>\n",
              "      <td>fraud_Luettgen PLC</td>\n",
              "      <td>gas_transport</td>\n",
              "      <td>82.08</td>\n",
              "      <td>Mary</td>\n",
              "      <td>Diaz</td>\n",
              "      <td>F</td>\n",
              "      <td>9886 Anita Drive</td>\n",
              "      <td>...</td>\n",
              "      <td>-108.8964</td>\n",
              "      <td>1645</td>\n",
              "      <td>Information systems manager</td>\n",
              "      <td>1986-02-17</td>\n",
              "      <td>95f514bb993151347c7acdf8505c3d62</td>\n",
              "      <td>1325494056</td>\n",
              "      <td>42.961335</td>\n",
              "      <td>-109.157564</td>\n",
              "      <td>0</td>\n",
              "      <td>1191.161239</td>\n",
              "    </tr>\n",
              "    <tr>\n",
              "      <th>2882</th>\n",
              "      <td>2882</td>\n",
              "      <td>2019-01-02 12:38:14</td>\n",
              "      <td>60416207185</td>\n",
              "      <td>fraud_Daugherty LLC</td>\n",
              "      <td>kids_pets</td>\n",
              "      <td>34.79</td>\n",
              "      <td>Mary</td>\n",
              "      <td>Diaz</td>\n",
              "      <td>F</td>\n",
              "      <td>9886 Anita Drive</td>\n",
              "      <td>...</td>\n",
              "      <td>-108.8964</td>\n",
              "      <td>1645</td>\n",
              "      <td>Information systems manager</td>\n",
              "      <td>1986-02-17</td>\n",
              "      <td>4f0c1a14e0aa7eb56a490780ef9268c5</td>\n",
              "      <td>1325507894</td>\n",
              "      <td>42.228227</td>\n",
              "      <td>-108.747683</td>\n",
              "      <td>0</td>\n",
              "      <td>11.466458</td>\n",
              "    </tr>\n",
              "    <tr>\n",
              "      <th>2907</th>\n",
              "      <td>2907</td>\n",
              "      <td>2019-01-02 13:10:46</td>\n",
              "      <td>60416207185</td>\n",
              "      <td>fraud_Beier and Sons</td>\n",
              "      <td>home</td>\n",
              "      <td>27.18</td>\n",
              "      <td>Mary</td>\n",
              "      <td>Diaz</td>\n",
              "      <td>F</td>\n",
              "      <td>9886 Anita Drive</td>\n",
              "      <td>...</td>\n",
              "      <td>-108.8964</td>\n",
              "      <td>1645</td>\n",
              "      <td>Information systems manager</td>\n",
              "      <td>1986-02-17</td>\n",
              "      <td>3b2ebd3af508afba959640893e1e82bc</td>\n",
              "      <td>1325509846</td>\n",
              "      <td>43.321745</td>\n",
              "      <td>-108.091143</td>\n",
              "      <td>0</td>\n",
              "      <td>122.527590</td>\n",
              "    </tr>\n",
              "  </tbody>\n",
              "</table>\n",
              "<p>5 rows × 24 columns</p>\n",
              "</div>"
            ]
          },
          "metadata": {
            "tags": []
          },
          "execution_count": 74
        }
      ]
    },
    {
      "cell_type": "code",
      "metadata": {
        "execution": {
          "iopub.status.busy": "2021-06-22T05:34:55.588676Z",
          "iopub.execute_input": "2021-06-22T05:34:55.589207Z",
          "iopub.status.idle": "2021-06-22T05:35:20.895330Z",
          "shell.execute_reply.started": "2021-06-22T05:34:55.589162Z",
          "shell.execute_reply": "2021-06-22T05:35:20.894271Z"
        },
        "trusted": true,
        "id": "0siMrIXssbVy",
        "outputId": "960b22d0-6506-455f-a3af-2a7663bb77a0"
      },
      "source": [
        "#plotting the amount vs speed \n",
        "scatterPlot=sns.scatterplot(x=\"amt\",y=\"speed\",hue=\"is_fraud\",data=df)\n",
        "#setting the x and y axis limits\n",
        "scatterPlot.set(xlim=(0,2000))\n",
        "scatterPlot.set(ylim=(0,140000))\n",
        "\n",
        "plt.show()"
      ],
      "execution_count": null,
      "outputs": [
        {
          "output_type": "display_data",
          "data": {
            "text/plain": [
              "<Figure size 432x288 with 1 Axes>"
            ],
            "image/png": "[encoded data removed]"
          },
          "metadata": {
            "tags": [],
            "needs_background": "light"
          }
        }
      ]
    },
    {
      "cell_type": "markdown",
      "metadata": {
        "id": "fBx9NHBfsbV1"
      },
      "source": [
        "we can clearly see that he fraud or not is not that much dependent of the speed of the distance between last two distance and the time difference"
      ]
    },
    {
      "cell_type": "code",
      "metadata": {
        "execution": {
          "iopub.status.busy": "2021-06-22T05:08:45.589178Z",
          "iopub.execute_input": "2021-06-22T05:08:45.589531Z",
          "iopub.status.idle": "2021-06-22T05:08:45.670605Z",
          "shell.execute_reply.started": "2021-06-22T05:08:45.589501Z",
          "shell.execute_reply": "2021-06-22T05:08:45.669676Z"
        },
        "trusted": true,
        "id": "NDUsZfKYsbV2",
        "outputId": "f988af01-7b51-4f6e-95b5-ab019655c4b8"
      },
      "source": [
        "#asumming that the max speed that it can achive is 900 km/h above which it would be decleared as a fraud \n",
        "#Checking our assumptions with the actual result  \n",
        "#we can see it is giving a very low accuracy\n",
        "\n",
        "each_data = df[df.is_fraud==1]\n",
        "len(each_data[each_data.speed > 900]) /len(each_data)"
      ],
      "execution_count": null,
      "outputs": [
        {
          "output_type": "execute_result",
          "data": {
            "text/plain": [
              "0.045563549160671464"
            ]
          },
          "metadata": {
            "tags": []
          },
          "execution_count": 118
        }
      ]
    },
    {
      "cell_type": "code",
      "metadata": {
        "execution": {
          "iopub.status.busy": "2021-06-22T06:56:33.039308Z",
          "iopub.execute_input": "2021-06-22T06:56:33.039680Z",
          "iopub.status.idle": "2021-06-22T06:56:33.054809Z",
          "shell.execute_reply.started": "2021-06-22T06:56:33.039644Z",
          "shell.execute_reply": "2021-06-22T06:56:33.053544Z"
        },
        "trusted": true,
        "id": "UlZTpbEfsbV3",
        "outputId": "d8004d6b-0688-4ee6-f841-974c5ff9399e"
      },
      "source": [
        "unique_cards #unique credit cards numbers and no of transactions each card"
      ],
      "execution_count": null,
      "outputs": [
        {
          "output_type": "execute_result",
          "data": {
            "text/plain": [
              "                  cc_num  no of time\n",
              "0            60416207185        1518\n",
              "1            60422928733        1531\n",
              "2            60423098130         510\n",
              "3            60427851591         528\n",
              "4            60487002085         496\n",
              "..                   ...         ...\n",
              "978  4958589671582726883        1476\n",
              "979  4973530368125489546        1040\n",
              "980  4980323467523543940         532\n",
              "981  4989847570577635369        1007\n",
              "982  4992346398065154184        2059\n",
              "\n",
              "[983 rows x 2 columns]"
            ],
            "text/html": [
              "<div>\n",
              "<style scoped>\n",
              "    .dataframe tbody tr th:only-of-type {\n",
              "        vertical-align: middle;\n",
              "    }\n",
              "\n",
              "    .dataframe tbody tr th {\n",
              "        vertical-align: top;\n",
              "    }\n",
              "\n",
              "    .dataframe thead th {\n",
              "        text-align: right;\n",
              "    }\n",
              "</style>\n",
              "<table border=\"1\" class=\"dataframe\">\n",
              "  <thead>\n",
              "    <tr style=\"text-align: right;\">\n",
              "      <th></th>\n",
              "      <th>cc_num</th>\n",
              "      <th>no of time</th>\n",
              "    </tr>\n",
              "  </thead>\n",
              "  <tbody>\n",
              "    <tr>\n",
              "      <th>0</th>\n",
              "      <td>60416207185</td>\n",
              "      <td>1518</td>\n",
              "    </tr>\n",
              "    <tr>\n",
              "      <th>1</th>\n",
              "      <td>60422928733</td>\n",
              "      <td>1531</td>\n",
              "    </tr>\n",
              "    <tr>\n",
              "      <th>2</th>\n",
              "      <td>60423098130</td>\n",
              "      <td>510</td>\n",
              "    </tr>\n",
              "    <tr>\n",
              "      <th>3</th>\n",
              "      <td>60427851591</td>\n",
              "      <td>528</td>\n",
              "    </tr>\n",
              "    <tr>\n",
              "      <th>4</th>\n",
              "      <td>60487002085</td>\n",
              "      <td>496</td>\n",
              "    </tr>\n",
              "    <tr>\n",
              "      <th>...</th>\n",
              "      <td>...</td>\n",
              "      <td>...</td>\n",
              "    </tr>\n",
              "    <tr>\n",
              "      <th>978</th>\n",
              "      <td>4958589671582726883</td>\n",
              "      <td>1476</td>\n",
              "    </tr>\n",
              "    <tr>\n",
              "      <th>979</th>\n",
              "      <td>4973530368125489546</td>\n",
              "      <td>1040</td>\n",
              "    </tr>\n",
              "    <tr>\n",
              "      <th>980</th>\n",
              "      <td>4980323467523543940</td>\n",
              "      <td>532</td>\n",
              "    </tr>\n",
              "    <tr>\n",
              "      <th>981</th>\n",
              "      <td>4989847570577635369</td>\n",
              "      <td>1007</td>\n",
              "    </tr>\n",
              "    <tr>\n",
              "      <th>982</th>\n",
              "      <td>4992346398065154184</td>\n",
              "      <td>2059</td>\n",
              "    </tr>\n",
              "  </tbody>\n",
              "</table>\n",
              "<p>983 rows × 2 columns</p>\n",
              "</div>"
            ]
          },
          "metadata": {
            "tags": []
          },
          "execution_count": 138
        }
      ]
    },
    {
      "cell_type": "code",
      "metadata": {
        "execution": {
          "iopub.status.busy": "2021-06-22T06:55:52.459943Z",
          "iopub.execute_input": "2021-06-22T06:55:52.460362Z",
          "iopub.status.idle": "2021-06-22T06:55:52.465334Z",
          "shell.execute_reply.started": "2021-06-22T06:55:52.460329Z",
          "shell.execute_reply": "2021-06-22T06:55:52.464220Z"
        },
        "trusted": true,
        "id": "d7DyA7KgsbV5"
      },
      "source": [
        "#declearning an empty directory for storing the accuracy socres of each credit card\n",
        "\n",
        "credit_score = []"
      ],
      "execution_count": null,
      "outputs": []
    },
    {
      "cell_type": "code",
      "metadata": {
        "execution": {
          "iopub.status.busy": "2021-06-22T07:07:50.528639Z",
          "iopub.execute_input": "2021-06-22T07:07:50.529262Z",
          "iopub.status.idle": "2021-06-22T07:08:59.401077Z",
          "shell.execute_reply.started": "2021-06-22T07:07:50.529216Z",
          "shell.execute_reply": "2021-06-22T07:08:59.400085Z"
        },
        "trusted": true,
        "id": "lEutO5WWsbV6"
      },
      "source": [
        "#checking the unique cards and there corresponding accuracy based on rules\n",
        "for num in unique_cards.cc_num:\n",
        "    each_card=df[df.cc_num==num]\n",
        "    each_card_fraud=each_card[each_card.is_fraud==1]\n",
        "    if len(each_card_fraud)!=0:\n",
        "        credit_score.append(len(each_card_fraud[each_card_fraud.speed > 900]) / len(each_card_fraud))"
      ],
      "execution_count": null,
      "outputs": []
    },
    {
      "cell_type": "code",
      "metadata": {
        "execution": {
          "iopub.status.busy": "2021-06-22T07:40:11.250260Z",
          "iopub.execute_input": "2021-06-22T07:40:11.250683Z",
          "iopub.status.idle": "2021-06-22T07:40:11.256994Z",
          "shell.execute_reply.started": "2021-06-22T07:40:11.250645Z",
          "shell.execute_reply": "2021-06-22T07:40:11.256298Z"
        },
        "trusted": true,
        "id": "ipLskVe3sbV7",
        "outputId": "efb8f6c1-7b4a-4825-b8fd-8d0d0f082c70"
      },
      "source": [
        "#the max accuracy for a individual credit card\n",
        "credit_score[np.argmax(np.array(credit_score))]"
      ],
      "execution_count": null,
      "outputs": [
        {
          "output_type": "execute_result",
          "data": {
            "text/plain": [
              "0.3333333333333333"
            ]
          },
          "metadata": {
            "tags": []
          },
          "execution_count": 155
        }
      ]
    },
    {
      "cell_type": "code",
      "metadata": {
        "execution": {
          "iopub.status.busy": "2021-06-22T07:24:54.650203Z",
          "iopub.execute_input": "2021-06-22T07:24:54.650574Z",
          "iopub.status.idle": "2021-06-22T07:24:54.657825Z",
          "shell.execute_reply.started": "2021-06-22T07:24:54.650538Z",
          "shell.execute_reply": "2021-06-22T07:24:54.656590Z"
        },
        "trusted": true,
        "id": "SjdZM1ZDsbV7",
        "outputId": "1a31dae3-b5ea-42f6-fd1a-98e1f2ab0728"
      },
      "source": [
        ""
      ],
      "execution_count": null,
      "outputs": [
        {
          "output_type": "execute_result",
          "data": {
            "text/plain": [
              "0.3333333333333333"
            ]
          },
          "metadata": {
            "tags": []
          },
          "execution_count": 154
        }
      ]
    },
    {
      "cell_type": "code",
      "metadata": {
        "id": "9HPbfxQFsbV8"
      },
      "source": [
        ""
      ],
      "execution_count": null,
      "outputs": []
    },
    {
      "cell_type": "code",
      "metadata": {
        "id": "dLMhlLxmsbV8"
      },
      "source": [
        ""
      ],
      "execution_count": null,
      "outputs": []
    },
    {
      "cell_type": "code",
      "metadata": {
        "id": "QDgas-mAsbV9"
      },
      "source": [
        ""
      ],
      "execution_count": null,
      "outputs": []
    },
    {
      "cell_type": "code",
      "metadata": {
        "id": "Tbp5ysoWsbV9"
      },
      "source": [
        ""
      ],
      "execution_count": null,
      "outputs": []
    },
    {
      "cell_type": "code",
      "metadata": {
        "id": "vehbL1zDsbV-"
      },
      "source": [
        ""
      ],
      "execution_count": null,
      "outputs": []
    },
    {
      "cell_type": "code",
      "metadata": {
        "id": "3dhOBvvksbV-"
      },
      "source": [
        ""
      ],
      "execution_count": null,
      "outputs": []
    },
    {
      "cell_type": "code",
      "metadata": {
        "id": "FWFvm7FvsbV_"
      },
      "source": [
        ""
      ],
      "execution_count": null,
      "outputs": []
    }
  ]
}