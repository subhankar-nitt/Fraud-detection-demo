{
  "nbformat": 4,
  "nbformat_minor": 0,
  "metadata": {
    "colab": {
      "name": "CNN_model.ipynb",
      "provenance": [],
      "authorship_tag": "ABX9TyP0PRibeYAovrRTDSKOOHjm",
      "include_colab_link": true
    },
    "kernelspec": {
      "name": "python3",
      "display_name": "Python 3"
    },
    "language_info": {
      "name": "python"
    }
  },
  "cells": [
    {
      "cell_type": "markdown",
      "metadata": {
        "id": "view-in-github",
        "colab_type": "text"
      },
      "source": [
        "<a href=\"https://colab.research.google.com/github/subhankar-nitt/Fraud-detection-demo/blob/CNN-Model/CNN%20Model/CNN_model.ipynb\" target=\"_parent\"><img src=\"https://colab.research.google.com/assets/colab-badge.svg\" alt=\"Open In Colab\"/></a>"
      ]
    },
    {
      "cell_type": "code",
      "metadata": {
        "id": "ixO_6ozy5RsU"
      },
      "source": [
        "import numpy as np \n",
        "import pandas as pd \n",
        "from math import sqrt\n",
        "import matplotlib.pyplot as plt\n",
        "from matplotlib import rcParams\n",
        "import seaborn as sns\n",
        "import IPython\n",
        "import keras\n",
        "import tensorflow as tf"
      ],
      "execution_count": 1,
      "outputs": []
    },
    {
      "cell_type": "code",
      "metadata": {
        "colab": {
          "base_uri": "https://localhost:8080/"
        },
        "id": "Px3_bhJv5r50",
        "outputId": "e006e65c-28f1-40fc-c2cf-acf2953f2b08"
      },
      "source": [
        "from google.colab import drive\n",
        "\n",
        "drive.mount(\"/content/drive\", force_remount=True)"
      ],
      "execution_count": 2,
      "outputs": [
        {
          "output_type": "stream",
          "text": [
            "Mounted at /content/drive\n"
          ],
          "name": "stdout"
        }
      ]
    },
    {
      "cell_type": "code",
      "metadata": {
        "colab": {
          "base_uri": "https://localhost:8080/"
        },
        "id": "4NVPIR5s591Z",
        "outputId": "45980525-a892-4365-f3ae-7ff21eba5c14"
      },
      "source": [
        "path = \"/content/drive/MyDrive/Colab Notebooks/dataset/transactions.csv\"\n",
        "data = pd.read_csv(path)\n",
        "data.shape"
      ],
      "execution_count": 3,
      "outputs": [
        {
          "output_type": "execute_result",
          "data": {
            "text/plain": [
              "(13622, 13)"
            ]
          },
          "metadata": {
            "tags": []
          },
          "execution_count": 3
        }
      ]
    },
    {
      "cell_type": "code",
      "metadata": {
        "colab": {
          "base_uri": "https://localhost:8080/",
          "height": 326
        },
        "id": "T1HVapVd6CWP",
        "outputId": "d2d53534-b89c-451a-8d8f-1b0ca692b58b"
      },
      "source": [
        "data.head()"
      ],
      "execution_count": 4,
      "outputs": [
        {
          "output_type": "execute_result",
          "data": {
            "text/html": [
              "<div>\n",
              "<style scoped>\n",
              "    .dataframe tbody tr th:only-of-type {\n",
              "        vertical-align: middle;\n",
              "    }\n",
              "\n",
              "    .dataframe tbody tr th {\n",
              "        vertical-align: top;\n",
              "    }\n",
              "\n",
              "    .dataframe thead th {\n",
              "        text-align: right;\n",
              "    }\n",
              "</style>\n",
              "<table border=\"1\" class=\"dataframe\">\n",
              "  <thead>\n",
              "    <tr style=\"text-align: right;\">\n",
              "      <th></th>\n",
              "      <th>cc_num</th>\n",
              "      <th>first</th>\n",
              "      <th>last</th>\n",
              "      <th>trans_num</th>\n",
              "      <th>trans_date</th>\n",
              "      <th>trans_time</th>\n",
              "      <th>unix_time</th>\n",
              "      <th>category</th>\n",
              "      <th>merchant</th>\n",
              "      <th>amt</th>\n",
              "      <th>merch_lat</th>\n",
              "      <th>merch_long</th>\n",
              "      <th>is_fraud</th>\n",
              "    </tr>\n",
              "  </thead>\n",
              "  <tbody>\n",
              "    <tr>\n",
              "      <th>0</th>\n",
              "      <td>180094108369013</td>\n",
              "      <td>John</td>\n",
              "      <td>Holland</td>\n",
              "      <td>80f5177be11f0bcd768e06a0b1b294c8</td>\n",
              "      <td>2012-01-01T00:00:00.000+05:30</td>\n",
              "      <td>00:12:15</td>\n",
              "      <td>1325376735</td>\n",
              "      <td>personal_care</td>\n",
              "      <td>Hills-Boyer</td>\n",
              "      <td>64</td>\n",
              "      <td>39.011566</td>\n",
              "      <td>-119.937831</td>\n",
              "      <td>0</td>\n",
              "    </tr>\n",
              "    <tr>\n",
              "      <th>1</th>\n",
              "      <td>4368593032190508</td>\n",
              "      <td>Carla</td>\n",
              "      <td>Fleming</td>\n",
              "      <td>7933d389bf8ef8a11a8a301da6e6bc6c</td>\n",
              "      <td>2012-01-01T00:00:00.000+05:30</td>\n",
              "      <td>00:16:58</td>\n",
              "      <td>1325377018</td>\n",
              "      <td>gas_transport</td>\n",
              "      <td>Friesen-DAmore</td>\n",
              "      <td>133</td>\n",
              "      <td>40.149071</td>\n",
              "      <td>-75.589697</td>\n",
              "      <td>0</td>\n",
              "    </tr>\n",
              "    <tr>\n",
              "      <th>2</th>\n",
              "      <td>4361355512072</td>\n",
              "      <td>Matthew</td>\n",
              "      <td>Nelson</td>\n",
              "      <td>1467c318b5d73d22d6741f575db42f3f</td>\n",
              "      <td>2012-01-01T00:00:00.000+05:30</td>\n",
              "      <td>00:36:42</td>\n",
              "      <td>1325378202</td>\n",
              "      <td>entertainment</td>\n",
              "      <td>Larson-Moen</td>\n",
              "      <td>119</td>\n",
              "      <td>47.297797</td>\n",
              "      <td>-96.819362</td>\n",
              "      <td>0</td>\n",
              "    </tr>\n",
              "    <tr>\n",
              "      <th>3</th>\n",
              "      <td>4037295225657274</td>\n",
              "      <td>Antonio</td>\n",
              "      <td>Garcia</td>\n",
              "      <td>4a3848719d72daaa32c938ce43e0eb03</td>\n",
              "      <td>2012-01-01T00:00:00.000+05:30</td>\n",
              "      <td>00:37:59</td>\n",
              "      <td>1325378279</td>\n",
              "      <td>shopping_pos</td>\n",
              "      <td>Lynch Ltd</td>\n",
              "      <td>62</td>\n",
              "      <td>40.078781</td>\n",
              "      <td>-102.373954</td>\n",
              "      <td>0</td>\n",
              "    </tr>\n",
              "    <tr>\n",
              "      <th>4</th>\n",
              "      <td>4515092388857440</td>\n",
              "      <td>Timothy</td>\n",
              "      <td>Silva</td>\n",
              "      <td>02d27e94f279e1013a4c323eb8bb6811</td>\n",
              "      <td>2012-01-01T00:00:00.000+05:30</td>\n",
              "      <td>00:39:18</td>\n",
              "      <td>1325378358</td>\n",
              "      <td>shopping_pos</td>\n",
              "      <td>Baumbach, Strosin and Nicolas</td>\n",
              "      <td>198</td>\n",
              "      <td>41.549359</td>\n",
              "      <td>-83.044403</td>\n",
              "      <td>0</td>\n",
              "    </tr>\n",
              "  </tbody>\n",
              "</table>\n",
              "</div>"
            ],
            "text/plain": [
              "             cc_num    first     last  ...  merch_lat  merch_long is_fraud\n",
              "0   180094108369013     John  Holland  ...  39.011566 -119.937831        0\n",
              "1  4368593032190508    Carla  Fleming  ...  40.149071  -75.589697        0\n",
              "2     4361355512072  Matthew   Nelson  ...  47.297797  -96.819362        0\n",
              "3  4037295225657274  Antonio   Garcia  ...  40.078781 -102.373954        0\n",
              "4  4515092388857440  Timothy    Silva  ...  41.549359  -83.044403        0\n",
              "\n",
              "[5 rows x 13 columns]"
            ]
          },
          "metadata": {
            "tags": []
          },
          "execution_count": 4
        }
      ]
    },
    {
      "cell_type": "code",
      "metadata": {
        "colab": {
          "base_uri": "https://localhost:8080/"
        },
        "id": "qfgsvD8c6Gtc",
        "outputId": "9c306933-080b-40a3-f6fe-b063057d1f38"
      },
      "source": [
        "data.is_fraud.nunique()"
      ],
      "execution_count": 5,
      "outputs": [
        {
          "output_type": "execute_result",
          "data": {
            "text/plain": [
              "2"
            ]
          },
          "metadata": {
            "tags": []
          },
          "execution_count": 5
        }
      ]
    },
    {
      "cell_type": "code",
      "metadata": {
        "colab": {
          "base_uri": "https://localhost:8080/"
        },
        "id": "-rou_KDi6L94",
        "outputId": "8417f079-0129-462d-9a7c-4e7ec8fffaba"
      },
      "source": [
        "data.is_fraud.value_counts()"
      ],
      "execution_count": 6,
      "outputs": [
        {
          "output_type": "execute_result",
          "data": {
            "text/plain": [
              "0    13108\n",
              "1      514\n",
              "Name: is_fraud, dtype: int64"
            ]
          },
          "metadata": {
            "tags": []
          },
          "execution_count": 6
        }
      ]
    },
    {
      "cell_type": "code",
      "metadata": {
        "colab": {
          "base_uri": "https://localhost:8080/",
          "height": 279
        },
        "id": "TPMW9lfe6QFa",
        "outputId": "7b2d9826-ad7a-4d14-fdb5-bf649265f148"
      },
      "source": [
        "data.is_fraud.value_counts().plot.bar()"
      ],
      "execution_count": 7,
      "outputs": [
        {
          "output_type": "execute_result",
          "data": {
            "text/plain": [
              "<matplotlib.axes._subplots.AxesSubplot at 0x7f5c74840190>"
            ]
          },
          "metadata": {
            "tags": []
          },
          "execution_count": 7
        },
        {
          "output_type": "display_data",
          "data": {
            "image/png": "[encoded data removed]",
            "text/plain": [
              "<Figure size 432x288 with 1 Axes>"
            ]
          },
          "metadata": {
            "tags": [],
            "needs_background": "light"
          }
        }
      ]
    },
    {
      "cell_type": "code",
      "metadata": {
        "colab": {
          "base_uri": "https://localhost:8080/"
        },
        "id": "zOArAFk36UqV",
        "outputId": "dd0edaf5-69a2-40a8-8b57-207bd72ab13e"
      },
      "source": [
        "data.columns"
      ],
      "execution_count": 8,
      "outputs": [
        {
          "output_type": "execute_result",
          "data": {
            "text/plain": [
              "Index(['cc_num', 'first', 'last', 'trans_num', 'trans_date', 'trans_time',\n",
              "       'unix_time', 'category', 'merchant', 'amt', 'merch_lat', 'merch_long',\n",
              "       'is_fraud'],\n",
              "      dtype='object')"
            ]
          },
          "metadata": {
            "tags": []
          },
          "execution_count": 8
        }
      ]
    },
    {
      "cell_type": "code",
      "metadata": {
        "colab": {
          "base_uri": "https://localhost:8080/"
        },
        "id": "25VVDggu6Zv0",
        "outputId": "1dd43a55-1e09-4a1f-f76e-8126e92180d3"
      },
      "source": [
        "data.dtypes"
      ],
      "execution_count": 9,
      "outputs": [
        {
          "output_type": "execute_result",
          "data": {
            "text/plain": [
              "cc_num          int64\n",
              "first          object\n",
              "last           object\n",
              "trans_num      object\n",
              "trans_date     object\n",
              "trans_time     object\n",
              "unix_time       int64\n",
              "category       object\n",
              "merchant       object\n",
              "amt             int64\n",
              "merch_lat     float64\n",
              "merch_long    float64\n",
              "is_fraud        int64\n",
              "dtype: object"
            ]
          },
          "metadata": {
            "tags": []
          },
          "execution_count": 9
        }
      ]
    },
    {
      "cell_type": "code",
      "metadata": {
        "colab": {
          "base_uri": "https://localhost:8080/"
        },
        "id": "Ei5CJgR06dzW",
        "outputId": "b92c0d55-4e4b-4990-f9ca-6e277e9df596"
      },
      "source": [
        "data.isnull().sum()"
      ],
      "execution_count": 10,
      "outputs": [
        {
          "output_type": "execute_result",
          "data": {
            "text/plain": [
              "cc_num        0\n",
              "first         0\n",
              "last          0\n",
              "trans_num     0\n",
              "trans_date    0\n",
              "trans_time    0\n",
              "unix_time     0\n",
              "category      0\n",
              "merchant      0\n",
              "amt           0\n",
              "merch_lat     0\n",
              "merch_long    0\n",
              "is_fraud      0\n",
              "dtype: int64"
            ]
          },
          "metadata": {
            "tags": []
          },
          "execution_count": 10
        }
      ]
    },
    {
      "cell_type": "code",
      "metadata": {
        "colab": {
          "base_uri": "https://localhost:8080/",
          "height": 401
        },
        "id": "51WJSrcL6iXr",
        "outputId": "5f96eb6e-f9f0-4485-b61c-2d9f4236fc70"
      },
      "source": [
        "sns.lmplot(x='is_fraud', y='amt', data=data, fit_reg=False, hue='is_fraud')"
      ],
      "execution_count": 11,
      "outputs": [
        {
          "output_type": "execute_result",
          "data": {
            "text/plain": [
              "<seaborn.axisgrid.FacetGrid at 0x7f5c742ff2d0>"
            ]
          },
          "metadata": {
            "tags": []
          },
          "execution_count": 11
        },
        {
          "output_type": "display_data",
          "data": {
            "image/png": "[encoded data removed]",
            "text/plain": [
              "<Figure size 407.75x360 with 1 Axes>"
            ]
          },
          "metadata": {
            "tags": [],
            "needs_background": "light"
          }
        }
      ]
    },
    {
      "cell_type": "code",
      "metadata": {
        "colab": {
          "base_uri": "https://localhost:8080/",
          "height": 643
        },
        "id": "Tcmq2Db76m3r",
        "outputId": "2463a93e-6e07-4986-926b-483901ddcafa"
      },
      "source": [
        "data[data.amt>1000]"
      ],
      "execution_count": 12,
      "outputs": [
        {
          "output_type": "execute_result",
          "data": {
            "text/html": [
              "<div>\n",
              "<style scoped>\n",
              "    .dataframe tbody tr th:only-of-type {\n",
              "        vertical-align: middle;\n",
              "    }\n",
              "\n",
              "    .dataframe tbody tr th {\n",
              "        vertical-align: top;\n",
              "    }\n",
              "\n",
              "    .dataframe thead th {\n",
              "        text-align: right;\n",
              "    }\n",
              "</style>\n",
              "<table border=\"1\" class=\"dataframe\">\n",
              "  <thead>\n",
              "    <tr style=\"text-align: right;\">\n",
              "      <th></th>\n",
              "      <th>cc_num</th>\n",
              "      <th>first</th>\n",
              "      <th>last</th>\n",
              "      <th>trans_num</th>\n",
              "      <th>trans_date</th>\n",
              "      <th>trans_time</th>\n",
              "      <th>unix_time</th>\n",
              "      <th>category</th>\n",
              "      <th>merchant</th>\n",
              "      <th>amt</th>\n",
              "      <th>merch_lat</th>\n",
              "      <th>merch_long</th>\n",
              "      <th>is_fraud</th>\n",
              "    </tr>\n",
              "  </thead>\n",
              "  <tbody>\n",
              "    <tr>\n",
              "      <th>118</th>\n",
              "      <td>5157436163845247</td>\n",
              "      <td>Sara</td>\n",
              "      <td>Crawford</td>\n",
              "      <td>8e0299d3779108d4d28caa4381c8c26b</td>\n",
              "      <td>2012-01-02T00:00:00.000+05:30</td>\n",
              "      <td>01:23:34</td>\n",
              "      <td>1325467414</td>\n",
              "      <td>health_fitness</td>\n",
              "      <td>Dietrich-Fadel</td>\n",
              "      <td>1774</td>\n",
              "      <td>33.619662</td>\n",
              "      <td>-117.391852</td>\n",
              "      <td>1</td>\n",
              "    </tr>\n",
              "    <tr>\n",
              "      <th>120</th>\n",
              "      <td>5157436163845247</td>\n",
              "      <td>Sara</td>\n",
              "      <td>Crawford</td>\n",
              "      <td>2fe127c95a68344e6437cc88d35ab5e2</td>\n",
              "      <td>2012-01-02T00:00:00.000+05:30</td>\n",
              "      <td>01:52:06</td>\n",
              "      <td>1325469126</td>\n",
              "      <td>shopping_pos</td>\n",
              "      <td>Lynch Ltd</td>\n",
              "      <td>2013</td>\n",
              "      <td>34.570986</td>\n",
              "      <td>-118.711290</td>\n",
              "      <td>1</td>\n",
              "    </tr>\n",
              "    <tr>\n",
              "      <th>121</th>\n",
              "      <td>5157436163845247</td>\n",
              "      <td>Sara</td>\n",
              "      <td>Crawford</td>\n",
              "      <td>80d1082017324144866e8254de15b37d</td>\n",
              "      <td>2012-01-02T00:00:00.000+05:30</td>\n",
              "      <td>02:00:37</td>\n",
              "      <td>1325469637</td>\n",
              "      <td>shopping_pos</td>\n",
              "      <td>Hudson-Grady</td>\n",
              "      <td>1801</td>\n",
              "      <td>36.988153</td>\n",
              "      <td>-120.376765</td>\n",
              "      <td>1</td>\n",
              "    </tr>\n",
              "    <tr>\n",
              "      <th>166</th>\n",
              "      <td>5157436163845247</td>\n",
              "      <td>Sara</td>\n",
              "      <td>Crawford</td>\n",
              "      <td>c3d13d0ac25edc93448148f8ce51d375</td>\n",
              "      <td>2012-01-02T00:00:00.000+05:30</td>\n",
              "      <td>23:06:58</td>\n",
              "      <td>1325545618</td>\n",
              "      <td>kids_pets</td>\n",
              "      <td>Yost, Schamberger and Windler</td>\n",
              "      <td>1978</td>\n",
              "      <td>34.865241</td>\n",
              "      <td>-117.415518</td>\n",
              "      <td>1</td>\n",
              "    </tr>\n",
              "    <tr>\n",
              "      <th>167</th>\n",
              "      <td>5157436163845247</td>\n",
              "      <td>Sara</td>\n",
              "      <td>Crawford</td>\n",
              "      <td>f7afbdef045b1316f7a5eb1d82ce8604</td>\n",
              "      <td>2012-01-02T00:00:00.000+05:30</td>\n",
              "      <td>23:14:41</td>\n",
              "      <td>1325546081</td>\n",
              "      <td>home</td>\n",
              "      <td>Collier LLC</td>\n",
              "      <td>1106</td>\n",
              "      <td>36.298320</td>\n",
              "      <td>-118.863027</td>\n",
              "      <td>1</td>\n",
              "    </tr>\n",
              "    <tr>\n",
              "      <th>...</th>\n",
              "      <td>...</td>\n",
              "      <td>...</td>\n",
              "      <td>...</td>\n",
              "      <td>...</td>\n",
              "      <td>...</td>\n",
              "      <td>...</td>\n",
              "      <td>...</td>\n",
              "      <td>...</td>\n",
              "      <td>...</td>\n",
              "      <td>...</td>\n",
              "      <td>...</td>\n",
              "      <td>...</td>\n",
              "      <td>...</td>\n",
              "    </tr>\n",
              "    <tr>\n",
              "      <th>2147</th>\n",
              "      <td>38535403302699</td>\n",
              "      <td>William</td>\n",
              "      <td>Reed</td>\n",
              "      <td>d3b97c9785fdb203ebbc34e924661038</td>\n",
              "      <td>2012-01-23T00:00:00.000+05:30</td>\n",
              "      <td>22:21:01</td>\n",
              "      <td>1327357261</td>\n",
              "      <td>shopping_net</td>\n",
              "      <td>Altenwerth, Cartwright and Koss</td>\n",
              "      <td>1190</td>\n",
              "      <td>38.371104</td>\n",
              "      <td>-84.733744</td>\n",
              "      <td>1</td>\n",
              "    </tr>\n",
              "    <tr>\n",
              "      <th>2149</th>\n",
              "      <td>38535403302699</td>\n",
              "      <td>William</td>\n",
              "      <td>Reed</td>\n",
              "      <td>a3936620043cf143ecc29598214f8279</td>\n",
              "      <td>2012-01-23T00:00:00.000+05:30</td>\n",
              "      <td>22:24:10</td>\n",
              "      <td>1327357450</td>\n",
              "      <td>grocery_pos</td>\n",
              "      <td>Pacocha-OReilly</td>\n",
              "      <td>1368</td>\n",
              "      <td>39.225709</td>\n",
              "      <td>-81.816459</td>\n",
              "      <td>1</td>\n",
              "    </tr>\n",
              "    <tr>\n",
              "      <th>2208</th>\n",
              "      <td>38535403302699</td>\n",
              "      <td>William</td>\n",
              "      <td>Reed</td>\n",
              "      <td>59d500376b6e4e65f72b874ebb681a23</td>\n",
              "      <td>2012-01-24T00:00:00.000+05:30</td>\n",
              "      <td>22:31:37</td>\n",
              "      <td>1327444297</td>\n",
              "      <td>grocery_pos</td>\n",
              "      <td>OKeefe-Hudson</td>\n",
              "      <td>1192</td>\n",
              "      <td>38.366534</td>\n",
              "      <td>-82.279188</td>\n",
              "      <td>1</td>\n",
              "    </tr>\n",
              "    <tr>\n",
              "      <th>2300</th>\n",
              "      <td>5417459284978545</td>\n",
              "      <td>Angel</td>\n",
              "      <td>Smith</td>\n",
              "      <td>e68c35829e8519a6bff4ed2740332b21</td>\n",
              "      <td>2012-01-25T00:00:00.000+05:30</td>\n",
              "      <td>22:31:23</td>\n",
              "      <td>1327530683</td>\n",
              "      <td>grocery_pos</td>\n",
              "      <td>Murray-Smitham</td>\n",
              "      <td>1057</td>\n",
              "      <td>43.003885</td>\n",
              "      <td>-76.795875</td>\n",
              "      <td>1</td>\n",
              "    </tr>\n",
              "    <tr>\n",
              "      <th>2305</th>\n",
              "      <td>5417459284978545</td>\n",
              "      <td>Angel</td>\n",
              "      <td>Smith</td>\n",
              "      <td>502169d3beb0ce86c493971e54582833</td>\n",
              "      <td>2012-01-25T00:00:00.000+05:30</td>\n",
              "      <td>23:29:30</td>\n",
              "      <td>1327534170</td>\n",
              "      <td>misc_pos</td>\n",
              "      <td>McCullough LLC</td>\n",
              "      <td>1246</td>\n",
              "      <td>42.325479</td>\n",
              "      <td>-77.045865</td>\n",
              "      <td>1</td>\n",
              "    </tr>\n",
              "  </tbody>\n",
              "</table>\n",
              "<p>131 rows × 13 columns</p>\n",
              "</div>"
            ],
            "text/plain": [
              "                cc_num    first      last  ...  merch_lat  merch_long is_fraud\n",
              "118   5157436163845247     Sara  Crawford  ...  33.619662 -117.391852        1\n",
              "120   5157436163845247     Sara  Crawford  ...  34.570986 -118.711290        1\n",
              "121   5157436163845247     Sara  Crawford  ...  36.988153 -120.376765        1\n",
              "166   5157436163845247     Sara  Crawford  ...  34.865241 -117.415518        1\n",
              "167   5157436163845247     Sara  Crawford  ...  36.298320 -118.863027        1\n",
              "...                ...      ...       ...  ...        ...         ...      ...\n",
              "2147    38535403302699  William      Reed  ...  38.371104  -84.733744        1\n",
              "2149    38535403302699  William      Reed  ...  39.225709  -81.816459        1\n",
              "2208    38535403302699  William      Reed  ...  38.366534  -82.279188        1\n",
              "2300  5417459284978545    Angel     Smith  ...  43.003885  -76.795875        1\n",
              "2305  5417459284978545    Angel     Smith  ...  42.325479  -77.045865        1\n",
              "\n",
              "[131 rows x 13 columns]"
            ]
          },
          "metadata": {
            "tags": []
          },
          "execution_count": 12
        }
      ]
    },
    {
      "cell_type": "code",
      "metadata": {
        "colab": {
          "base_uri": "https://localhost:8080/"
        },
        "id": "wwsj1Y7y6sC1",
        "outputId": "aa479368-3472-4e66-bdaa-abcf59ef79fc"
      },
      "source": [
        "(data.is_fraud.value_counts())/(data.is_fraud.count())"
      ],
      "execution_count": 13,
      "outputs": [
        {
          "output_type": "execute_result",
          "data": {
            "text/plain": [
              "0    0.962267\n",
              "1    0.037733\n",
              "Name: is_fraud, dtype: float64"
            ]
          },
          "metadata": {
            "tags": []
          },
          "execution_count": 13
        }
      ]
    },
    {
      "cell_type": "code",
      "metadata": {
        "colab": {
          "base_uri": "https://localhost:8080/",
          "height": 295
        },
        "id": "uKqKUvdS6wZR",
        "outputId": "64c87946-bcfd-4596-882c-506d5f0f0378"
      },
      "source": [
        "f, (ax1, ax2) = plt.subplots(2, 1, sharex=True, figsize=(12,4))\n",
        "\n",
        "ax1.hist(data[\"unix_time\"][data[\"is_fraud\"] == 1], bins = 50)\n",
        "ax1.set_title('Fraudulent')\n",
        "\n",
        "ax2.hist(data[\"unix_time\"][data[\"is_fraud\"] == 0], bins = 50)\n",
        "ax2.set_title('Genuine')\n",
        "\n",
        "plt.xlabel('Unix time')\n",
        "plt.ylabel('Number of Transactions')\n",
        "plt.show()"
      ],
      "execution_count": 14,
      "outputs": [
        {
          "output_type": "display_data",
          "data": {
            "image/png": "[encoded data removed]",
            "text/plain": [
              "<Figure size 864x288 with 2 Axes>"
            ]
          },
          "metadata": {
            "tags": [],
            "needs_background": "light"
          }
        }
      ]
    },
    {
      "cell_type": "code",
      "metadata": {
        "colab": {
          "base_uri": "https://localhost:8080/",
          "height": 204
        },
        "id": "AZF-8PQ-65Z_",
        "outputId": "9116ade4-825b-44db-ce8d-9182482a745a"
      },
      "source": [
        "data= data.drop([\"first\", \"last\", \"merchant\", \"trans_num\"], axis=1)\n",
        "data.head()"
      ],
      "execution_count": 15,
      "outputs": [
        {
          "output_type": "execute_result",
          "data": {
            "text/html": [
              "<div>\n",
              "<style scoped>\n",
              "    .dataframe tbody tr th:only-of-type {\n",
              "        vertical-align: middle;\n",
              "    }\n",
              "\n",
              "    .dataframe tbody tr th {\n",
              "        vertical-align: top;\n",
              "    }\n",
              "\n",
              "    .dataframe thead th {\n",
              "        text-align: right;\n",
              "    }\n",
              "</style>\n",
              "<table border=\"1\" class=\"dataframe\">\n",
              "  <thead>\n",
              "    <tr style=\"text-align: right;\">\n",
              "      <th></th>\n",
              "      <th>cc_num</th>\n",
              "      <th>trans_date</th>\n",
              "      <th>trans_time</th>\n",
              "      <th>unix_time</th>\n",
              "      <th>category</th>\n",
              "      <th>amt</th>\n",
              "      <th>merch_lat</th>\n",
              "      <th>merch_long</th>\n",
              "      <th>is_fraud</th>\n",
              "    </tr>\n",
              "  </thead>\n",
              "  <tbody>\n",
              "    <tr>\n",
              "      <th>0</th>\n",
              "      <td>180094108369013</td>\n",
              "      <td>2012-01-01T00:00:00.000+05:30</td>\n",
              "      <td>00:12:15</td>\n",
              "      <td>1325376735</td>\n",
              "      <td>personal_care</td>\n",
              "      <td>64</td>\n",
              "      <td>39.011566</td>\n",
              "      <td>-119.937831</td>\n",
              "      <td>0</td>\n",
              "    </tr>\n",
              "    <tr>\n",
              "      <th>1</th>\n",
              "      <td>4368593032190508</td>\n",
              "      <td>2012-01-01T00:00:00.000+05:30</td>\n",
              "      <td>00:16:58</td>\n",
              "      <td>1325377018</td>\n",
              "      <td>gas_transport</td>\n",
              "      <td>133</td>\n",
              "      <td>40.149071</td>\n",
              "      <td>-75.589697</td>\n",
              "      <td>0</td>\n",
              "    </tr>\n",
              "    <tr>\n",
              "      <th>2</th>\n",
              "      <td>4361355512072</td>\n",
              "      <td>2012-01-01T00:00:00.000+05:30</td>\n",
              "      <td>00:36:42</td>\n",
              "      <td>1325378202</td>\n",
              "      <td>entertainment</td>\n",
              "      <td>119</td>\n",
              "      <td>47.297797</td>\n",
              "      <td>-96.819362</td>\n",
              "      <td>0</td>\n",
              "    </tr>\n",
              "    <tr>\n",
              "      <th>3</th>\n",
              "      <td>4037295225657274</td>\n",
              "      <td>2012-01-01T00:00:00.000+05:30</td>\n",
              "      <td>00:37:59</td>\n",
              "      <td>1325378279</td>\n",
              "      <td>shopping_pos</td>\n",
              "      <td>62</td>\n",
              "      <td>40.078781</td>\n",
              "      <td>-102.373954</td>\n",
              "      <td>0</td>\n",
              "    </tr>\n",
              "    <tr>\n",
              "      <th>4</th>\n",
              "      <td>4515092388857440</td>\n",
              "      <td>2012-01-01T00:00:00.000+05:30</td>\n",
              "      <td>00:39:18</td>\n",
              "      <td>1325378358</td>\n",
              "      <td>shopping_pos</td>\n",
              "      <td>198</td>\n",
              "      <td>41.549359</td>\n",
              "      <td>-83.044403</td>\n",
              "      <td>0</td>\n",
              "    </tr>\n",
              "  </tbody>\n",
              "</table>\n",
              "</div>"
            ],
            "text/plain": [
              "             cc_num                     trans_date  ...  merch_long  is_fraud\n",
              "0   180094108369013  2012-01-01T00:00:00.000+05:30  ... -119.937831         0\n",
              "1  4368593032190508  2012-01-01T00:00:00.000+05:30  ...  -75.589697         0\n",
              "2     4361355512072  2012-01-01T00:00:00.000+05:30  ...  -96.819362         0\n",
              "3  4037295225657274  2012-01-01T00:00:00.000+05:30  ... -102.373954         0\n",
              "4  4515092388857440  2012-01-01T00:00:00.000+05:30  ...  -83.044403         0\n",
              "\n",
              "[5 rows x 9 columns]"
            ]
          },
          "metadata": {
            "tags": []
          },
          "execution_count": 15
        }
      ]
    },
    {
      "cell_type": "code",
      "metadata": {
        "colab": {
          "base_uri": "https://localhost:8080/",
          "height": 388
        },
        "id": "SgTitnMz6_Ju",
        "outputId": "7fd14ca2-08c0-4785-d205-67caf74e16a2"
      },
      "source": [
        "sns.lmplot(x='unix_time', y='amt', data=data, fit_reg=False, hue='is_fraud')"
      ],
      "execution_count": 16,
      "outputs": [
        {
          "output_type": "execute_result",
          "data": {
            "text/plain": [
              "<seaborn.axisgrid.FacetGrid at 0x7f5c6ad98d90>"
            ]
          },
          "metadata": {
            "tags": []
          },
          "execution_count": 16
        },
        {
          "output_type": "display_data",
          "data": {
            "image/png": "[encoded data removed]",
            "text/plain": [
              "<Figure size 407.75x360 with 1 Axes>"
            ]
          },
          "metadata": {
            "tags": [],
            "needs_background": "light"
          }
        }
      ]
    },
    {
      "cell_type": "code",
      "metadata": {
        "colab": {
          "base_uri": "https://localhost:8080/",
          "height": 204
        },
        "id": "wyKbzw7-7DX9",
        "outputId": "dfb51298-22ae-4943-cccc-d656b91cd4aa"
      },
      "source": [
        "data.category = pd.Categorical(pd.factorize(data.category)[0] + 1)\n",
        "data.head()"
      ],
      "execution_count": 17,
      "outputs": [
        {
          "output_type": "execute_result",
          "data": {
            "text/html": [
              "<div>\n",
              "<style scoped>\n",
              "    .dataframe tbody tr th:only-of-type {\n",
              "        vertical-align: middle;\n",
              "    }\n",
              "\n",
              "    .dataframe tbody tr th {\n",
              "        vertical-align: top;\n",
              "    }\n",
              "\n",
              "    .dataframe thead th {\n",
              "        text-align: right;\n",
              "    }\n",
              "</style>\n",
              "<table border=\"1\" class=\"dataframe\">\n",
              "  <thead>\n",
              "    <tr style=\"text-align: right;\">\n",
              "      <th></th>\n",
              "      <th>cc_num</th>\n",
              "      <th>trans_date</th>\n",
              "      <th>trans_time</th>\n",
              "      <th>unix_time</th>\n",
              "      <th>category</th>\n",
              "      <th>amt</th>\n",
              "      <th>merch_lat</th>\n",
              "      <th>merch_long</th>\n",
              "      <th>is_fraud</th>\n",
              "    </tr>\n",
              "  </thead>\n",
              "  <tbody>\n",
              "    <tr>\n",
              "      <th>0</th>\n",
              "      <td>180094108369013</td>\n",
              "      <td>2012-01-01T00:00:00.000+05:30</td>\n",
              "      <td>00:12:15</td>\n",
              "      <td>1325376735</td>\n",
              "      <td>1</td>\n",
              "      <td>64</td>\n",
              "      <td>39.011566</td>\n",
              "      <td>-119.937831</td>\n",
              "      <td>0</td>\n",
              "    </tr>\n",
              "    <tr>\n",
              "      <th>1</th>\n",
              "      <td>4368593032190508</td>\n",
              "      <td>2012-01-01T00:00:00.000+05:30</td>\n",
              "      <td>00:16:58</td>\n",
              "      <td>1325377018</td>\n",
              "      <td>2</td>\n",
              "      <td>133</td>\n",
              "      <td>40.149071</td>\n",
              "      <td>-75.589697</td>\n",
              "      <td>0</td>\n",
              "    </tr>\n",
              "    <tr>\n",
              "      <th>2</th>\n",
              "      <td>4361355512072</td>\n",
              "      <td>2012-01-01T00:00:00.000+05:30</td>\n",
              "      <td>00:36:42</td>\n",
              "      <td>1325378202</td>\n",
              "      <td>3</td>\n",
              "      <td>119</td>\n",
              "      <td>47.297797</td>\n",
              "      <td>-96.819362</td>\n",
              "      <td>0</td>\n",
              "    </tr>\n",
              "    <tr>\n",
              "      <th>3</th>\n",
              "      <td>4037295225657274</td>\n",
              "      <td>2012-01-01T00:00:00.000+05:30</td>\n",
              "      <td>00:37:59</td>\n",
              "      <td>1325378279</td>\n",
              "      <td>4</td>\n",
              "      <td>62</td>\n",
              "      <td>40.078781</td>\n",
              "      <td>-102.373954</td>\n",
              "      <td>0</td>\n",
              "    </tr>\n",
              "    <tr>\n",
              "      <th>4</th>\n",
              "      <td>4515092388857440</td>\n",
              "      <td>2012-01-01T00:00:00.000+05:30</td>\n",
              "      <td>00:39:18</td>\n",
              "      <td>1325378358</td>\n",
              "      <td>4</td>\n",
              "      <td>198</td>\n",
              "      <td>41.549359</td>\n",
              "      <td>-83.044403</td>\n",
              "      <td>0</td>\n",
              "    </tr>\n",
              "  </tbody>\n",
              "</table>\n",
              "</div>"
            ],
            "text/plain": [
              "             cc_num                     trans_date  ...  merch_long  is_fraud\n",
              "0   180094108369013  2012-01-01T00:00:00.000+05:30  ... -119.937831         0\n",
              "1  4368593032190508  2012-01-01T00:00:00.000+05:30  ...  -75.589697         0\n",
              "2     4361355512072  2012-01-01T00:00:00.000+05:30  ...  -96.819362         0\n",
              "3  4037295225657274  2012-01-01T00:00:00.000+05:30  ... -102.373954         0\n",
              "4  4515092388857440  2012-01-01T00:00:00.000+05:30  ...  -83.044403         0\n",
              "\n",
              "[5 rows x 9 columns]"
            ]
          },
          "metadata": {
            "tags": []
          },
          "execution_count": 17
        }
      ]
    },
    {
      "cell_type": "code",
      "metadata": {
        "colab": {
          "base_uri": "https://localhost:8080/",
          "height": 297
        },
        "id": "m7U37CKa7HtS",
        "outputId": "4bed8c7a-affe-43b1-f13b-aad7443a25b7"
      },
      "source": [
        "sns.boxplot(x=data.is_fraud, y=data.amt)"
      ],
      "execution_count": 18,
      "outputs": [
        {
          "output_type": "execute_result",
          "data": {
            "text/plain": [
              "<matplotlib.axes._subplots.AxesSubplot at 0x7f5c6ad49f90>"
            ]
          },
          "metadata": {
            "tags": []
          },
          "execution_count": 18
        },
        {
          "output_type": "display_data",
          "data": {
            "image/png": "[encoded data removed]",
            "text/plain": [
              "<Figure size 432x288 with 1 Axes>"
            ]
          },
          "metadata": {
            "tags": [],
            "needs_background": "light"
          }
        }
      ]
    },
    {
      "cell_type": "code",
      "metadata": {
        "colab": {
          "base_uri": "https://localhost:8080/",
          "height": 204
        },
        "id": "hSlNF-2b7QRy",
        "outputId": "104b6d7b-ffc1-4a0a-d6f8-23d2524d247d"
      },
      "source": [
        "data[\"trans_date\"] = pd.to_datetime(data[\"trans_date\"]).dt.strftime(\"%Y%m%d\")\n",
        "data.head()"
      ],
      "execution_count": 19,
      "outputs": [
        {
          "output_type": "execute_result",
          "data": {
            "text/html": [
              "<div>\n",
              "<style scoped>\n",
              "    .dataframe tbody tr th:only-of-type {\n",
              "        vertical-align: middle;\n",
              "    }\n",
              "\n",
              "    .dataframe tbody tr th {\n",
              "        vertical-align: top;\n",
              "    }\n",
              "\n",
              "    .dataframe thead th {\n",
              "        text-align: right;\n",
              "    }\n",
              "</style>\n",
              "<table border=\"1\" class=\"dataframe\">\n",
              "  <thead>\n",
              "    <tr style=\"text-align: right;\">\n",
              "      <th></th>\n",
              "      <th>cc_num</th>\n",
              "      <th>trans_date</th>\n",
              "      <th>trans_time</th>\n",
              "      <th>unix_time</th>\n",
              "      <th>category</th>\n",
              "      <th>amt</th>\n",
              "      <th>merch_lat</th>\n",
              "      <th>merch_long</th>\n",
              "      <th>is_fraud</th>\n",
              "    </tr>\n",
              "  </thead>\n",
              "  <tbody>\n",
              "    <tr>\n",
              "      <th>0</th>\n",
              "      <td>180094108369013</td>\n",
              "      <td>20120101</td>\n",
              "      <td>00:12:15</td>\n",
              "      <td>1325376735</td>\n",
              "      <td>1</td>\n",
              "      <td>64</td>\n",
              "      <td>39.011566</td>\n",
              "      <td>-119.937831</td>\n",
              "      <td>0</td>\n",
              "    </tr>\n",
              "    <tr>\n",
              "      <th>1</th>\n",
              "      <td>4368593032190508</td>\n",
              "      <td>20120101</td>\n",
              "      <td>00:16:58</td>\n",
              "      <td>1325377018</td>\n",
              "      <td>2</td>\n",
              "      <td>133</td>\n",
              "      <td>40.149071</td>\n",
              "      <td>-75.589697</td>\n",
              "      <td>0</td>\n",
              "    </tr>\n",
              "    <tr>\n",
              "      <th>2</th>\n",
              "      <td>4361355512072</td>\n",
              "      <td>20120101</td>\n",
              "      <td>00:36:42</td>\n",
              "      <td>1325378202</td>\n",
              "      <td>3</td>\n",
              "      <td>119</td>\n",
              "      <td>47.297797</td>\n",
              "      <td>-96.819362</td>\n",
              "      <td>0</td>\n",
              "    </tr>\n",
              "    <tr>\n",
              "      <th>3</th>\n",
              "      <td>4037295225657274</td>\n",
              "      <td>20120101</td>\n",
              "      <td>00:37:59</td>\n",
              "      <td>1325378279</td>\n",
              "      <td>4</td>\n",
              "      <td>62</td>\n",
              "      <td>40.078781</td>\n",
              "      <td>-102.373954</td>\n",
              "      <td>0</td>\n",
              "    </tr>\n",
              "    <tr>\n",
              "      <th>4</th>\n",
              "      <td>4515092388857440</td>\n",
              "      <td>20120101</td>\n",
              "      <td>00:39:18</td>\n",
              "      <td>1325378358</td>\n",
              "      <td>4</td>\n",
              "      <td>198</td>\n",
              "      <td>41.549359</td>\n",
              "      <td>-83.044403</td>\n",
              "      <td>0</td>\n",
              "    </tr>\n",
              "  </tbody>\n",
              "</table>\n",
              "</div>"
            ],
            "text/plain": [
              "             cc_num trans_date trans_time  ...  merch_lat  merch_long  is_fraud\n",
              "0   180094108369013   20120101   00:12:15  ...  39.011566 -119.937831         0\n",
              "1  4368593032190508   20120101   00:16:58  ...  40.149071  -75.589697         0\n",
              "2     4361355512072   20120101   00:36:42  ...  47.297797  -96.819362         0\n",
              "3  4037295225657274   20120101   00:37:59  ...  40.078781 -102.373954         0\n",
              "4  4515092388857440   20120101   00:39:18  ...  41.549359  -83.044403         0\n",
              "\n",
              "[5 rows x 9 columns]"
            ]
          },
          "metadata": {
            "tags": []
          },
          "execution_count": 19
        }
      ]
    },
    {
      "cell_type": "code",
      "metadata": {
        "id": "IkJyrkUZ7WtR"
      },
      "source": [
        "import time, datetime\n",
        "def convertTime(t):\n",
        "    x = time.strptime(t,'%H:%M:%S')\n",
        "    return str(int(datetime.timedelta(hours=x.tm_hour,minutes=x.tm_min,seconds=x.tm_sec).total_seconds()))"
      ],
      "execution_count": 20,
      "outputs": []
    },
    {
      "cell_type": "code",
      "metadata": {
        "colab": {
          "base_uri": "https://localhost:8080/",
          "height": 204
        },
        "id": "fCULCtmA7aNL",
        "outputId": "779e8e9d-c15e-40fc-fe05-5ab7c252cef9"
      },
      "source": [
        "data.trans_time=data.trans_time.apply(convertTime)\n",
        "data.head()"
      ],
      "execution_count": 21,
      "outputs": [
        {
          "output_type": "execute_result",
          "data": {
            "text/html": [
              "<div>\n",
              "<style scoped>\n",
              "    .dataframe tbody tr th:only-of-type {\n",
              "        vertical-align: middle;\n",
              "    }\n",
              "\n",
              "    .dataframe tbody tr th {\n",
              "        vertical-align: top;\n",
              "    }\n",
              "\n",
              "    .dataframe thead th {\n",
              "        text-align: right;\n",
              "    }\n",
              "</style>\n",
              "<table border=\"1\" class=\"dataframe\">\n",
              "  <thead>\n",
              "    <tr style=\"text-align: right;\">\n",
              "      <th></th>\n",
              "      <th>cc_num</th>\n",
              "      <th>trans_date</th>\n",
              "      <th>trans_time</th>\n",
              "      <th>unix_time</th>\n",
              "      <th>category</th>\n",
              "      <th>amt</th>\n",
              "      <th>merch_lat</th>\n",
              "      <th>merch_long</th>\n",
              "      <th>is_fraud</th>\n",
              "    </tr>\n",
              "  </thead>\n",
              "  <tbody>\n",
              "    <tr>\n",
              "      <th>0</th>\n",
              "      <td>180094108369013</td>\n",
              "      <td>20120101</td>\n",
              "      <td>735</td>\n",
              "      <td>1325376735</td>\n",
              "      <td>1</td>\n",
              "      <td>64</td>\n",
              "      <td>39.011566</td>\n",
              "      <td>-119.937831</td>\n",
              "      <td>0</td>\n",
              "    </tr>\n",
              "    <tr>\n",
              "      <th>1</th>\n",
              "      <td>4368593032190508</td>\n",
              "      <td>20120101</td>\n",
              "      <td>1018</td>\n",
              "      <td>1325377018</td>\n",
              "      <td>2</td>\n",
              "      <td>133</td>\n",
              "      <td>40.149071</td>\n",
              "      <td>-75.589697</td>\n",
              "      <td>0</td>\n",
              "    </tr>\n",
              "    <tr>\n",
              "      <th>2</th>\n",
              "      <td>4361355512072</td>\n",
              "      <td>20120101</td>\n",
              "      <td>2202</td>\n",
              "      <td>1325378202</td>\n",
              "      <td>3</td>\n",
              "      <td>119</td>\n",
              "      <td>47.297797</td>\n",
              "      <td>-96.819362</td>\n",
              "      <td>0</td>\n",
              "    </tr>\n",
              "    <tr>\n",
              "      <th>3</th>\n",
              "      <td>4037295225657274</td>\n",
              "      <td>20120101</td>\n",
              "      <td>2279</td>\n",
              "      <td>1325378279</td>\n",
              "      <td>4</td>\n",
              "      <td>62</td>\n",
              "      <td>40.078781</td>\n",
              "      <td>-102.373954</td>\n",
              "      <td>0</td>\n",
              "    </tr>\n",
              "    <tr>\n",
              "      <th>4</th>\n",
              "      <td>4515092388857440</td>\n",
              "      <td>20120101</td>\n",
              "      <td>2358</td>\n",
              "      <td>1325378358</td>\n",
              "      <td>4</td>\n",
              "      <td>198</td>\n",
              "      <td>41.549359</td>\n",
              "      <td>-83.044403</td>\n",
              "      <td>0</td>\n",
              "    </tr>\n",
              "  </tbody>\n",
              "</table>\n",
              "</div>"
            ],
            "text/plain": [
              "             cc_num trans_date trans_time  ...  merch_lat  merch_long  is_fraud\n",
              "0   180094108369013   20120101        735  ...  39.011566 -119.937831         0\n",
              "1  4368593032190508   20120101       1018  ...  40.149071  -75.589697         0\n",
              "2     4361355512072   20120101       2202  ...  47.297797  -96.819362         0\n",
              "3  4037295225657274   20120101       2279  ...  40.078781 -102.373954         0\n",
              "4  4515092388857440   20120101       2358  ...  41.549359  -83.044403         0\n",
              "\n",
              "[5 rows x 9 columns]"
            ]
          },
          "metadata": {
            "tags": []
          },
          "execution_count": 21
        }
      ]
    },
    {
      "cell_type": "code",
      "metadata": {
        "colab": {
          "base_uri": "https://localhost:8080/"
        },
        "id": "Z3YSOlPv7ed_",
        "outputId": "456c9b8c-ce51-480b-e4e8-4fec9a3d45e8"
      },
      "source": [
        "data.info()"
      ],
      "execution_count": 22,
      "outputs": [
        {
          "output_type": "stream",
          "text": [
            "<class 'pandas.core.frame.DataFrame'>\n",
            "RangeIndex: 13622 entries, 0 to 13621\n",
            "Data columns (total 9 columns):\n",
            " #   Column      Non-Null Count  Dtype   \n",
            "---  ------      --------------  -----   \n",
            " 0   cc_num      13622 non-null  int64   \n",
            " 1   trans_date  13622 non-null  object  \n",
            " 2   trans_time  13622 non-null  object  \n",
            " 3   unix_time   13622 non-null  int64   \n",
            " 4   category    13622 non-null  category\n",
            " 5   amt         13622 non-null  int64   \n",
            " 6   merch_lat   13622 non-null  float64 \n",
            " 7   merch_long  13622 non-null  float64 \n",
            " 8   is_fraud    13622 non-null  int64   \n",
            "dtypes: category(1), float64(2), int64(4), object(2)\n",
            "memory usage: 865.5+ KB\n"
          ],
          "name": "stdout"
        }
      ]
    },
    {
      "cell_type": "code",
      "metadata": {
        "id": "fdtGJ4H07gge"
      },
      "source": [
        "data['cc_num'] = np.asarray(data['cc_num']).astype(np.float32)\n",
        "data['trans_date'] = np.asarray(data['trans_date']).astype(np.float32)\n",
        "data['trans_time'] = np.asarray(data['trans_time']).astype(np.float32)\n",
        "data['unix_time'] = np.asarray(data['unix_time']).astype(np.float32)\n",
        "data['category'] = np.asarray(data['category']).astype(np.float32)\n",
        "data['amt'] = np.asarray(data['amt']).astype(np.float32)\n",
        "data['merch_lat'] = np.asarray(data['merch_lat']).astype(np.float32)\n",
        "data['merch_long'] = np.asarray(data['merch_long']).astype(np.float32)"
      ],
      "execution_count": 23,
      "outputs": []
    },
    {
      "cell_type": "code",
      "metadata": {
        "colab": {
          "base_uri": "https://localhost:8080/"
        },
        "id": "BExYuxJh7pLe",
        "outputId": "70813777-8821-4b27-c5e9-54246b60d78b"
      },
      "source": [
        "data.dtypes"
      ],
      "execution_count": 24,
      "outputs": [
        {
          "output_type": "execute_result",
          "data": {
            "text/plain": [
              "cc_num        float32\n",
              "trans_date    float32\n",
              "trans_time    float32\n",
              "unix_time     float32\n",
              "category      float32\n",
              "amt           float32\n",
              "merch_lat     float32\n",
              "merch_long    float32\n",
              "is_fraud        int64\n",
              "dtype: object"
            ]
          },
          "metadata": {
            "tags": []
          },
          "execution_count": 24
        }
      ]
    },
    {
      "cell_type": "code",
      "metadata": {
        "colab": {
          "base_uri": "https://localhost:8080/"
        },
        "id": "bg5jNyAC7ujz",
        "outputId": "7271c83c-c87f-4fa9-e011-c5301e3d7a39"
      },
      "source": [
        "data.var()"
      ],
      "execution_count": 25,
      "outputs": [
        {
          "output_type": "execute_result",
          "data": {
            "text/plain": [
              "cc_num        5.574645e+30\n",
              "trans_date    2.983649e+08\n",
              "trans_time    5.802106e+08\n",
              "unix_time     3.500578e+15\n",
              "category      1.922959e+01\n",
              "amt           3.409054e+04\n",
              "merch_lat     3.201748e+01\n",
              "merch_long    1.590047e+02\n",
              "is_fraud      3.631196e-02\n",
              "dtype: float64"
            ]
          },
          "metadata": {
            "tags": []
          },
          "execution_count": 25
        }
      ]
    }
  ]
}