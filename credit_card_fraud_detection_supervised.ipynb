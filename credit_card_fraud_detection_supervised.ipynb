{
  "nbformat": 4,
  "nbformat_minor": 0,
  "metadata": {
    "kernelspec": {
      "language": "python",
      "display_name": "Python 3",
      "name": "python3"
    },
    "language_info": {
      "name": "python",
      "version": "3.7.9",
      "mimetype": "text/x-python",
      "codemirror_mode": {
        "name": "ipython",
        "version": 3
      },
      "pygments_lexer": "ipython3",
      "nbconvert_exporter": "python",
      "file_extension": ".py"
    },
    "colab": {
      "name": "credit-card-fraud-detection-supervised.ipynb",
      "provenance": [],
      "include_colab_link": true
    }
  },
  "cells": [
    {
      "cell_type": "markdown",
      "metadata": {
        "id": "view-in-github",
        "colab_type": "text"
      },
      "source": [
        "<a href=\"https://colab.research.google.com/github/subhankar-nitt/Fraud-detection-demo/blob/subhankar/credit_card_fraud_detection_supervised.ipynb\" target=\"_parent\"><img src=\"https://colab.research.google.com/assets/colab-badge.svg\" alt=\"Open In Colab\"/></a>"
      ]
    },
    {
      "cell_type": "markdown",
      "metadata": {
        "id": "iUQMvd7Sn2ns"
      },
      "source": [
        "# Topic - Fraud Detection Data PreProcessing and Supervised learning\n",
        "# Author-Subhankar Biswas\n",
        "# Data- 23/06/2021\n",
        "# Description - In this notebook we will extract the features for giving the optimal result and then apply supervised learning to build our model"
      ]
    },
    {
      "cell_type": "markdown",
      "metadata": {
        "id": "s-qqqDBiojwD"
      },
      "source": [
        "# Mounting gdrive here"
      ]
    },
    {
      "cell_type": "code",
      "metadata": {
        "colab": {
          "base_uri": "https://localhost:8080/"
        },
        "id": "mMF4b7fIoi0P",
        "outputId": "dc39f14d-f45e-4851-f98a-e75390aeaa9e"
      },
      "source": [
        "from google.colab import drive\n",
        "drive.mount('/content/grdive')"
      ],
      "execution_count": 1,
      "outputs": [
        {
          "output_type": "stream",
          "text": [
            "Mounted at /content/grdive\n"
          ],
          "name": "stdout"
        }
      ]
    },
    {
      "cell_type": "markdown",
      "metadata": {
        "id": "dEgwnTpdn2nz"
      },
      "source": [
        "# Loading the python libraries"
      ]
    },
    {
      "cell_type": "code",
      "metadata": {
        "_kg_hide-input": false,
        "execution": {
          "iopub.status.busy": "2021-06-23T03:41:22.306554Z",
          "iopub.execute_input": "2021-06-23T03:41:22.306932Z",
          "iopub.status.idle": "2021-06-23T03:41:22.314434Z",
          "shell.execute_reply.started": "2021-06-23T03:41:22.306903Z",
          "shell.execute_reply": "2021-06-23T03:41:22.313086Z"
        },
        "trusted": true,
        "id": "8vzUDE2mn2n2"
      },
      "source": [
        "import pandas as pd\n",
        "import seaborn as sns\n",
        "import numpy as np\n",
        "import  matplotlib.pyplot as plt\n",
        "%matplotlib inline"
      ],
      "execution_count": 2,
      "outputs": []
    },
    {
      "cell_type": "markdown",
      "metadata": {
        "id": "yHfkDdIzn2n4"
      },
      "source": [
        "# Loading the dataSet and Analyzing it"
      ]
    },
    {
      "cell_type": "code",
      "metadata": {
        "execution": {
          "iopub.status.busy": "2021-06-23T03:43:14.257846Z",
          "iopub.execute_input": "2021-06-23T03:43:14.258326Z",
          "iopub.status.idle": "2021-06-23T03:43:25.823691Z",
          "shell.execute_reply.started": "2021-06-23T03:43:14.258297Z",
          "shell.execute_reply": "2021-06-23T03:43:25.822381Z"
        },
        "trusted": true,
        "colab": {
          "base_uri": "https://localhost:8080/",
          "height": 513
        },
        "id": "xbun-POdn2n5",
        "outputId": "a119ec22-5871-4bd4-d628-bc7b783db223"
      },
      "source": [
        "df = pd.read_csv(\"/content/grdive/MyDrive/Transaction data/fraudTrain.csv\")\n",
        "df.head()"
      ],
      "execution_count": 12,
      "outputs": [
        {
          "output_type": "execute_result",
          "data": {
            "text/html": [
              "<div>\n",
              "<style scoped>\n",
              "    .dataframe tbody tr th:only-of-type {\n",
              "        vertical-align: middle;\n",
              "    }\n",
              "\n",
              "    .dataframe tbody tr th {\n",
              "        vertical-align: top;\n",
              "    }\n",
              "\n",
              "    .dataframe thead th {\n",
              "        text-align: right;\n",
              "    }\n",
              "</style>\n",
              "<table border=\"1\" class=\"dataframe\">\n",
              "  <thead>\n",
              "    <tr style=\"text-align: right;\">\n",
              "      <th></th>\n",
              "      <th>Unnamed: 0</th>\n",
              "      <th>trans_date_trans_time</th>\n",
              "      <th>cc_num</th>\n",
              "      <th>merchant</th>\n",
              "      <th>category</th>\n",
              "      <th>amt</th>\n",
              "      <th>first</th>\n",
              "      <th>last</th>\n",
              "      <th>gender</th>\n",
              "      <th>street</th>\n",
              "      <th>city</th>\n",
              "      <th>state</th>\n",
              "      <th>zip</th>\n",
              "      <th>lat</th>\n",
              "      <th>long</th>\n",
              "      <th>city_pop</th>\n",
              "      <th>job</th>\n",
              "      <th>dob</th>\n",
              "      <th>trans_num</th>\n",
              "      <th>unix_time</th>\n",
              "      <th>merch_lat</th>\n",
              "      <th>merch_long</th>\n",
              "      <th>is_fraud</th>\n",
              "    </tr>\n",
              "  </thead>\n",
              "  <tbody>\n",
              "    <tr>\n",
              "      <th>0</th>\n",
              "      <td>0</td>\n",
              "      <td>2019-01-01 00:00:18</td>\n",
              "      <td>2703186189652095</td>\n",
              "      <td>fraud_Rippin, Kub and Mann</td>\n",
              "      <td>misc_net</td>\n",
              "      <td>4.97</td>\n",
              "      <td>Jennifer</td>\n",
              "      <td>Banks</td>\n",
              "      <td>F</td>\n",
              "      <td>561 Perry Cove</td>\n",
              "      <td>Moravian Falls</td>\n",
              "      <td>NC</td>\n",
              "      <td>28654</td>\n",
              "      <td>36.0788</td>\n",
              "      <td>-81.1781</td>\n",
              "      <td>3495</td>\n",
              "      <td>Psychologist, counselling</td>\n",
              "      <td>1988-03-09</td>\n",
              "      <td>0b242abb623afc578575680df30655b9</td>\n",
              "      <td>1325376018</td>\n",
              "      <td>36.011293</td>\n",
              "      <td>-82.048315</td>\n",
              "      <td>0</td>\n",
              "    </tr>\n",
              "    <tr>\n",
              "      <th>1</th>\n",
              "      <td>1</td>\n",
              "      <td>2019-01-01 00:00:44</td>\n",
              "      <td>630423337322</td>\n",
              "      <td>fraud_Heller, Gutmann and Zieme</td>\n",
              "      <td>grocery_pos</td>\n",
              "      <td>107.23</td>\n",
              "      <td>Stephanie</td>\n",
              "      <td>Gill</td>\n",
              "      <td>F</td>\n",
              "      <td>43039 Riley Greens Suite 393</td>\n",
              "      <td>Orient</td>\n",
              "      <td>WA</td>\n",
              "      <td>99160</td>\n",
              "      <td>48.8878</td>\n",
              "      <td>-118.2105</td>\n",
              "      <td>149</td>\n",
              "      <td>Special educational needs teacher</td>\n",
              "      <td>1978-06-21</td>\n",
              "      <td>1f76529f8574734946361c461b024d99</td>\n",
              "      <td>1325376044</td>\n",
              "      <td>49.159047</td>\n",
              "      <td>-118.186462</td>\n",
              "      <td>0</td>\n",
              "    </tr>\n",
              "    <tr>\n",
              "      <th>2</th>\n",
              "      <td>2</td>\n",
              "      <td>2019-01-01 00:00:51</td>\n",
              "      <td>38859492057661</td>\n",
              "      <td>fraud_Lind-Buckridge</td>\n",
              "      <td>entertainment</td>\n",
              "      <td>220.11</td>\n",
              "      <td>Edward</td>\n",
              "      <td>Sanchez</td>\n",
              "      <td>M</td>\n",
              "      <td>594 White Dale Suite 530</td>\n",
              "      <td>Malad City</td>\n",
              "      <td>ID</td>\n",
              "      <td>83252</td>\n",
              "      <td>42.1808</td>\n",
              "      <td>-112.2620</td>\n",
              "      <td>4154</td>\n",
              "      <td>Nature conservation officer</td>\n",
              "      <td>1962-01-19</td>\n",
              "      <td>a1a22d70485983eac12b5b88dad1cf95</td>\n",
              "      <td>1325376051</td>\n",
              "      <td>43.150704</td>\n",
              "      <td>-112.154481</td>\n",
              "      <td>0</td>\n",
              "    </tr>\n",
              "    <tr>\n",
              "      <th>3</th>\n",
              "      <td>3</td>\n",
              "      <td>2019-01-01 00:01:16</td>\n",
              "      <td>3534093764340240</td>\n",
              "      <td>fraud_Kutch, Hermiston and Farrell</td>\n",
              "      <td>gas_transport</td>\n",
              "      <td>45.00</td>\n",
              "      <td>Jeremy</td>\n",
              "      <td>White</td>\n",
              "      <td>M</td>\n",
              "      <td>9443 Cynthia Court Apt. 038</td>\n",
              "      <td>Boulder</td>\n",
              "      <td>MT</td>\n",
              "      <td>59632</td>\n",
              "      <td>46.2306</td>\n",
              "      <td>-112.1138</td>\n",
              "      <td>1939</td>\n",
              "      <td>Patent attorney</td>\n",
              "      <td>1967-01-12</td>\n",
              "      <td>6b849c168bdad6f867558c3793159a81</td>\n",
              "      <td>1325376076</td>\n",
              "      <td>47.034331</td>\n",
              "      <td>-112.561071</td>\n",
              "      <td>0</td>\n",
              "    </tr>\n",
              "    <tr>\n",
              "      <th>4</th>\n",
              "      <td>4</td>\n",
              "      <td>2019-01-01 00:03:06</td>\n",
              "      <td>375534208663984</td>\n",
              "      <td>fraud_Keeling-Crist</td>\n",
              "      <td>misc_pos</td>\n",
              "      <td>41.96</td>\n",
              "      <td>Tyler</td>\n",
              "      <td>Garcia</td>\n",
              "      <td>M</td>\n",
              "      <td>408 Bradley Rest</td>\n",
              "      <td>Doe Hill</td>\n",
              "      <td>VA</td>\n",
              "      <td>24433</td>\n",
              "      <td>38.4207</td>\n",
              "      <td>-79.4629</td>\n",
              "      <td>99</td>\n",
              "      <td>Dance movement psychotherapist</td>\n",
              "      <td>1986-03-28</td>\n",
              "      <td>a41d7549acf90789359a9aa5346dcb46</td>\n",
              "      <td>1325376186</td>\n",
              "      <td>38.674999</td>\n",
              "      <td>-78.632459</td>\n",
              "      <td>0</td>\n",
              "    </tr>\n",
              "  </tbody>\n",
              "</table>\n",
              "</div>"
            ],
            "text/plain": [
              "   Unnamed: 0 trans_date_trans_time  ...  merch_long is_fraud\n",
              "0           0   2019-01-01 00:00:18  ...  -82.048315        0\n",
              "1           1   2019-01-01 00:00:44  ... -118.186462        0\n",
              "2           2   2019-01-01 00:00:51  ... -112.154481        0\n",
              "3           3   2019-01-01 00:01:16  ... -112.561071        0\n",
              "4           4   2019-01-01 00:03:06  ...  -78.632459        0\n",
              "\n",
              "[5 rows x 23 columns]"
            ]
          },
          "metadata": {
            "tags": []
          },
          "execution_count": 12
        }
      ]
    },
    {
      "cell_type": "markdown",
      "metadata": {
        "id": "lE0nfNrIn2n6"
      },
      "source": [
        "# Data Inspections"
      ]
    },
    {
      "cell_type": "code",
      "metadata": {
        "execution": {
          "iopub.status.busy": "2021-06-23T03:46:25.347776Z",
          "iopub.execute_input": "2021-06-23T03:46:25.348119Z",
          "iopub.status.idle": "2021-06-23T03:46:25.354129Z",
          "shell.execute_reply.started": "2021-06-23T03:46:25.348091Z",
          "shell.execute_reply": "2021-06-23T03:46:25.353182Z"
        },
        "trusted": true,
        "colab": {
          "base_uri": "https://localhost:8080/"
        },
        "id": "LhxUMfU7n2n7",
        "outputId": "f1da9899-344d-426c-b7da-e64763729fbd"
      },
      "source": [
        "df.shape #total 13l rows and 23 cols"
      ],
      "execution_count": 13,
      "outputs": [
        {
          "output_type": "execute_result",
          "data": {
            "text/plain": [
              "(1296675, 23)"
            ]
          },
          "metadata": {
            "tags": []
          },
          "execution_count": 13
        }
      ]
    },
    {
      "cell_type": "code",
      "metadata": {
        "execution": {
          "iopub.status.busy": "2021-06-23T04:01:26.128276Z",
          "iopub.execute_input": "2021-06-23T04:01:26.128631Z",
          "iopub.status.idle": "2021-06-23T04:01:26.134492Z",
          "shell.execute_reply.started": "2021-06-23T04:01:26.128600Z",
          "shell.execute_reply": "2021-06-23T04:01:26.133698Z"
        },
        "trusted": true,
        "colab": {
          "base_uri": "https://localhost:8080/"
        },
        "id": "VJHQuHy2n2n8",
        "outputId": "df7f1a4a-8089-4801-b687-9ed045d255a3"
      },
      "source": [
        "df.columns #the cols present in that dataset"
      ],
      "execution_count": 14,
      "outputs": [
        {
          "output_type": "execute_result",
          "data": {
            "text/plain": [
              "Index(['Unnamed: 0', 'trans_date_trans_time', 'cc_num', 'merchant', 'category',\n",
              "       'amt', 'first', 'last', 'gender', 'street', 'city', 'state', 'zip',\n",
              "       'lat', 'long', 'city_pop', 'job', 'dob', 'trans_num', 'unix_time',\n",
              "       'merch_lat', 'merch_long', 'is_fraud'],\n",
              "      dtype='object')"
            ]
          },
          "metadata": {
            "tags": []
          },
          "execution_count": 14
        }
      ]
    },
    {
      "cell_type": "code",
      "metadata": {
        "execution": {
          "iopub.status.busy": "2021-06-23T03:45:07.262272Z",
          "iopub.execute_input": "2021-06-23T03:45:07.262565Z",
          "iopub.status.idle": "2021-06-23T03:45:07.775864Z",
          "shell.execute_reply.started": "2021-06-23T03:45:07.262535Z",
          "shell.execute_reply": "2021-06-23T03:45:07.775111Z"
        },
        "trusted": true,
        "colab": {
          "base_uri": "https://localhost:8080/"
        },
        "id": "5ZTXVsCfn2n-",
        "outputId": "af6aeb04-5fd4-4162-8830-7a7b30d2cac4"
      },
      "source": [
        "df.info() #so no null values"
      ],
      "execution_count": 15,
      "outputs": [
        {
          "output_type": "stream",
          "text": [
            "<class 'pandas.core.frame.DataFrame'>\n",
            "RangeIndex: 1296675 entries, 0 to 1296674\n",
            "Data columns (total 23 columns):\n",
            " #   Column                 Non-Null Count    Dtype  \n",
            "---  ------                 --------------    -----  \n",
            " 0   Unnamed: 0             1296675 non-null  int64  \n",
            " 1   trans_date_trans_time  1296675 non-null  object \n",
            " 2   cc_num                 1296675 non-null  int64  \n",
            " 3   merchant               1296675 non-null  object \n",
            " 4   category               1296675 non-null  object \n",
            " 5   amt                    1296675 non-null  float64\n",
            " 6   first                  1296675 non-null  object \n",
            " 7   last                   1296675 non-null  object \n",
            " 8   gender                 1296675 non-null  object \n",
            " 9   street                 1296675 non-null  object \n",
            " 10  city                   1296675 non-null  object \n",
            " 11  state                  1296675 non-null  object \n",
            " 12  zip                    1296675 non-null  int64  \n",
            " 13  lat                    1296675 non-null  float64\n",
            " 14  long                   1296675 non-null  float64\n",
            " 15  city_pop               1296675 non-null  int64  \n",
            " 16  job                    1296675 non-null  object \n",
            " 17  dob                    1296675 non-null  object \n",
            " 18  trans_num              1296675 non-null  object \n",
            " 19  unix_time              1296675 non-null  int64  \n",
            " 20  merch_lat              1296675 non-null  float64\n",
            " 21  merch_long             1296675 non-null  float64\n",
            " 22  is_fraud               1296675 non-null  int64  \n",
            "dtypes: float64(5), int64(6), object(12)\n",
            "memory usage: 227.5+ MB\n"
          ],
          "name": "stdout"
        }
      ]
    },
    {
      "cell_type": "code",
      "metadata": {
        "execution": {
          "iopub.status.busy": "2021-06-23T03:56:43.707663Z",
          "iopub.execute_input": "2021-06-23T03:56:43.708050Z",
          "iopub.status.idle": "2021-06-23T03:56:44.051445Z",
          "shell.execute_reply.started": "2021-06-23T03:56:43.708021Z",
          "shell.execute_reply": "2021-06-23T03:56:44.050289Z"
        },
        "trusted": true,
        "colab": {
          "base_uri": "https://localhost:8080/",
          "height": 308
        },
        "id": "0X0aZC7ln2n_",
        "outputId": "4c65b074-959e-4a0b-e8db-0d7cddfef602"
      },
      "source": [
        "sns.countplot(x=\"is_fraud\",data=df) #we can see that the no of fraud vs not fraud is highly imbalanced"
      ],
      "execution_count": 16,
      "outputs": [
        {
          "output_type": "execute_result",
          "data": {
            "text/plain": [
              "<matplotlib.axes._subplots.AxesSubplot at 0x7f774b3fadd0>"
            ]
          },
          "metadata": {
            "tags": []
          },
          "execution_count": 16
        },
        {
          "output_type": "display_data",
          "data": {
            "image/png": "[encoded data removed]",
            "text/plain": [
              "<Figure size 432x288 with 1 Axes>"
            ]
          },
          "metadata": {
            "tags": [],
            "needs_background": "light"
          }
        }
      ]
    },
    {
      "cell_type": "markdown",
      "metadata": {
        "id": "s5cr_Pdtn2oB"
      },
      "source": [
        "# Data PreProcessing"
      ]
    },
    {
      "cell_type": "code",
      "metadata": {
        "execution": {
          "iopub.status.busy": "2021-06-23T03:55:07.710869Z",
          "iopub.execute_input": "2021-06-23T03:55:07.711802Z",
          "iopub.status.idle": "2021-06-23T03:55:08.080211Z",
          "shell.execute_reply.started": "2021-06-23T03:55:07.711758Z",
          "shell.execute_reply": "2021-06-23T03:55:08.079271Z"
        },
        "trusted": true,
        "id": "_GQ-GLwFn2oC"
      },
      "source": [
        "df = df.drop(\"Unnamed: 0\",axis=1) #Dropping the col Unnamed:0"
      ],
      "execution_count": 17,
      "outputs": []
    },
    {
      "cell_type": "code",
      "metadata": {
        "execution": {
          "iopub.status.busy": "2021-06-23T04:02:07.187282Z",
          "iopub.execute_input": "2021-06-23T04:02:07.187802Z",
          "iopub.status.idle": "2021-06-23T04:02:07.953460Z",
          "shell.execute_reply.started": "2021-06-23T04:02:07.187771Z",
          "shell.execute_reply": "2021-06-23T04:02:07.951859Z"
        },
        "trusted": true,
        "id": "bN9j6pb0n2oG"
      },
      "source": [
        "df['trans_date_trans_time']=pd.to_datetime(df['trans_date_trans_time']) #converting String to DateTime"
      ],
      "execution_count": 18,
      "outputs": []
    },
    {
      "cell_type": "code",
      "metadata": {
        "execution": {
          "iopub.status.busy": "2021-06-23T04:04:18.518129Z",
          "iopub.execute_input": "2021-06-23T04:04:18.518621Z",
          "iopub.status.idle": "2021-06-23T04:04:19.109038Z",
          "shell.execute_reply.started": "2021-06-23T04:04:18.518590Z",
          "shell.execute_reply": "2021-06-23T04:04:19.107912Z"
        },
        "trusted": true,
        "id": "Zbb7otk5n2oI"
      },
      "source": [
        "df['week_day']=df['trans_date_trans_time'].dt.day_name() #Extracting the day name from the transaction date time"
      ],
      "execution_count": 19,
      "outputs": []
    },
    {
      "cell_type": "code",
      "metadata": {
        "execution": {
          "iopub.status.busy": "2021-06-23T04:08:16.288088Z",
          "iopub.execute_input": "2021-06-23T04:08:16.288432Z",
          "iopub.status.idle": "2021-06-23T04:08:16.472864Z",
          "shell.execute_reply.started": "2021-06-23T04:08:16.288403Z",
          "shell.execute_reply": "2021-06-23T04:08:16.471765Z"
        },
        "trusted": true,
        "id": "h7rYUE5wn2oJ"
      },
      "source": [
        "df['year_month']=df['trans_date_trans_time'].dt.to_period('M') #Extracting the month and the year from the trans date time"
      ],
      "execution_count": 20,
      "outputs": []
    },
    {
      "cell_type": "code",
      "metadata": {
        "execution": {
          "iopub.status.busy": "2021-06-23T04:08:19.272210Z",
          "iopub.execute_input": "2021-06-23T04:08:19.272785Z",
          "iopub.status.idle": "2021-06-23T04:08:19.311349Z",
          "shell.execute_reply.started": "2021-06-23T04:08:19.272742Z",
          "shell.execute_reply": "2021-06-23T04:08:19.310426Z"
        },
        "trusted": true,
        "colab": {
          "base_uri": "https://localhost:8080/",
          "height": 496
        },
        "id": "yC5dRH9Nn2oK",
        "outputId": "b79ac8bc-ea29-4a33-afe8-71fd9d4aa819"
      },
      "source": [
        "df.head()"
      ],
      "execution_count": 21,
      "outputs": [
        {
          "output_type": "execute_result",
          "data": {
            "text/html": [
              "<div>\n",
              "<style scoped>\n",
              "    .dataframe tbody tr th:only-of-type {\n",
              "        vertical-align: middle;\n",
              "    }\n",
              "\n",
              "    .dataframe tbody tr th {\n",
              "        vertical-align: top;\n",
              "    }\n",
              "\n",
              "    .dataframe thead th {\n",
              "        text-align: right;\n",
              "    }\n",
              "</style>\n",
              "<table border=\"1\" class=\"dataframe\">\n",
              "  <thead>\n",
              "    <tr style=\"text-align: right;\">\n",
              "      <th></th>\n",
              "      <th>trans_date_trans_time</th>\n",
              "      <th>cc_num</th>\n",
              "      <th>merchant</th>\n",
              "      <th>category</th>\n",
              "      <th>amt</th>\n",
              "      <th>first</th>\n",
              "      <th>last</th>\n",
              "      <th>gender</th>\n",
              "      <th>street</th>\n",
              "      <th>city</th>\n",
              "      <th>state</th>\n",
              "      <th>zip</th>\n",
              "      <th>lat</th>\n",
              "      <th>long</th>\n",
              "      <th>city_pop</th>\n",
              "      <th>job</th>\n",
              "      <th>dob</th>\n",
              "      <th>trans_num</th>\n",
              "      <th>unix_time</th>\n",
              "      <th>merch_lat</th>\n",
              "      <th>merch_long</th>\n",
              "      <th>is_fraud</th>\n",
              "      <th>week_day</th>\n",
              "      <th>year_month</th>\n",
              "    </tr>\n",
              "  </thead>\n",
              "  <tbody>\n",
              "    <tr>\n",
              "      <th>0</th>\n",
              "      <td>2019-01-01 00:00:18</td>\n",
              "      <td>2703186189652095</td>\n",
              "      <td>fraud_Rippin, Kub and Mann</td>\n",
              "      <td>misc_net</td>\n",
              "      <td>4.97</td>\n",
              "      <td>Jennifer</td>\n",
              "      <td>Banks</td>\n",
              "      <td>F</td>\n",
              "      <td>561 Perry Cove</td>\n",
              "      <td>Moravian Falls</td>\n",
              "      <td>NC</td>\n",
              "      <td>28654</td>\n",
              "      <td>36.0788</td>\n",
              "      <td>-81.1781</td>\n",
              "      <td>3495</td>\n",
              "      <td>Psychologist, counselling</td>\n",
              "      <td>1988-03-09</td>\n",
              "      <td>0b242abb623afc578575680df30655b9</td>\n",
              "      <td>1325376018</td>\n",
              "      <td>36.011293</td>\n",
              "      <td>-82.048315</td>\n",
              "      <td>0</td>\n",
              "      <td>Tuesday</td>\n",
              "      <td>2019-01</td>\n",
              "    </tr>\n",
              "    <tr>\n",
              "      <th>1</th>\n",
              "      <td>2019-01-01 00:00:44</td>\n",
              "      <td>630423337322</td>\n",
              "      <td>fraud_Heller, Gutmann and Zieme</td>\n",
              "      <td>grocery_pos</td>\n",
              "      <td>107.23</td>\n",
              "      <td>Stephanie</td>\n",
              "      <td>Gill</td>\n",
              "      <td>F</td>\n",
              "      <td>43039 Riley Greens Suite 393</td>\n",
              "      <td>Orient</td>\n",
              "      <td>WA</td>\n",
              "      <td>99160</td>\n",
              "      <td>48.8878</td>\n",
              "      <td>-118.2105</td>\n",
              "      <td>149</td>\n",
              "      <td>Special educational needs teacher</td>\n",
              "      <td>1978-06-21</td>\n",
              "      <td>1f76529f8574734946361c461b024d99</td>\n",
              "      <td>1325376044</td>\n",
              "      <td>49.159047</td>\n",
              "      <td>-118.186462</td>\n",
              "      <td>0</td>\n",
              "      <td>Tuesday</td>\n",
              "      <td>2019-01</td>\n",
              "    </tr>\n",
              "    <tr>\n",
              "      <th>2</th>\n",
              "      <td>2019-01-01 00:00:51</td>\n",
              "      <td>38859492057661</td>\n",
              "      <td>fraud_Lind-Buckridge</td>\n",
              "      <td>entertainment</td>\n",
              "      <td>220.11</td>\n",
              "      <td>Edward</td>\n",
              "      <td>Sanchez</td>\n",
              "      <td>M</td>\n",
              "      <td>594 White Dale Suite 530</td>\n",
              "      <td>Malad City</td>\n",
              "      <td>ID</td>\n",
              "      <td>83252</td>\n",
              "      <td>42.1808</td>\n",
              "      <td>-112.2620</td>\n",
              "      <td>4154</td>\n",
              "      <td>Nature conservation officer</td>\n",
              "      <td>1962-01-19</td>\n",
              "      <td>a1a22d70485983eac12b5b88dad1cf95</td>\n",
              "      <td>1325376051</td>\n",
              "      <td>43.150704</td>\n",
              "      <td>-112.154481</td>\n",
              "      <td>0</td>\n",
              "      <td>Tuesday</td>\n",
              "      <td>2019-01</td>\n",
              "    </tr>\n",
              "    <tr>\n",
              "      <th>3</th>\n",
              "      <td>2019-01-01 00:01:16</td>\n",
              "      <td>3534093764340240</td>\n",
              "      <td>fraud_Kutch, Hermiston and Farrell</td>\n",
              "      <td>gas_transport</td>\n",
              "      <td>45.00</td>\n",
              "      <td>Jeremy</td>\n",
              "      <td>White</td>\n",
              "      <td>M</td>\n",
              "      <td>9443 Cynthia Court Apt. 038</td>\n",
              "      <td>Boulder</td>\n",
              "      <td>MT</td>\n",
              "      <td>59632</td>\n",
              "      <td>46.2306</td>\n",
              "      <td>-112.1138</td>\n",
              "      <td>1939</td>\n",
              "      <td>Patent attorney</td>\n",
              "      <td>1967-01-12</td>\n",
              "      <td>6b849c168bdad6f867558c3793159a81</td>\n",
              "      <td>1325376076</td>\n",
              "      <td>47.034331</td>\n",
              "      <td>-112.561071</td>\n",
              "      <td>0</td>\n",
              "      <td>Tuesday</td>\n",
              "      <td>2019-01</td>\n",
              "    </tr>\n",
              "    <tr>\n",
              "      <th>4</th>\n",
              "      <td>2019-01-01 00:03:06</td>\n",
              "      <td>375534208663984</td>\n",
              "      <td>fraud_Keeling-Crist</td>\n",
              "      <td>misc_pos</td>\n",
              "      <td>41.96</td>\n",
              "      <td>Tyler</td>\n",
              "      <td>Garcia</td>\n",
              "      <td>M</td>\n",
              "      <td>408 Bradley Rest</td>\n",
              "      <td>Doe Hill</td>\n",
              "      <td>VA</td>\n",
              "      <td>24433</td>\n",
              "      <td>38.4207</td>\n",
              "      <td>-79.4629</td>\n",
              "      <td>99</td>\n",
              "      <td>Dance movement psychotherapist</td>\n",
              "      <td>1986-03-28</td>\n",
              "      <td>a41d7549acf90789359a9aa5346dcb46</td>\n",
              "      <td>1325376186</td>\n",
              "      <td>38.674999</td>\n",
              "      <td>-78.632459</td>\n",
              "      <td>0</td>\n",
              "      <td>Tuesday</td>\n",
              "      <td>2019-01</td>\n",
              "    </tr>\n",
              "  </tbody>\n",
              "</table>\n",
              "</div>"
            ],
            "text/plain": [
              "  trans_date_trans_time            cc_num  ... week_day year_month\n",
              "0   2019-01-01 00:00:18  2703186189652095  ...  Tuesday    2019-01\n",
              "1   2019-01-01 00:00:44      630423337322  ...  Tuesday    2019-01\n",
              "2   2019-01-01 00:00:51    38859492057661  ...  Tuesday    2019-01\n",
              "3   2019-01-01 00:01:16  3534093764340240  ...  Tuesday    2019-01\n",
              "4   2019-01-01 00:03:06   375534208663984  ...  Tuesday    2019-01\n",
              "\n",
              "[5 rows x 24 columns]"
            ]
          },
          "metadata": {
            "tags": []
          },
          "execution_count": 21
        }
      ]
    },
    {
      "cell_type": "code",
      "metadata": {
        "execution": {
          "iopub.status.busy": "2021-06-23T04:17:35.107733Z",
          "iopub.execute_input": "2021-06-23T04:17:35.108123Z",
          "iopub.status.idle": "2021-06-23T04:17:54.916235Z",
          "shell.execute_reply.started": "2021-06-23T04:17:35.108091Z",
          "shell.execute_reply": "2021-06-23T04:17:54.915322Z"
        },
        "trusted": true,
        "colab": {
          "base_uri": "https://localhost:8080/",
          "height": 294
        },
        "id": "8zmIXUSsn2oL",
        "outputId": "6b4a541e-a850-4440-c4eb-f80b29b842d2"
      },
      "source": [
        "plt.figure(figsize=(30,8))\n",
        "plt.subplot(1,2,1)\n",
        "sns.countplot(x=\"week_day\",data=df) \n",
        "plt.subplot(1,2,2)\n",
        "sns.countplot(x=\"year_month\",data=df)"
      ],
      "execution_count": 22,
      "outputs": [
        {
          "output_type": "execute_result",
          "data": {
            "text/plain": [
              "<matplotlib.axes._subplots.AxesSubplot at 0x7f7745ed81d0>"
            ]
          },
          "metadata": {
            "tags": []
          },
          "execution_count": 22
        },
        {
          "output_type": "display_data",
          "data": {
            "image/png": "[encoded data removed]",
            "text/plain": [
              "<Figure size 2160x576 with 2 Axes>"
            ]
          },
          "metadata": {
            "tags": [],
            "needs_background": "light"
          }
        }
      ]
    },
    {
      "cell_type": "markdown",
      "metadata": {
        "id": "1TDJNQE0n2oM"
      },
      "source": [
        "highest Transactions on Moday and Sunday\n",
        "\n",
        "Highest no of transactions in dec,2019 and lowest on feb,2020                                "
      ]
    },
    {
      "cell_type": "code",
      "metadata": {
        "execution": {
          "iopub.status.busy": "2021-06-23T04:23:25.543098Z",
          "iopub.execute_input": "2021-06-23T04:23:25.543451Z",
          "iopub.status.idle": "2021-06-23T04:23:26.100236Z",
          "shell.execute_reply.started": "2021-06-23T04:23:25.543421Z",
          "shell.execute_reply": "2021-06-23T04:23:26.098280Z"
        },
        "trusted": true,
        "id": "ZATbcWI9n2oO"
      },
      "source": [
        "df['dob']=pd.to_datetime(df['dob']) #converting string to the datetime"
      ],
      "execution_count": 23,
      "outputs": []
    },
    {
      "cell_type": "markdown",
      "metadata": {
        "id": "b8nOn-Mnn2oO"
      },
      "source": [
        "Age = Last transaction year - Date of Birth"
      ]
    },
    {
      "cell_type": "code",
      "metadata": {
        "execution": {
          "iopub.status.busy": "2021-06-23T04:33:12.042853Z",
          "iopub.execute_input": "2021-06-23T04:33:12.043202Z",
          "iopub.status.idle": "2021-06-23T04:33:12.137604Z",
          "shell.execute_reply.started": "2021-06-23T04:33:12.043174Z",
          "shell.execute_reply": "2021-06-23T04:33:12.136070Z"
        },
        "trusted": true,
        "id": "kLb7Va6zn2oP"
      },
      "source": [
        "#Age of the customer is derived\n",
        "df['age']=np.round((df['trans_date_trans_time']-df['dob'])/np.timedelta64(1,'Y'))"
      ],
      "execution_count": 24,
      "outputs": []
    },
    {
      "cell_type": "code",
      "metadata": {
        "execution": {
          "iopub.status.busy": "2021-06-23T04:37:09.311648Z",
          "iopub.execute_input": "2021-06-23T04:37:09.312082Z",
          "iopub.status.idle": "2021-06-23T04:37:09.351823Z",
          "shell.execute_reply.started": "2021-06-23T04:37:09.312051Z",
          "shell.execute_reply": "2021-06-23T04:37:09.350265Z"
        },
        "trusted": true,
        "colab": {
          "base_uri": "https://localhost:8080/",
          "height": 496
        },
        "id": "Ek5Cn04nn2oP",
        "outputId": "374a5c26-0ff7-4c0f-9f64-4c1b350304c0"
      },
      "source": [
        "df.head()"
      ],
      "execution_count": 25,
      "outputs": [
        {
          "output_type": "execute_result",
          "data": {
            "text/html": [
              "<div>\n",
              "<style scoped>\n",
              "    .dataframe tbody tr th:only-of-type {\n",
              "        vertical-align: middle;\n",
              "    }\n",
              "\n",
              "    .dataframe tbody tr th {\n",
              "        vertical-align: top;\n",
              "    }\n",
              "\n",
              "    .dataframe thead th {\n",
              "        text-align: right;\n",
              "    }\n",
              "</style>\n",
              "<table border=\"1\" class=\"dataframe\">\n",
              "  <thead>\n",
              "    <tr style=\"text-align: right;\">\n",
              "      <th></th>\n",
              "      <th>trans_date_trans_time</th>\n",
              "      <th>cc_num</th>\n",
              "      <th>merchant</th>\n",
              "      <th>category</th>\n",
              "      <th>amt</th>\n",
              "      <th>first</th>\n",
              "      <th>last</th>\n",
              "      <th>gender</th>\n",
              "      <th>street</th>\n",
              "      <th>city</th>\n",
              "      <th>state</th>\n",
              "      <th>zip</th>\n",
              "      <th>lat</th>\n",
              "      <th>long</th>\n",
              "      <th>city_pop</th>\n",
              "      <th>job</th>\n",
              "      <th>dob</th>\n",
              "      <th>trans_num</th>\n",
              "      <th>unix_time</th>\n",
              "      <th>merch_lat</th>\n",
              "      <th>merch_long</th>\n",
              "      <th>is_fraud</th>\n",
              "      <th>week_day</th>\n",
              "      <th>year_month</th>\n",
              "      <th>age</th>\n",
              "    </tr>\n",
              "  </thead>\n",
              "  <tbody>\n",
              "    <tr>\n",
              "      <th>0</th>\n",
              "      <td>2019-01-01 00:00:18</td>\n",
              "      <td>2703186189652095</td>\n",
              "      <td>fraud_Rippin, Kub and Mann</td>\n",
              "      <td>misc_net</td>\n",
              "      <td>4.97</td>\n",
              "      <td>Jennifer</td>\n",
              "      <td>Banks</td>\n",
              "      <td>F</td>\n",
              "      <td>561 Perry Cove</td>\n",
              "      <td>Moravian Falls</td>\n",
              "      <td>NC</td>\n",
              "      <td>28654</td>\n",
              "      <td>36.0788</td>\n",
              "      <td>-81.1781</td>\n",
              "      <td>3495</td>\n",
              "      <td>Psychologist, counselling</td>\n",
              "      <td>1988-03-09</td>\n",
              "      <td>0b242abb623afc578575680df30655b9</td>\n",
              "      <td>1325376018</td>\n",
              "      <td>36.011293</td>\n",
              "      <td>-82.048315</td>\n",
              "      <td>0</td>\n",
              "      <td>Tuesday</td>\n",
              "      <td>2019-01</td>\n",
              "      <td>31.0</td>\n",
              "    </tr>\n",
              "    <tr>\n",
              "      <th>1</th>\n",
              "      <td>2019-01-01 00:00:44</td>\n",
              "      <td>630423337322</td>\n",
              "      <td>fraud_Heller, Gutmann and Zieme</td>\n",
              "      <td>grocery_pos</td>\n",
              "      <td>107.23</td>\n",
              "      <td>Stephanie</td>\n",
              "      <td>Gill</td>\n",
              "      <td>F</td>\n",
              "      <td>43039 Riley Greens Suite 393</td>\n",
              "      <td>Orient</td>\n",
              "      <td>WA</td>\n",
              "      <td>99160</td>\n",
              "      <td>48.8878</td>\n",
              "      <td>-118.2105</td>\n",
              "      <td>149</td>\n",
              "      <td>Special educational needs teacher</td>\n",
              "      <td>1978-06-21</td>\n",
              "      <td>1f76529f8574734946361c461b024d99</td>\n",
              "      <td>1325376044</td>\n",
              "      <td>49.159047</td>\n",
              "      <td>-118.186462</td>\n",
              "      <td>0</td>\n",
              "      <td>Tuesday</td>\n",
              "      <td>2019-01</td>\n",
              "      <td>41.0</td>\n",
              "    </tr>\n",
              "    <tr>\n",
              "      <th>2</th>\n",
              "      <td>2019-01-01 00:00:51</td>\n",
              "      <td>38859492057661</td>\n",
              "      <td>fraud_Lind-Buckridge</td>\n",
              "      <td>entertainment</td>\n",
              "      <td>220.11</td>\n",
              "      <td>Edward</td>\n",
              "      <td>Sanchez</td>\n",
              "      <td>M</td>\n",
              "      <td>594 White Dale Suite 530</td>\n",
              "      <td>Malad City</td>\n",
              "      <td>ID</td>\n",
              "      <td>83252</td>\n",
              "      <td>42.1808</td>\n",
              "      <td>-112.2620</td>\n",
              "      <td>4154</td>\n",
              "      <td>Nature conservation officer</td>\n",
              "      <td>1962-01-19</td>\n",
              "      <td>a1a22d70485983eac12b5b88dad1cf95</td>\n",
              "      <td>1325376051</td>\n",
              "      <td>43.150704</td>\n",
              "      <td>-112.154481</td>\n",
              "      <td>0</td>\n",
              "      <td>Tuesday</td>\n",
              "      <td>2019-01</td>\n",
              "      <td>57.0</td>\n",
              "    </tr>\n",
              "    <tr>\n",
              "      <th>3</th>\n",
              "      <td>2019-01-01 00:01:16</td>\n",
              "      <td>3534093764340240</td>\n",
              "      <td>fraud_Kutch, Hermiston and Farrell</td>\n",
              "      <td>gas_transport</td>\n",
              "      <td>45.00</td>\n",
              "      <td>Jeremy</td>\n",
              "      <td>White</td>\n",
              "      <td>M</td>\n",
              "      <td>9443 Cynthia Court Apt. 038</td>\n",
              "      <td>Boulder</td>\n",
              "      <td>MT</td>\n",
              "      <td>59632</td>\n",
              "      <td>46.2306</td>\n",
              "      <td>-112.1138</td>\n",
              "      <td>1939</td>\n",
              "      <td>Patent attorney</td>\n",
              "      <td>1967-01-12</td>\n",
              "      <td>6b849c168bdad6f867558c3793159a81</td>\n",
              "      <td>1325376076</td>\n",
              "      <td>47.034331</td>\n",
              "      <td>-112.561071</td>\n",
              "      <td>0</td>\n",
              "      <td>Tuesday</td>\n",
              "      <td>2019-01</td>\n",
              "      <td>52.0</td>\n",
              "    </tr>\n",
              "    <tr>\n",
              "      <th>4</th>\n",
              "      <td>2019-01-01 00:03:06</td>\n",
              "      <td>375534208663984</td>\n",
              "      <td>fraud_Keeling-Crist</td>\n",
              "      <td>misc_pos</td>\n",
              "      <td>41.96</td>\n",
              "      <td>Tyler</td>\n",
              "      <td>Garcia</td>\n",
              "      <td>M</td>\n",
              "      <td>408 Bradley Rest</td>\n",
              "      <td>Doe Hill</td>\n",
              "      <td>VA</td>\n",
              "      <td>24433</td>\n",
              "      <td>38.4207</td>\n",
              "      <td>-79.4629</td>\n",
              "      <td>99</td>\n",
              "      <td>Dance movement psychotherapist</td>\n",
              "      <td>1986-03-28</td>\n",
              "      <td>a41d7549acf90789359a9aa5346dcb46</td>\n",
              "      <td>1325376186</td>\n",
              "      <td>38.674999</td>\n",
              "      <td>-78.632459</td>\n",
              "      <td>0</td>\n",
              "      <td>Tuesday</td>\n",
              "      <td>2019-01</td>\n",
              "      <td>33.0</td>\n",
              "    </tr>\n",
              "  </tbody>\n",
              "</table>\n",
              "</div>"
            ],
            "text/plain": [
              "  trans_date_trans_time            cc_num  ... year_month   age\n",
              "0   2019-01-01 00:00:18  2703186189652095  ...    2019-01  31.0\n",
              "1   2019-01-01 00:00:44      630423337322  ...    2019-01  41.0\n",
              "2   2019-01-01 00:00:51    38859492057661  ...    2019-01  57.0\n",
              "3   2019-01-01 00:01:16  3534093764340240  ...    2019-01  52.0\n",
              "4   2019-01-01 00:03:06   375534208663984  ...    2019-01  33.0\n",
              "\n",
              "[5 rows x 25 columns]"
            ]
          },
          "metadata": {
            "tags": []
          },
          "execution_count": 25
        }
      ]
    },
    {
      "cell_type": "code",
      "metadata": {
        "execution": {
          "iopub.status.busy": "2021-06-23T04:42:13.333652Z",
          "iopub.execute_input": "2021-06-23T04:42:13.334192Z",
          "iopub.status.idle": "2021-06-23T04:42:13.344590Z",
          "shell.execute_reply.started": "2021-06-23T04:42:13.334150Z",
          "shell.execute_reply": "2021-06-23T04:42:13.343258Z"
        },
        "trusted": true,
        "colab": {
          "base_uri": "https://localhost:8080/"
        },
        "id": "Xm388IXWn2oQ",
        "outputId": "64c16e36-e818-4737-a096-4a1ed23e4a69"
      },
      "source": [
        "print(\"max age -> {}, min age -> {}, mean age -> {} \".format(df['age'].max(),df['age'].min(),df['age'].mean()))"
      ],
      "execution_count": 26,
      "outputs": [
        {
          "output_type": "stream",
          "text": [
            "max age -> 96.0, min age -> 14.0, mean age -> 45.99986041220815 \n"
          ],
          "name": "stdout"
        }
      ]
    },
    {
      "cell_type": "code",
      "metadata": {
        "execution": {
          "iopub.status.busy": "2021-06-23T04:50:18.662875Z",
          "iopub.execute_input": "2021-06-23T04:50:18.663161Z",
          "iopub.status.idle": "2021-06-23T04:50:19.007604Z",
          "shell.execute_reply.started": "2021-06-23T04:50:18.663137Z",
          "shell.execute_reply": "2021-06-23T04:50:19.005149Z"
        },
        "trusted": true,
        "colab": {
          "base_uri": "https://localhost:8080/"
        },
        "id": "V4UnPtvLn2oR",
        "outputId": "6266df50-b5bc-4183-bf6f-22dbffd69add"
      },
      "source": [
        "print(\"mean age for the non fraud customer {}, mean age for the fradulant customer {} \\nso the mean age of two type of customers are quite same\".format(df[df.is_fraud==0].age.mean(),df[df.is_fraud==1].age.mean()))"
      ],
      "execution_count": 27,
      "outputs": [
        {
          "output_type": "stream",
          "text": [
            "mean age for the non fraud customer 45.98357003620161, mean age for the fradulant customer 48.79776179056755 \n",
            "so the mean age of two type of customers are quite same\n"
          ],
          "name": "stdout"
        }
      ]
    },
    {
      "cell_type": "markdown",
      "metadata": {
        "id": "tU0DbMFIn2oS"
      },
      "source": [
        "# Checking the Distribution of amounts"
      ]
    },
    {
      "cell_type": "code",
      "metadata": {
        "execution": {
          "iopub.status.busy": "2021-06-23T04:59:43.151898Z",
          "iopub.execute_input": "2021-06-23T04:59:43.152249Z",
          "iopub.status.idle": "2021-06-23T04:59:43.580927Z",
          "shell.execute_reply.started": "2021-06-23T04:59:43.152220Z",
          "shell.execute_reply": "2021-06-23T04:59:43.579411Z"
        },
        "trusted": true,
        "colab": {
          "base_uri": "https://localhost:8080/",
          "height": 297
        },
        "id": "LpxvnrDmn2oS",
        "outputId": "dc9d9351-6a60-4342-e227-0baf02438740"
      },
      "source": [
        "pd.concat(\n",
        "[df['amt'].describe(percentiles = [0.5,0.95,0.999]).reset_index().rename(columns={'index': 'Row Type', 'amt':'Overall Amt Distribution'}),\n",
        "df.loc[df['is_fraud']==0,['amt']].describe(percentiles = [0.5,0.95,0.999]).reset_index(drop = 1).rename(columns={'amt':'Non Fraud Amt Distribution'}),\n",
        "df.loc[df['is_fraud']==1,['amt']].describe(percentiles = [0.5,0.95,0.999]).reset_index(drop = 1).rename(columns={'amt':'Fraud Amt Distribution'})],\n",
        "axis=1)"
      ],
      "execution_count": 28,
      "outputs": [
        {
          "output_type": "execute_result",
          "data": {
            "text/html": [
              "<div>\n",
              "<style scoped>\n",
              "    .dataframe tbody tr th:only-of-type {\n",
              "        vertical-align: middle;\n",
              "    }\n",
              "\n",
              "    .dataframe tbody tr th {\n",
              "        vertical-align: top;\n",
              "    }\n",
              "\n",
              "    .dataframe thead th {\n",
              "        text-align: right;\n",
              "    }\n",
              "</style>\n",
              "<table border=\"1\" class=\"dataframe\">\n",
              "  <thead>\n",
              "    <tr style=\"text-align: right;\">\n",
              "      <th></th>\n",
              "      <th>Row Type</th>\n",
              "      <th>Overall Amt Distribution</th>\n",
              "      <th>Non Fraud Amt Distribution</th>\n",
              "      <th>Fraud Amt Distribution</th>\n",
              "    </tr>\n",
              "  </thead>\n",
              "  <tbody>\n",
              "    <tr>\n",
              "      <th>0</th>\n",
              "      <td>count</td>\n",
              "      <td>1.296675e+06</td>\n",
              "      <td>1.289169e+06</td>\n",
              "      <td>7506.000000</td>\n",
              "    </tr>\n",
              "    <tr>\n",
              "      <th>1</th>\n",
              "      <td>mean</td>\n",
              "      <td>7.035104e+01</td>\n",
              "      <td>6.766711e+01</td>\n",
              "      <td>531.320092</td>\n",
              "    </tr>\n",
              "    <tr>\n",
              "      <th>2</th>\n",
              "      <td>std</td>\n",
              "      <td>1.603160e+02</td>\n",
              "      <td>1.540080e+02</td>\n",
              "      <td>390.560070</td>\n",
              "    </tr>\n",
              "    <tr>\n",
              "      <th>3</th>\n",
              "      <td>min</td>\n",
              "      <td>1.000000e+00</td>\n",
              "      <td>1.000000e+00</td>\n",
              "      <td>1.060000</td>\n",
              "    </tr>\n",
              "    <tr>\n",
              "      <th>4</th>\n",
              "      <td>50%</td>\n",
              "      <td>4.752000e+01</td>\n",
              "      <td>4.728000e+01</td>\n",
              "      <td>396.505000</td>\n",
              "    </tr>\n",
              "    <tr>\n",
              "      <th>5</th>\n",
              "      <td>95%</td>\n",
              "      <td>1.963100e+02</td>\n",
              "      <td>1.899000e+02</td>\n",
              "      <td>1083.985000</td>\n",
              "    </tr>\n",
              "    <tr>\n",
              "      <th>6</th>\n",
              "      <td>99.9%</td>\n",
              "      <td>1.499254e+03</td>\n",
              "      <td>1.503696e+03</td>\n",
              "      <td>1291.038400</td>\n",
              "    </tr>\n",
              "    <tr>\n",
              "      <th>7</th>\n",
              "      <td>max</td>\n",
              "      <td>2.894890e+04</td>\n",
              "      <td>2.894890e+04</td>\n",
              "      <td>1376.040000</td>\n",
              "    </tr>\n",
              "  </tbody>\n",
              "</table>\n",
              "</div>"
            ],
            "text/plain": [
              "  Row Type  ...  Fraud Amt Distribution\n",
              "0    count  ...             7506.000000\n",
              "1     mean  ...              531.320092\n",
              "2      std  ...              390.560070\n",
              "3      min  ...                1.060000\n",
              "4      50%  ...              396.505000\n",
              "5      95%  ...             1083.985000\n",
              "6    99.9%  ...             1291.038400\n",
              "7      max  ...             1376.040000\n",
              "\n",
              "[8 rows x 4 columns]"
            ]
          },
          "metadata": {
            "tags": []
          },
          "execution_count": 28
        }
      ]
    },
    {
      "cell_type": "markdown",
      "metadata": {
        "id": "JQ4S6Iahn2oU"
      },
      "source": [
        "Mean amount spent in Fraud Transaction is More than the mean amount spent in the non Fraud Transactions"
      ]
    },
    {
      "cell_type": "code",
      "metadata": {
        "execution": {
          "iopub.status.busy": "2021-06-23T05:45:33.792810Z",
          "iopub.execute_input": "2021-06-23T05:45:33.793195Z",
          "iopub.status.idle": "2021-06-23T05:45:59.654310Z",
          "shell.execute_reply.started": "2021-06-23T05:45:33.793162Z",
          "shell.execute_reply": "2021-06-23T05:45:59.653187Z"
        },
        "trusted": true,
        "colab": {
          "base_uri": "https://localhost:8080/",
          "height": 404
        },
        "id": "tQ-d1-6Tn2oX",
        "outputId": "fcb5fc82-9011-43c0-9b62-ad6eb60f6e46"
      },
      "source": [
        "plt.figure(figsize=(20,5))\n",
        "plt.subplot(1,3,1)\n",
        "fig1=sns.distplot(df[df.amt <=1500].amt)\n",
        "fig1.set(xlabel='Transaction amt', ylabel='No Of transactions',title='Total Amount Transaction')\n",
        "plt.subplot(1,3,2)\n",
        "fig2=sns.distplot(df[(df.is_fraud ==0) & (df.amt <=1500)].amt)\n",
        "fig2.set(xlabel='Transaction amt', ylabel='No Of transactions',title='Total Non Fraud Amount Transaction')\n",
        "plt.subplot(1,3,3)\n",
        "fig3=sns.distplot(df[(df.is_fraud==1) & (df.amt <=1500) ].amt)\n",
        "fig3.set(xlabel='Transaction amt', ylabel='No Of transactions',title='Total Fraud Amount Transaction')            \n",
        "plt.show()\n"
      ],
      "execution_count": 29,
      "outputs": [
        {
          "output_type": "stream",
          "text": [
            "/usr/local/lib/python3.7/dist-packages/seaborn/distributions.py:2557: FutureWarning: `distplot` is a deprecated function and will be removed in a future version. Please adapt your code to use either `displot` (a figure-level function with similar flexibility) or `histplot` (an axes-level function for histograms).\n",
            "  warnings.warn(msg, FutureWarning)\n",
            "/usr/local/lib/python3.7/dist-packages/seaborn/distributions.py:2557: FutureWarning: `distplot` is a deprecated function and will be removed in a future version. Please adapt your code to use either `displot` (a figure-level function with similar flexibility) or `histplot` (an axes-level function for histograms).\n",
            "  warnings.warn(msg, FutureWarning)\n",
            "/usr/local/lib/python3.7/dist-packages/seaborn/distributions.py:2557: FutureWarning: `distplot` is a deprecated function and will be removed in a future version. Please adapt your code to use either `displot` (a figure-level function with similar flexibility) or `histplot` (an axes-level function for histograms).\n",
            "  warnings.warn(msg, FutureWarning)\n"
          ],
          "name": "stderr"
        },
        {
          "output_type": "display_data",
          "data": {
            "image/png": "[encoded data removed]",
            "text/plain": [
              "<Figure size 1440x360 with 3 Axes>"
            ]
          },
          "metadata": {
            "tags": [],
            "needs_background": "light"
          }
        }
      ]
    },
    {
      "cell_type": "markdown",
      "metadata": {
        "id": "7TyQLiHsn2oZ"
      },
      "source": [
        "From the graph its clear that the fraud transactions are tends to have more amounts"
      ]
    },
    {
      "cell_type": "markdown",
      "metadata": {
        "id": "ZQg1MNp8n2oZ"
      },
      "source": [
        "# Months vs Fraud Transactions"
      ]
    },
    {
      "cell_type": "code",
      "metadata": {
        "execution": {
          "iopub.status.busy": "2021-06-23T05:57:59.279148Z",
          "iopub.execute_input": "2021-06-23T05:57:59.279554Z",
          "iopub.status.idle": "2021-06-23T05:57:59.324017Z",
          "shell.execute_reply.started": "2021-06-23T05:57:59.279519Z",
          "shell.execute_reply": "2021-06-23T05:57:59.322758Z"
        },
        "trusted": true,
        "colab": {
          "base_uri": "https://localhost:8080/",
          "height": 607
        },
        "id": "h6scvN-Tn2oa",
        "outputId": "4b80a7a1-15d4-4f53-df27-d0db9bbe846b"
      },
      "source": [
        "df_fraud_transactions = df[df['is_fraud']==1]\n",
        "\n",
        "df_timeline = df_fraud_transactions.groupby(df_fraud_transactions['year_month'])[['trans_num','cc_num']].nunique().reset_index()\n",
        "df_timeline.columns = ['year_month','num_of_fraud_transactions','fraud_customers']\n",
        "df_timeline"
      ],
      "execution_count": 30,
      "outputs": [
        {
          "output_type": "execute_result",
          "data": {
            "text/html": [
              "<div>\n",
              "<style scoped>\n",
              "    .dataframe tbody tr th:only-of-type {\n",
              "        vertical-align: middle;\n",
              "    }\n",
              "\n",
              "    .dataframe tbody tr th {\n",
              "        vertical-align: top;\n",
              "    }\n",
              "\n",
              "    .dataframe thead th {\n",
              "        text-align: right;\n",
              "    }\n",
              "</style>\n",
              "<table border=\"1\" class=\"dataframe\">\n",
              "  <thead>\n",
              "    <tr style=\"text-align: right;\">\n",
              "      <th></th>\n",
              "      <th>year_month</th>\n",
              "      <th>num_of_fraud_transactions</th>\n",
              "      <th>fraud_customers</th>\n",
              "    </tr>\n",
              "  </thead>\n",
              "  <tbody>\n",
              "    <tr>\n",
              "      <th>0</th>\n",
              "      <td>2019-01</td>\n",
              "      <td>506</td>\n",
              "      <td>50</td>\n",
              "    </tr>\n",
              "    <tr>\n",
              "      <th>1</th>\n",
              "      <td>2019-02</td>\n",
              "      <td>517</td>\n",
              "      <td>53</td>\n",
              "    </tr>\n",
              "    <tr>\n",
              "      <th>2</th>\n",
              "      <td>2019-03</td>\n",
              "      <td>494</td>\n",
              "      <td>49</td>\n",
              "    </tr>\n",
              "    <tr>\n",
              "      <th>3</th>\n",
              "      <td>2019-04</td>\n",
              "      <td>376</td>\n",
              "      <td>41</td>\n",
              "    </tr>\n",
              "    <tr>\n",
              "      <th>4</th>\n",
              "      <td>2019-05</td>\n",
              "      <td>408</td>\n",
              "      <td>42</td>\n",
              "    </tr>\n",
              "    <tr>\n",
              "      <th>5</th>\n",
              "      <td>2019-06</td>\n",
              "      <td>354</td>\n",
              "      <td>35</td>\n",
              "    </tr>\n",
              "    <tr>\n",
              "      <th>6</th>\n",
              "      <td>2019-07</td>\n",
              "      <td>331</td>\n",
              "      <td>36</td>\n",
              "    </tr>\n",
              "    <tr>\n",
              "      <th>7</th>\n",
              "      <td>2019-08</td>\n",
              "      <td>382</td>\n",
              "      <td>39</td>\n",
              "    </tr>\n",
              "    <tr>\n",
              "      <th>8</th>\n",
              "      <td>2019-09</td>\n",
              "      <td>418</td>\n",
              "      <td>44</td>\n",
              "    </tr>\n",
              "    <tr>\n",
              "      <th>9</th>\n",
              "      <td>2019-10</td>\n",
              "      <td>454</td>\n",
              "      <td>50</td>\n",
              "    </tr>\n",
              "    <tr>\n",
              "      <th>10</th>\n",
              "      <td>2019-11</td>\n",
              "      <td>388</td>\n",
              "      <td>41</td>\n",
              "    </tr>\n",
              "    <tr>\n",
              "      <th>11</th>\n",
              "      <td>2019-12</td>\n",
              "      <td>592</td>\n",
              "      <td>62</td>\n",
              "    </tr>\n",
              "    <tr>\n",
              "      <th>12</th>\n",
              "      <td>2020-01</td>\n",
              "      <td>343</td>\n",
              "      <td>40</td>\n",
              "    </tr>\n",
              "    <tr>\n",
              "      <th>13</th>\n",
              "      <td>2020-02</td>\n",
              "      <td>336</td>\n",
              "      <td>35</td>\n",
              "    </tr>\n",
              "    <tr>\n",
              "      <th>14</th>\n",
              "      <td>2020-03</td>\n",
              "      <td>444</td>\n",
              "      <td>45</td>\n",
              "    </tr>\n",
              "    <tr>\n",
              "      <th>15</th>\n",
              "      <td>2020-04</td>\n",
              "      <td>302</td>\n",
              "      <td>36</td>\n",
              "    </tr>\n",
              "    <tr>\n",
              "      <th>16</th>\n",
              "      <td>2020-05</td>\n",
              "      <td>527</td>\n",
              "      <td>54</td>\n",
              "    </tr>\n",
              "    <tr>\n",
              "      <th>17</th>\n",
              "      <td>2020-06</td>\n",
              "      <td>334</td>\n",
              "      <td>36</td>\n",
              "    </tr>\n",
              "  </tbody>\n",
              "</table>\n",
              "</div>"
            ],
            "text/plain": [
              "   year_month  num_of_fraud_transactions  fraud_customers\n",
              "0     2019-01                        506               50\n",
              "1     2019-02                        517               53\n",
              "2     2019-03                        494               49\n",
              "3     2019-04                        376               41\n",
              "4     2019-05                        408               42\n",
              "5     2019-06                        354               35\n",
              "6     2019-07                        331               36\n",
              "7     2019-08                        382               39\n",
              "8     2019-09                        418               44\n",
              "9     2019-10                        454               50\n",
              "10    2019-11                        388               41\n",
              "11    2019-12                        592               62\n",
              "12    2020-01                        343               40\n",
              "13    2020-02                        336               35\n",
              "14    2020-03                        444               45\n",
              "15    2020-04                        302               36\n",
              "16    2020-05                        527               54\n",
              "17    2020-06                        334               36"
            ]
          },
          "metadata": {
            "tags": []
          },
          "execution_count": 30
        }
      ]
    },
    {
      "cell_type": "code",
      "metadata": {
        "execution": {
          "iopub.status.busy": "2021-06-23T06:00:38.719143Z",
          "iopub.execute_input": "2021-06-23T06:00:38.719534Z",
          "iopub.status.idle": "2021-06-23T06:00:38.725962Z",
          "shell.execute_reply.started": "2021-06-23T06:00:38.719500Z",
          "shell.execute_reply": "2021-06-23T06:00:38.724973Z"
        },
        "trusted": true,
        "colab": {
          "base_uri": "https://localhost:8080/"
        },
        "id": "MIUGaUMNn2ob",
        "outputId": "7dff9f0f-298a-4f99-dc42-8b54167a5fd8"
      },
      "source": [
        "#mean of no fraud transactions by every month\n",
        "df_timeline['num_of_fraud_transactions'].mean()"
      ],
      "execution_count": 31,
      "outputs": [
        {
          "output_type": "execute_result",
          "data": {
            "text/plain": [
              "417.0"
            ]
          },
          "metadata": {
            "tags": []
          },
          "execution_count": 31
        }
      ]
    },
    {
      "cell_type": "code",
      "metadata": {
        "execution": {
          "iopub.status.busy": "2021-06-23T06:13:19.128468Z",
          "iopub.execute_input": "2021-06-23T06:13:19.128921Z",
          "iopub.status.idle": "2021-06-23T06:13:19.465890Z",
          "shell.execute_reply.started": "2021-06-23T06:13:19.128886Z",
          "shell.execute_reply": "2021-06-23T06:13:19.463894Z"
        },
        "trusted": true,
        "colab": {
          "base_uri": "https://localhost:8080/",
          "height": 290
        },
        "id": "Nl8ipAG6n2oc",
        "outputId": "ab6b2e70-1f28-482a-cf73-0c42a64dc916"
      },
      "source": [
        "figure = plt.figure(figsize=(20,5))\n",
        "sns.barplot(x=\"year_month\",y=\"num_of_fraud_transactions\",data=df_timeline)"
      ],
      "execution_count": 32,
      "outputs": [
        {
          "output_type": "execute_result",
          "data": {
            "text/plain": [
              "<matplotlib.axes._subplots.AxesSubplot at 0x7f774b3f42d0>"
            ]
          },
          "metadata": {
            "tags": []
          },
          "execution_count": 32
        },
        {
          "output_type": "display_data",
          "data": {
            "image/png": "[encoded data removed]",
            "text/plain": [
              "<Figure size 1440x360 with 1 Axes>"
            ]
          },
          "metadata": {
            "tags": [],
            "needs_background": "light"
          }
        }
      ]
    },
    {
      "cell_type": "markdown",
      "metadata": {
        "id": "8UUrWV1Fn2oc"
      },
      "source": [
        "December month on 2019 has highest no of Fraudulant Transactions"
      ]
    },
    {
      "cell_type": "markdown",
      "metadata": {
        "id": "PZTgxk2rn2od"
      },
      "source": [
        "# Analysing Data Transaction Catagory wise"
      ]
    },
    {
      "cell_type": "code",
      "metadata": {
        "execution": {
          "iopub.status.busy": "2021-06-23T06:39:57.902942Z",
          "iopub.execute_input": "2021-06-23T06:39:57.903479Z",
          "iopub.status.idle": "2021-06-23T06:39:58.293623Z",
          "shell.execute_reply.started": "2021-06-23T06:39:57.903448Z",
          "shell.execute_reply": "2021-06-23T06:39:58.292112Z"
        },
        "trusted": true,
        "colab": {
          "base_uri": "https://localhost:8080/",
          "height": 483
        },
        "id": "fFt_uvlTn2od",
        "outputId": "e7ca0cd7-207f-4b0c-9b9b-7d8f26e2de13"
      },
      "source": [
        "df_category = df[['category','trans_num']].groupby(['category']).count().reset_index()\n",
        "df_category.columns = ['Category','category_count']\n",
        "\n",
        "df_category['percentage'] = (df_category['category_count']/df_category['category_count'].sum())*100\n",
        "\n",
        "df_category.sort_values(by = ['percentage'], ascending=False)"
      ],
      "execution_count": 33,
      "outputs": [
        {
          "output_type": "execute_result",
          "data": {
            "text/html": [
              "<div>\n",
              "<style scoped>\n",
              "    .dataframe tbody tr th:only-of-type {\n",
              "        vertical-align: middle;\n",
              "    }\n",
              "\n",
              "    .dataframe tbody tr th {\n",
              "        vertical-align: top;\n",
              "    }\n",
              "\n",
              "    .dataframe thead th {\n",
              "        text-align: right;\n",
              "    }\n",
              "</style>\n",
              "<table border=\"1\" class=\"dataframe\">\n",
              "  <thead>\n",
              "    <tr style=\"text-align: right;\">\n",
              "      <th></th>\n",
              "      <th>Category</th>\n",
              "      <th>category_count</th>\n",
              "      <th>percentage</th>\n",
              "    </tr>\n",
              "  </thead>\n",
              "  <tbody>\n",
              "    <tr>\n",
              "      <th>2</th>\n",
              "      <td>gas_transport</td>\n",
              "      <td>131659</td>\n",
              "      <td>10.153585</td>\n",
              "    </tr>\n",
              "    <tr>\n",
              "      <th>4</th>\n",
              "      <td>grocery_pos</td>\n",
              "      <td>123638</td>\n",
              "      <td>9.535003</td>\n",
              "    </tr>\n",
              "    <tr>\n",
              "      <th>6</th>\n",
              "      <td>home</td>\n",
              "      <td>123115</td>\n",
              "      <td>9.494669</td>\n",
              "    </tr>\n",
              "    <tr>\n",
              "      <th>12</th>\n",
              "      <td>shopping_pos</td>\n",
              "      <td>116672</td>\n",
              "      <td>8.997783</td>\n",
              "    </tr>\n",
              "    <tr>\n",
              "      <th>7</th>\n",
              "      <td>kids_pets</td>\n",
              "      <td>113035</td>\n",
              "      <td>8.717296</td>\n",
              "    </tr>\n",
              "    <tr>\n",
              "      <th>11</th>\n",
              "      <td>shopping_net</td>\n",
              "      <td>97543</td>\n",
              "      <td>7.522548</td>\n",
              "    </tr>\n",
              "    <tr>\n",
              "      <th>0</th>\n",
              "      <td>entertainment</td>\n",
              "      <td>94014</td>\n",
              "      <td>7.250390</td>\n",
              "    </tr>\n",
              "    <tr>\n",
              "      <th>1</th>\n",
              "      <td>food_dining</td>\n",
              "      <td>91461</td>\n",
              "      <td>7.053502</td>\n",
              "    </tr>\n",
              "    <tr>\n",
              "      <th>10</th>\n",
              "      <td>personal_care</td>\n",
              "      <td>90758</td>\n",
              "      <td>6.999287</td>\n",
              "    </tr>\n",
              "    <tr>\n",
              "      <th>5</th>\n",
              "      <td>health_fitness</td>\n",
              "      <td>85879</td>\n",
              "      <td>6.623017</td>\n",
              "    </tr>\n",
              "    <tr>\n",
              "      <th>9</th>\n",
              "      <td>misc_pos</td>\n",
              "      <td>79655</td>\n",
              "      <td>6.143020</td>\n",
              "    </tr>\n",
              "    <tr>\n",
              "      <th>8</th>\n",
              "      <td>misc_net</td>\n",
              "      <td>63287</td>\n",
              "      <td>4.880714</td>\n",
              "    </tr>\n",
              "    <tr>\n",
              "      <th>3</th>\n",
              "      <td>grocery_net</td>\n",
              "      <td>45452</td>\n",
              "      <td>3.505273</td>\n",
              "    </tr>\n",
              "    <tr>\n",
              "      <th>13</th>\n",
              "      <td>travel</td>\n",
              "      <td>40507</td>\n",
              "      <td>3.123913</td>\n",
              "    </tr>\n",
              "  </tbody>\n",
              "</table>\n",
              "</div>"
            ],
            "text/plain": [
              "          Category  category_count  percentage\n",
              "2    gas_transport          131659   10.153585\n",
              "4      grocery_pos          123638    9.535003\n",
              "6             home          123115    9.494669\n",
              "12    shopping_pos          116672    8.997783\n",
              "7        kids_pets          113035    8.717296\n",
              "11    shopping_net           97543    7.522548\n",
              "0    entertainment           94014    7.250390\n",
              "1      food_dining           91461    7.053502\n",
              "10   personal_care           90758    6.999287\n",
              "5   health_fitness           85879    6.623017\n",
              "9         misc_pos           79655    6.143020\n",
              "8         misc_net           63287    4.880714\n",
              "3      grocery_net           45452    3.505273\n",
              "13          travel           40507    3.123913"
            ]
          },
          "metadata": {
            "tags": []
          },
          "execution_count": 33
        }
      ]
    },
    {
      "cell_type": "code",
      "metadata": {
        "execution": {
          "iopub.status.busy": "2021-06-23T06:40:04.951895Z",
          "iopub.execute_input": "2021-06-23T06:40:04.952257Z",
          "iopub.status.idle": "2021-06-23T06:40:05.236917Z",
          "shell.execute_reply.started": "2021-06-23T06:40:04.952228Z",
          "shell.execute_reply": "2021-06-23T06:40:05.235901Z"
        },
        "trusted": true,
        "colab": {
          "base_uri": "https://localhost:8080/",
          "height": 286
        },
        "id": "rM0XlRzpn2oe",
        "outputId": "1683defe-2c5a-4e48-a4a6-d3c781ad41b2"
      },
      "source": [
        "figure = plt.figure(figsize=(20,5))\n",
        "sns.barplot(x=\"Category\",y=\"category_count\",data=df_category)"
      ],
      "execution_count": 34,
      "outputs": [
        {
          "output_type": "execute_result",
          "data": {
            "text/plain": [
              "<matplotlib.axes._subplots.AxesSubplot at 0x7f7744fa5250>"
            ]
          },
          "metadata": {
            "tags": []
          },
          "execution_count": 34
        },
        {
          "output_type": "display_data",
          "data": {
            "image/png": "[encoded data removed]",
            "text/plain": [
              "<Figure size 1440x360 with 1 Axes>"
            ]
          },
          "metadata": {
            "tags": [],
            "needs_background": "light"
          }
        }
      ]
    },
    {
      "cell_type": "markdown",
      "metadata": {
        "id": "fyziFefen2of"
      },
      "source": [
        "clearly showing that the most of the transactions has been done in the gas_transport catagory"
      ]
    },
    {
      "cell_type": "markdown",
      "metadata": {
        "id": "OQMwYn4-n2og"
      },
      "source": [
        "**Fraud transaction , category wise**"
      ]
    },
    {
      "cell_type": "code",
      "metadata": {
        "execution": {
          "iopub.status.busy": "2021-06-23T06:40:09.931791Z",
          "iopub.execute_input": "2021-06-23T06:40:09.932147Z",
          "iopub.status.idle": "2021-06-23T06:40:09.976123Z",
          "shell.execute_reply.started": "2021-06-23T06:40:09.932118Z",
          "shell.execute_reply": "2021-06-23T06:40:09.974963Z"
        },
        "trusted": true,
        "colab": {
          "base_uri": "https://localhost:8080/",
          "height": 483
        },
        "id": "xq1ypo5Nn2og",
        "outputId": "66e424fb-46ed-459a-eb42-b8471627bbd9"
      },
      "source": [
        "df_fraud = df[df.is_fraud ==1]\n",
        "df_category_fraud = df_fraud[['category','is_fraud','trans_num']].groupby(['category','is_fraud']).count().reset_index()\n",
        "df_category_fraud.columns = ['Category','is_fraud','category_count']\n",
        "df_category_fraud['fraud_percentage'] = (df_category_fraud['category_count']/df_category['category_count'].sum())*100\n",
        "\n",
        "df_category_fraud.sort_values(by = ['fraud_percentage'], ascending=False)\n"
      ],
      "execution_count": 35,
      "outputs": [
        {
          "output_type": "execute_result",
          "data": {
            "text/html": [
              "<div>\n",
              "<style scoped>\n",
              "    .dataframe tbody tr th:only-of-type {\n",
              "        vertical-align: middle;\n",
              "    }\n",
              "\n",
              "    .dataframe tbody tr th {\n",
              "        vertical-align: top;\n",
              "    }\n",
              "\n",
              "    .dataframe thead th {\n",
              "        text-align: right;\n",
              "    }\n",
              "</style>\n",
              "<table border=\"1\" class=\"dataframe\">\n",
              "  <thead>\n",
              "    <tr style=\"text-align: right;\">\n",
              "      <th></th>\n",
              "      <th>Category</th>\n",
              "      <th>is_fraud</th>\n",
              "      <th>category_count</th>\n",
              "      <th>fraud_percentage</th>\n",
              "    </tr>\n",
              "  </thead>\n",
              "  <tbody>\n",
              "    <tr>\n",
              "      <th>4</th>\n",
              "      <td>grocery_pos</td>\n",
              "      <td>1</td>\n",
              "      <td>1743</td>\n",
              "      <td>0.134421</td>\n",
              "    </tr>\n",
              "    <tr>\n",
              "      <th>11</th>\n",
              "      <td>shopping_net</td>\n",
              "      <td>1</td>\n",
              "      <td>1713</td>\n",
              "      <td>0.132107</td>\n",
              "    </tr>\n",
              "    <tr>\n",
              "      <th>8</th>\n",
              "      <td>misc_net</td>\n",
              "      <td>1</td>\n",
              "      <td>915</td>\n",
              "      <td>0.070565</td>\n",
              "    </tr>\n",
              "    <tr>\n",
              "      <th>12</th>\n",
              "      <td>shopping_pos</td>\n",
              "      <td>1</td>\n",
              "      <td>843</td>\n",
              "      <td>0.065012</td>\n",
              "    </tr>\n",
              "    <tr>\n",
              "      <th>2</th>\n",
              "      <td>gas_transport</td>\n",
              "      <td>1</td>\n",
              "      <td>618</td>\n",
              "      <td>0.047660</td>\n",
              "    </tr>\n",
              "    <tr>\n",
              "      <th>9</th>\n",
              "      <td>misc_pos</td>\n",
              "      <td>1</td>\n",
              "      <td>250</td>\n",
              "      <td>0.019280</td>\n",
              "    </tr>\n",
              "    <tr>\n",
              "      <th>7</th>\n",
              "      <td>kids_pets</td>\n",
              "      <td>1</td>\n",
              "      <td>239</td>\n",
              "      <td>0.018432</td>\n",
              "    </tr>\n",
              "    <tr>\n",
              "      <th>0</th>\n",
              "      <td>entertainment</td>\n",
              "      <td>1</td>\n",
              "      <td>233</td>\n",
              "      <td>0.017969</td>\n",
              "    </tr>\n",
              "    <tr>\n",
              "      <th>10</th>\n",
              "      <td>personal_care</td>\n",
              "      <td>1</td>\n",
              "      <td>220</td>\n",
              "      <td>0.016966</td>\n",
              "    </tr>\n",
              "    <tr>\n",
              "      <th>6</th>\n",
              "      <td>home</td>\n",
              "      <td>1</td>\n",
              "      <td>198</td>\n",
              "      <td>0.015270</td>\n",
              "    </tr>\n",
              "    <tr>\n",
              "      <th>1</th>\n",
              "      <td>food_dining</td>\n",
              "      <td>1</td>\n",
              "      <td>151</td>\n",
              "      <td>0.011645</td>\n",
              "    </tr>\n",
              "    <tr>\n",
              "      <th>3</th>\n",
              "      <td>grocery_net</td>\n",
              "      <td>1</td>\n",
              "      <td>134</td>\n",
              "      <td>0.010334</td>\n",
              "    </tr>\n",
              "    <tr>\n",
              "      <th>5</th>\n",
              "      <td>health_fitness</td>\n",
              "      <td>1</td>\n",
              "      <td>133</td>\n",
              "      <td>0.010257</td>\n",
              "    </tr>\n",
              "    <tr>\n",
              "      <th>13</th>\n",
              "      <td>travel</td>\n",
              "      <td>1</td>\n",
              "      <td>116</td>\n",
              "      <td>0.008946</td>\n",
              "    </tr>\n",
              "  </tbody>\n",
              "</table>\n",
              "</div>"
            ],
            "text/plain": [
              "          Category  is_fraud  category_count  fraud_percentage\n",
              "4      grocery_pos         1            1743          0.134421\n",
              "11    shopping_net         1            1713          0.132107\n",
              "8         misc_net         1             915          0.070565\n",
              "12    shopping_pos         1             843          0.065012\n",
              "2    gas_transport         1             618          0.047660\n",
              "9         misc_pos         1             250          0.019280\n",
              "7        kids_pets         1             239          0.018432\n",
              "0    entertainment         1             233          0.017969\n",
              "10   personal_care         1             220          0.016966\n",
              "6             home         1             198          0.015270\n",
              "1      food_dining         1             151          0.011645\n",
              "3      grocery_net         1             134          0.010334\n",
              "5   health_fitness         1             133          0.010257\n",
              "13          travel         1             116          0.008946"
            ]
          },
          "metadata": {
            "tags": []
          },
          "execution_count": 35
        }
      ]
    },
    {
      "cell_type": "code",
      "metadata": {
        "execution": {
          "iopub.status.busy": "2021-06-23T06:40:42.902505Z",
          "iopub.execute_input": "2021-06-23T06:40:42.902875Z",
          "iopub.status.idle": "2021-06-23T06:40:43.180989Z",
          "shell.execute_reply.started": "2021-06-23T06:40:42.902845Z",
          "shell.execute_reply": "2021-06-23T06:40:43.179621Z"
        },
        "trusted": true,
        "colab": {
          "base_uri": "https://localhost:8080/",
          "height": 289
        },
        "id": "XHifdQxSn2oi",
        "outputId": "121ed750-e123-4179-811e-8084806028ac"
      },
      "source": [
        "figure = plt.figure(figsize=(20,5))\n",
        "sns.barplot(x=\"Category\",y=\"category_count\",data=df_category_fraud)"
      ],
      "execution_count": 36,
      "outputs": [
        {
          "output_type": "execute_result",
          "data": {
            "text/plain": [
              "<matplotlib.axes._subplots.AxesSubplot at 0x7f7744fbfc90>"
            ]
          },
          "metadata": {
            "tags": []
          },
          "execution_count": 36
        },
        {
          "output_type": "display_data",
          "data": {
            "image/png": "[encoded data removed]",
            "text/plain": [
              "<Figure size 1440x360 with 1 Axes>"
            ]
          },
          "metadata": {
            "tags": [],
            "needs_background": "light"
          }
        }
      ]
    },
    {
      "cell_type": "markdown",
      "metadata": {
        "id": "ahYoUszPn2oj"
      },
      "source": [
        "clear that highest no of frauds happended in the grocery_pos and shopping_net category"
      ]
    },
    {
      "cell_type": "markdown",
      "metadata": {
        "id": "ia58l9dKqU3G"
      },
      "source": [
        "# Analysis on Merchant"
      ]
    },
    {
      "cell_type": "code",
      "metadata": {
        "colab": {
          "base_uri": "https://localhost:8080/",
          "height": 419
        },
        "id": "RT7sOKDIn2ok",
        "outputId": "7bda579c-d2ea-43b5-9557-268294382e37"
      },
      "source": [
        "df_merchant = df[['merchant','trans_num']].groupby(['merchant']).count().reset_index()\n",
        "df_merchant.columns = ['merchant','merchant_count']\n",
        "\n",
        "df_merchant['percentage'] = (df_merchant['merchant_count']/df_merchant['merchant_count'].sum())*100\n",
        "\n",
        "df_merchant.sort_values(by = ['percentage'], ascending=False)"
      ],
      "execution_count": 38,
      "outputs": [
        {
          "output_type": "execute_result",
          "data": {
            "text/html": [
              "<div>\n",
              "<style scoped>\n",
              "    .dataframe tbody tr th:only-of-type {\n",
              "        vertical-align: middle;\n",
              "    }\n",
              "\n",
              "    .dataframe tbody tr th {\n",
              "        vertical-align: top;\n",
              "    }\n",
              "\n",
              "    .dataframe thead th {\n",
              "        text-align: right;\n",
              "    }\n",
              "</style>\n",
              "<table border=\"1\" class=\"dataframe\">\n",
              "  <thead>\n",
              "    <tr style=\"text-align: right;\">\n",
              "      <th></th>\n",
              "      <th>merchant</th>\n",
              "      <th>merchant_count</th>\n",
              "      <th>percentage</th>\n",
              "    </tr>\n",
              "  </thead>\n",
              "  <tbody>\n",
              "    <tr>\n",
              "      <th>316</th>\n",
              "      <td>fraud_Kilback LLC</td>\n",
              "      <td>4403</td>\n",
              "      <td>0.339561</td>\n",
              "    </tr>\n",
              "    <tr>\n",
              "      <th>105</th>\n",
              "      <td>fraud_Cormier LLC</td>\n",
              "      <td>3649</td>\n",
              "      <td>0.281412</td>\n",
              "    </tr>\n",
              "    <tr>\n",
              "      <th>571</th>\n",
              "      <td>fraud_Schumm PLC</td>\n",
              "      <td>3634</td>\n",
              "      <td>0.280255</td>\n",
              "    </tr>\n",
              "    <tr>\n",
              "      <th>349</th>\n",
              "      <td>fraud_Kuhn LLC</td>\n",
              "      <td>3510</td>\n",
              "      <td>0.270692</td>\n",
              "    </tr>\n",
              "    <tr>\n",
              "      <th>70</th>\n",
              "      <td>fraud_Boyer PLC</td>\n",
              "      <td>3493</td>\n",
              "      <td>0.269381</td>\n",
              "    </tr>\n",
              "    <tr>\n",
              "      <th>...</th>\n",
              "      <td>...</td>\n",
              "      <td>...</td>\n",
              "      <td>...</td>\n",
              "    </tr>\n",
              "    <tr>\n",
              "      <th>633</th>\n",
              "      <td>fraud_Treutel-King</td>\n",
              "      <td>775</td>\n",
              "      <td>0.059768</td>\n",
              "    </tr>\n",
              "    <tr>\n",
              "      <th>143</th>\n",
              "      <td>fraud_Douglas, DuBuque and McKenzie</td>\n",
              "      <td>775</td>\n",
              "      <td>0.059768</td>\n",
              "    </tr>\n",
              "    <tr>\n",
              "      <th>423</th>\n",
              "      <td>fraud_Medhurst, Labadie and Gottlieb</td>\n",
              "      <td>759</td>\n",
              "      <td>0.058534</td>\n",
              "    </tr>\n",
              "    <tr>\n",
              "      <th>505</th>\n",
              "      <td>fraud_Reichert-Weissnat</td>\n",
              "      <td>753</td>\n",
              "      <td>0.058072</td>\n",
              "    </tr>\n",
              "    <tr>\n",
              "      <th>221</th>\n",
              "      <td>fraud_Hahn, Douglas and Schowalter</td>\n",
              "      <td>727</td>\n",
              "      <td>0.056066</td>\n",
              "    </tr>\n",
              "  </tbody>\n",
              "</table>\n",
              "<p>693 rows × 3 columns</p>\n",
              "</div>"
            ],
            "text/plain": [
              "                                 merchant  merchant_count  percentage\n",
              "316                     fraud_Kilback LLC            4403    0.339561\n",
              "105                     fraud_Cormier LLC            3649    0.281412\n",
              "571                      fraud_Schumm PLC            3634    0.280255\n",
              "349                        fraud_Kuhn LLC            3510    0.270692\n",
              "70                        fraud_Boyer PLC            3493    0.269381\n",
              "..                                    ...             ...         ...\n",
              "633                    fraud_Treutel-King             775    0.059768\n",
              "143   fraud_Douglas, DuBuque and McKenzie             775    0.059768\n",
              "423  fraud_Medhurst, Labadie and Gottlieb             759    0.058534\n",
              "505               fraud_Reichert-Weissnat             753    0.058072\n",
              "221    fraud_Hahn, Douglas and Schowalter             727    0.056066\n",
              "\n",
              "[693 rows x 3 columns]"
            ]
          },
          "metadata": {
            "tags": []
          },
          "execution_count": 38
        }
      ]
    },
    {
      "cell_type": "markdown",
      "metadata": {
        "id": "9VmDIrD33BuN"
      },
      "source": [
        "Highest no of transactions has been done by fraud_Kilback LLC merchant"
      ]
    },
    {
      "cell_type": "markdown",
      "metadata": {
        "id": "iu0oshl14R3t"
      },
      "source": [
        "**Analysis on the fraud data and getting the fraud merchants**"
      ]
    },
    {
      "cell_type": "code",
      "metadata": {
        "colab": {
          "base_uri": "https://localhost:8080/",
          "height": 419
        },
        "id": "5gTiYcBG3S3a",
        "outputId": "eff2d563-0973-488f-da59-06f55a3bdd8f"
      },
      "source": [
        "df_merchant_fraud = df_fraud[['merchant','trans_num']].groupby(['merchant']).count().reset_index()\n",
        "df_merchant_fraud.columns = ['merchant','merchant_count']\n",
        "\n",
        "df_merchant_fraud['percentage'] = (df_merchant_fraud['merchant_count']/df_merchant_fraud['merchant_count'].sum())*100\n",
        "\n",
        "df_merchant_fraud.sort_values(by = ['percentage'], ascending=False)"
      ],
      "execution_count": 39,
      "outputs": [
        {
          "output_type": "execute_result",
          "data": {
            "text/html": [
              "<div>\n",
              "<style scoped>\n",
              "    .dataframe tbody tr th:only-of-type {\n",
              "        vertical-align: middle;\n",
              "    }\n",
              "\n",
              "    .dataframe tbody tr th {\n",
              "        vertical-align: top;\n",
              "    }\n",
              "\n",
              "    .dataframe thead th {\n",
              "        text-align: right;\n",
              "    }\n",
              "</style>\n",
              "<table border=\"1\" class=\"dataframe\">\n",
              "  <thead>\n",
              "    <tr style=\"text-align: right;\">\n",
              "      <th></th>\n",
              "      <th>merchant</th>\n",
              "      <th>merchant_count</th>\n",
              "      <th>percentage</th>\n",
              "    </tr>\n",
              "  </thead>\n",
              "  <tbody>\n",
              "    <tr>\n",
              "      <th>486</th>\n",
              "      <td>fraud_Rau and Sons</td>\n",
              "      <td>49</td>\n",
              "      <td>0.652811</td>\n",
              "    </tr>\n",
              "    <tr>\n",
              "      <th>334</th>\n",
              "      <td>fraud_Kozey-Boehm</td>\n",
              "      <td>48</td>\n",
              "      <td>0.639488</td>\n",
              "    </tr>\n",
              "    <tr>\n",
              "      <th>105</th>\n",
              "      <td>fraud_Cormier LLC</td>\n",
              "      <td>48</td>\n",
              "      <td>0.639488</td>\n",
              "    </tr>\n",
              "    <tr>\n",
              "      <th>146</th>\n",
              "      <td>fraud_Doyle Ltd</td>\n",
              "      <td>47</td>\n",
              "      <td>0.626166</td>\n",
              "    </tr>\n",
              "    <tr>\n",
              "      <th>632</th>\n",
              "      <td>fraud_Vandervort-Funk</td>\n",
              "      <td>47</td>\n",
              "      <td>0.626166</td>\n",
              "    </tr>\n",
              "    <tr>\n",
              "      <th>...</th>\n",
              "      <td>...</td>\n",
              "      <td>...</td>\n",
              "      <td>...</td>\n",
              "    </tr>\n",
              "    <tr>\n",
              "      <th>135</th>\n",
              "      <td>fraud_Dicki Ltd</td>\n",
              "      <td>1</td>\n",
              "      <td>0.013323</td>\n",
              "    </tr>\n",
              "    <tr>\n",
              "      <th>353</th>\n",
              "      <td>fraud_Kuphal-Toy</td>\n",
              "      <td>1</td>\n",
              "      <td>0.013323</td>\n",
              "    </tr>\n",
              "    <tr>\n",
              "      <th>129</th>\n",
              "      <td>fraud_Deckow-Dare</td>\n",
              "      <td>1</td>\n",
              "      <td>0.013323</td>\n",
              "    </tr>\n",
              "    <tr>\n",
              "      <th>120</th>\n",
              "      <td>fraud_Dach-Borer</td>\n",
              "      <td>1</td>\n",
              "      <td>0.013323</td>\n",
              "    </tr>\n",
              "    <tr>\n",
              "      <th>493</th>\n",
              "      <td>fraud_Reichel, Bradtke and Blanda</td>\n",
              "      <td>1</td>\n",
              "      <td>0.013323</td>\n",
              "    </tr>\n",
              "  </tbody>\n",
              "</table>\n",
              "<p>679 rows × 3 columns</p>\n",
              "</div>"
            ],
            "text/plain": [
              "                              merchant  merchant_count  percentage\n",
              "486                 fraud_Rau and Sons              49    0.652811\n",
              "334                  fraud_Kozey-Boehm              48    0.639488\n",
              "105                  fraud_Cormier LLC              48    0.639488\n",
              "146                    fraud_Doyle Ltd              47    0.626166\n",
              "632              fraud_Vandervort-Funk              47    0.626166\n",
              "..                                 ...             ...         ...\n",
              "135                    fraud_Dicki Ltd               1    0.013323\n",
              "353                   fraud_Kuphal-Toy               1    0.013323\n",
              "129                  fraud_Deckow-Dare               1    0.013323\n",
              "120                   fraud_Dach-Borer               1    0.013323\n",
              "493  fraud_Reichel, Bradtke and Blanda               1    0.013323\n",
              "\n",
              "[679 rows x 3 columns]"
            ]
          },
          "metadata": {
            "tags": []
          },
          "execution_count": 39
        }
      ]
    },
    {
      "cell_type": "markdown",
      "metadata": {
        "id": "-1uidFYk3ss6"
      },
      "source": [
        "fraud_Rau and Sons\t, fraud_Kozey-Boehm\t, fraud_Cormier LLC\t having high no of fraud transactions\n",
        "\n"
      ]
    },
    {
      "cell_type": "code",
      "metadata": {
        "id": "22ZIVBBw3sCq"
      },
      "source": [
        ""
      ],
      "execution_count": null,
      "outputs": []
    },
    {
      "cell_type": "markdown",
      "metadata": {
        "id": "qn_QQk1B4jMC"
      },
      "source": [
        "# One Hot Encoding the catagory fields"
      ]
    },
    {
      "cell_type": "code",
      "metadata": {
        "id": "3lN7TJaTn2on"
      },
      "source": [
        "#hot encoding the catagory,gender and week_day cols\n",
        "\n",
        "category_onehot = pd.get_dummies(df.category,prefix='category',drop_first=True)\n",
        "gender_onehot = pd.get_dummies(df.gender,prefix='gender',drop_first=True)\n",
        "week_onehot = pd.get_dummies(df.week_day,prefix='week_day',drop_first=True)"
      ],
      "execution_count": 44,
      "outputs": []
    },
    {
      "cell_type": "code",
      "metadata": {
        "id": "Mjls-wjXn2oo"
      },
      "source": [
        "df_encoded = pd.concat([df,category_onehot,gender_onehot,week_onehot],axis=1)   #combining the encoded fields"
      ],
      "execution_count": 47,
      "outputs": []
    },
    {
      "cell_type": "code",
      "metadata": {
        "colab": {
          "base_uri": "https://localhost:8080/",
          "height": 496
        },
        "id": "snuyAWVQn2op",
        "outputId": "4c09352a-a2f7-4b99-d5de-031f472eb884"
      },
      "source": [
        "df_encoded.head() #describing the encoded dataset"
      ],
      "execution_count": 49,
      "outputs": [
        {
          "output_type": "execute_result",
          "data": {
            "text/html": [
              "<div>\n",
              "<style scoped>\n",
              "    .dataframe tbody tr th:only-of-type {\n",
              "        vertical-align: middle;\n",
              "    }\n",
              "\n",
              "    .dataframe tbody tr th {\n",
              "        vertical-align: top;\n",
              "    }\n",
              "\n",
              "    .dataframe thead th {\n",
              "        text-align: right;\n",
              "    }\n",
              "</style>\n",
              "<table border=\"1\" class=\"dataframe\">\n",
              "  <thead>\n",
              "    <tr style=\"text-align: right;\">\n",
              "      <th></th>\n",
              "      <th>trans_date_trans_time</th>\n",
              "      <th>cc_num</th>\n",
              "      <th>merchant</th>\n",
              "      <th>category</th>\n",
              "      <th>amt</th>\n",
              "      <th>first</th>\n",
              "      <th>last</th>\n",
              "      <th>gender</th>\n",
              "      <th>street</th>\n",
              "      <th>city</th>\n",
              "      <th>state</th>\n",
              "      <th>zip</th>\n",
              "      <th>lat</th>\n",
              "      <th>long</th>\n",
              "      <th>city_pop</th>\n",
              "      <th>job</th>\n",
              "      <th>dob</th>\n",
              "      <th>trans_num</th>\n",
              "      <th>unix_time</th>\n",
              "      <th>merch_lat</th>\n",
              "      <th>merch_long</th>\n",
              "      <th>is_fraud</th>\n",
              "      <th>week_day</th>\n",
              "      <th>year_month</th>\n",
              "      <th>age</th>\n",
              "      <th>category_food_dining</th>\n",
              "      <th>category_gas_transport</th>\n",
              "      <th>category_grocery_net</th>\n",
              "      <th>category_grocery_pos</th>\n",
              "      <th>category_health_fitness</th>\n",
              "      <th>category_home</th>\n",
              "      <th>category_kids_pets</th>\n",
              "      <th>category_misc_net</th>\n",
              "      <th>category_misc_pos</th>\n",
              "      <th>category_personal_care</th>\n",
              "      <th>category_shopping_net</th>\n",
              "      <th>category_shopping_pos</th>\n",
              "      <th>category_travel</th>\n",
              "      <th>gender_M</th>\n",
              "      <th>week_day_Monday</th>\n",
              "      <th>week_day_Saturday</th>\n",
              "      <th>week_day_Sunday</th>\n",
              "      <th>week_day_Thursday</th>\n",
              "      <th>week_day_Tuesday</th>\n",
              "      <th>week_day_Wednesday</th>\n",
              "    </tr>\n",
              "  </thead>\n",
              "  <tbody>\n",
              "    <tr>\n",
              "      <th>0</th>\n",
              "      <td>2019-01-01 00:00:18</td>\n",
              "      <td>2703186189652095</td>\n",
              "      <td>fraud_Rippin, Kub and Mann</td>\n",
              "      <td>misc_net</td>\n",
              "      <td>4.97</td>\n",
              "      <td>Jennifer</td>\n",
              "      <td>Banks</td>\n",
              "      <td>F</td>\n",
              "      <td>561 Perry Cove</td>\n",
              "      <td>Moravian Falls</td>\n",
              "      <td>NC</td>\n",
              "      <td>28654</td>\n",
              "      <td>36.0788</td>\n",
              "      <td>-81.1781</td>\n",
              "      <td>3495</td>\n",
              "      <td>Psychologist, counselling</td>\n",
              "      <td>1988-03-09</td>\n",
              "      <td>0b242abb623afc578575680df30655b9</td>\n",
              "      <td>1325376018</td>\n",
              "      <td>36.011293</td>\n",
              "      <td>-82.048315</td>\n",
              "      <td>0</td>\n",
              "      <td>Tuesday</td>\n",
              "      <td>2019-01</td>\n",
              "      <td>31.0</td>\n",
              "      <td>0</td>\n",
              "      <td>0</td>\n",
              "      <td>0</td>\n",
              "      <td>0</td>\n",
              "      <td>0</td>\n",
              "      <td>0</td>\n",
              "      <td>0</td>\n",
              "      <td>1</td>\n",
              "      <td>0</td>\n",
              "      <td>0</td>\n",
              "      <td>0</td>\n",
              "      <td>0</td>\n",
              "      <td>0</td>\n",
              "      <td>0</td>\n",
              "      <td>0</td>\n",
              "      <td>0</td>\n",
              "      <td>0</td>\n",
              "      <td>0</td>\n",
              "      <td>1</td>\n",
              "      <td>0</td>\n",
              "    </tr>\n",
              "    <tr>\n",
              "      <th>1</th>\n",
              "      <td>2019-01-01 00:00:44</td>\n",
              "      <td>630423337322</td>\n",
              "      <td>fraud_Heller, Gutmann and Zieme</td>\n",
              "      <td>grocery_pos</td>\n",
              "      <td>107.23</td>\n",
              "      <td>Stephanie</td>\n",
              "      <td>Gill</td>\n",
              "      <td>F</td>\n",
              "      <td>43039 Riley Greens Suite 393</td>\n",
              "      <td>Orient</td>\n",
              "      <td>WA</td>\n",
              "      <td>99160</td>\n",
              "      <td>48.8878</td>\n",
              "      <td>-118.2105</td>\n",
              "      <td>149</td>\n",
              "      <td>Special educational needs teacher</td>\n",
              "      <td>1978-06-21</td>\n",
              "      <td>1f76529f8574734946361c461b024d99</td>\n",
              "      <td>1325376044</td>\n",
              "      <td>49.159047</td>\n",
              "      <td>-118.186462</td>\n",
              "      <td>0</td>\n",
              "      <td>Tuesday</td>\n",
              "      <td>2019-01</td>\n",
              "      <td>41.0</td>\n",
              "      <td>0</td>\n",
              "      <td>0</td>\n",
              "      <td>0</td>\n",
              "      <td>1</td>\n",
              "      <td>0</td>\n",
              "      <td>0</td>\n",
              "      <td>0</td>\n",
              "      <td>0</td>\n",
              "      <td>0</td>\n",
              "      <td>0</td>\n",
              "      <td>0</td>\n",
              "      <td>0</td>\n",
              "      <td>0</td>\n",
              "      <td>0</td>\n",
              "      <td>0</td>\n",
              "      <td>0</td>\n",
              "      <td>0</td>\n",
              "      <td>0</td>\n",
              "      <td>1</td>\n",
              "      <td>0</td>\n",
              "    </tr>\n",
              "    <tr>\n",
              "      <th>2</th>\n",
              "      <td>2019-01-01 00:00:51</td>\n",
              "      <td>38859492057661</td>\n",
              "      <td>fraud_Lind-Buckridge</td>\n",
              "      <td>entertainment</td>\n",
              "      <td>220.11</td>\n",
              "      <td>Edward</td>\n",
              "      <td>Sanchez</td>\n",
              "      <td>M</td>\n",
              "      <td>594 White Dale Suite 530</td>\n",
              "      <td>Malad City</td>\n",
              "      <td>ID</td>\n",
              "      <td>83252</td>\n",
              "      <td>42.1808</td>\n",
              "      <td>-112.2620</td>\n",
              "      <td>4154</td>\n",
              "      <td>Nature conservation officer</td>\n",
              "      <td>1962-01-19</td>\n",
              "      <td>a1a22d70485983eac12b5b88dad1cf95</td>\n",
              "      <td>1325376051</td>\n",
              "      <td>43.150704</td>\n",
              "      <td>-112.154481</td>\n",
              "      <td>0</td>\n",
              "      <td>Tuesday</td>\n",
              "      <td>2019-01</td>\n",
              "      <td>57.0</td>\n",
              "      <td>0</td>\n",
              "      <td>0</td>\n",
              "      <td>0</td>\n",
              "      <td>0</td>\n",
              "      <td>0</td>\n",
              "      <td>0</td>\n",
              "      <td>0</td>\n",
              "      <td>0</td>\n",
              "      <td>0</td>\n",
              "      <td>0</td>\n",
              "      <td>0</td>\n",
              "      <td>0</td>\n",
              "      <td>0</td>\n",
              "      <td>1</td>\n",
              "      <td>0</td>\n",
              "      <td>0</td>\n",
              "      <td>0</td>\n",
              "      <td>0</td>\n",
              "      <td>1</td>\n",
              "      <td>0</td>\n",
              "    </tr>\n",
              "    <tr>\n",
              "      <th>3</th>\n",
              "      <td>2019-01-01 00:01:16</td>\n",
              "      <td>3534093764340240</td>\n",
              "      <td>fraud_Kutch, Hermiston and Farrell</td>\n",
              "      <td>gas_transport</td>\n",
              "      <td>45.00</td>\n",
              "      <td>Jeremy</td>\n",
              "      <td>White</td>\n",
              "      <td>M</td>\n",
              "      <td>9443 Cynthia Court Apt. 038</td>\n",
              "      <td>Boulder</td>\n",
              "      <td>MT</td>\n",
              "      <td>59632</td>\n",
              "      <td>46.2306</td>\n",
              "      <td>-112.1138</td>\n",
              "      <td>1939</td>\n",
              "      <td>Patent attorney</td>\n",
              "      <td>1967-01-12</td>\n",
              "      <td>6b849c168bdad6f867558c3793159a81</td>\n",
              "      <td>1325376076</td>\n",
              "      <td>47.034331</td>\n",
              "      <td>-112.561071</td>\n",
              "      <td>0</td>\n",
              "      <td>Tuesday</td>\n",
              "      <td>2019-01</td>\n",
              "      <td>52.0</td>\n",
              "      <td>0</td>\n",
              "      <td>1</td>\n",
              "      <td>0</td>\n",
              "      <td>0</td>\n",
              "      <td>0</td>\n",
              "      <td>0</td>\n",
              "      <td>0</td>\n",
              "      <td>0</td>\n",
              "      <td>0</td>\n",
              "      <td>0</td>\n",
              "      <td>0</td>\n",
              "      <td>0</td>\n",
              "      <td>0</td>\n",
              "      <td>1</td>\n",
              "      <td>0</td>\n",
              "      <td>0</td>\n",
              "      <td>0</td>\n",
              "      <td>0</td>\n",
              "      <td>1</td>\n",
              "      <td>0</td>\n",
              "    </tr>\n",
              "    <tr>\n",
              "      <th>4</th>\n",
              "      <td>2019-01-01 00:03:06</td>\n",
              "      <td>375534208663984</td>\n",
              "      <td>fraud_Keeling-Crist</td>\n",
              "      <td>misc_pos</td>\n",
              "      <td>41.96</td>\n",
              "      <td>Tyler</td>\n",
              "      <td>Garcia</td>\n",
              "      <td>M</td>\n",
              "      <td>408 Bradley Rest</td>\n",
              "      <td>Doe Hill</td>\n",
              "      <td>VA</td>\n",
              "      <td>24433</td>\n",
              "      <td>38.4207</td>\n",
              "      <td>-79.4629</td>\n",
              "      <td>99</td>\n",
              "      <td>Dance movement psychotherapist</td>\n",
              "      <td>1986-03-28</td>\n",
              "      <td>a41d7549acf90789359a9aa5346dcb46</td>\n",
              "      <td>1325376186</td>\n",
              "      <td>38.674999</td>\n",
              "      <td>-78.632459</td>\n",
              "      <td>0</td>\n",
              "      <td>Tuesday</td>\n",
              "      <td>2019-01</td>\n",
              "      <td>33.0</td>\n",
              "      <td>0</td>\n",
              "      <td>0</td>\n",
              "      <td>0</td>\n",
              "      <td>0</td>\n",
              "      <td>0</td>\n",
              "      <td>0</td>\n",
              "      <td>0</td>\n",
              "      <td>0</td>\n",
              "      <td>1</td>\n",
              "      <td>0</td>\n",
              "      <td>0</td>\n",
              "      <td>0</td>\n",
              "      <td>0</td>\n",
              "      <td>1</td>\n",
              "      <td>0</td>\n",
              "      <td>0</td>\n",
              "      <td>0</td>\n",
              "      <td>0</td>\n",
              "      <td>1</td>\n",
              "      <td>0</td>\n",
              "    </tr>\n",
              "  </tbody>\n",
              "</table>\n",
              "</div>"
            ],
            "text/plain": [
              "  trans_date_trans_time            cc_num  ... week_day_Tuesday week_day_Wednesday\n",
              "0   2019-01-01 00:00:18  2703186189652095  ...                1                  0\n",
              "1   2019-01-01 00:00:44      630423337322  ...                1                  0\n",
              "2   2019-01-01 00:00:51    38859492057661  ...                1                  0\n",
              "3   2019-01-01 00:01:16  3534093764340240  ...                1                  0\n",
              "4   2019-01-01 00:03:06   375534208663984  ...                1                  0\n",
              "\n",
              "[5 rows x 45 columns]"
            ]
          },
          "metadata": {
            "tags": []
          },
          "execution_count": 49
        }
      ]
    },
    {
      "cell_type": "code",
      "metadata": {
        "colab": {
          "base_uri": "https://localhost:8080/"
        },
        "id": "kwN4wwj7n2op",
        "outputId": "0ece507f-6357-47e5-f479-805666dafb1b"
      },
      "source": [
        "df_encoded.columns #cols after encoding "
      ],
      "execution_count": 50,
      "outputs": [
        {
          "output_type": "execute_result",
          "data": {
            "text/plain": [
              "Index(['trans_date_trans_time', 'cc_num', 'merchant', 'category', 'amt',\n",
              "       'first', 'last', 'gender', 'street', 'city', 'state', 'zip', 'lat',\n",
              "       'long', 'city_pop', 'job', 'dob', 'trans_num', 'unix_time', 'merch_lat',\n",
              "       'merch_long', 'is_fraud', 'week_day', 'year_month', 'age',\n",
              "       'category_food_dining', 'category_gas_transport',\n",
              "       'category_grocery_net', 'category_grocery_pos',\n",
              "       'category_health_fitness', 'category_home', 'category_kids_pets',\n",
              "       'category_misc_net', 'category_misc_pos', 'category_personal_care',\n",
              "       'category_shopping_net', 'category_shopping_pos', 'category_travel',\n",
              "       'gender_M', 'week_day_Monday', 'week_day_Saturday', 'week_day_Sunday',\n",
              "       'week_day_Thursday', 'week_day_Tuesday', 'week_day_Wednesday'],\n",
              "      dtype='object')"
            ]
          },
          "metadata": {
            "tags": []
          },
          "execution_count": 50
        }
      ]
    },
    {
      "cell_type": "code",
      "metadata": {
        "colab": {
          "base_uri": "https://localhost:8080/"
        },
        "id": "_1aM_jbsn2oq",
        "outputId": "e0533abb-305e-476f-dc81-1e8bedada5ff"
      },
      "source": [
        "df_encoded.dtypes"
      ],
      "execution_count": 53,
      "outputs": [
        {
          "output_type": "execute_result",
          "data": {
            "text/plain": [
              "trans_date_trans_time      datetime64[ns]\n",
              "cc_num                              int64\n",
              "merchant                           object\n",
              "category                           object\n",
              "amt                               float64\n",
              "first                              object\n",
              "last                               object\n",
              "gender                             object\n",
              "street                             object\n",
              "city                               object\n",
              "state                              object\n",
              "zip                                 int64\n",
              "lat                               float64\n",
              "long                              float64\n",
              "city_pop                            int64\n",
              "job                                object\n",
              "dob                        datetime64[ns]\n",
              "trans_num                          object\n",
              "unix_time                           int64\n",
              "merch_lat                         float64\n",
              "merch_long                        float64\n",
              "is_fraud                            int64\n",
              "week_day                           object\n",
              "year_month                      period[M]\n",
              "age                               float64\n",
              "category_food_dining                uint8\n",
              "category_gas_transport              uint8\n",
              "category_grocery_net                uint8\n",
              "category_grocery_pos                uint8\n",
              "category_health_fitness             uint8\n",
              "category_home                       uint8\n",
              "category_kids_pets                  uint8\n",
              "category_misc_net                   uint8\n",
              "category_misc_pos                   uint8\n",
              "category_personal_care              uint8\n",
              "category_shopping_net               uint8\n",
              "category_shopping_pos               uint8\n",
              "category_travel                     uint8\n",
              "gender_M                            uint8\n",
              "week_day_Monday                     uint8\n",
              "week_day_Saturday                   uint8\n",
              "week_day_Sunday                     uint8\n",
              "week_day_Thursday                   uint8\n",
              "week_day_Tuesday                    uint8\n",
              "week_day_Wednesday                  uint8\n",
              "dtype: object"
            ]
          },
          "metadata": {
            "tags": []
          },
          "execution_count": 53
        }
      ]
    },
    {
      "cell_type": "code",
      "metadata": {
        "id": "b9xg5PGSn2oq"
      },
      "source": [
        ""
      ],
      "execution_count": null,
      "outputs": []
    },
    {
      "cell_type": "code",
      "metadata": {
        "id": "QaqJS5OmqSMF"
      },
      "source": [
        ""
      ],
      "execution_count": null,
      "outputs": []
    },
    {
      "cell_type": "markdown",
      "metadata": {
        "id": "kba3Og8e4fdo"
      },
      "source": [
        "# Calculating the distance between the user and the merchant"
      ]
    },
    {
      "cell_type": "code",
      "metadata": {
        "id": "s4hluxKu-TGO"
      },
      "source": [
        "#function to calculate the distance between two location based on theri latitude and longitude\n",
        "def getDistance(lat1,lat2,lon1,lon2):\n",
        "  rad = 6371 #radious of the earth is 6371\n",
        "\n",
        "  #converting to radians for different \n",
        "  lat1=np.radians(lat1)  \n",
        "  lat2=np.radians(lat2)\n",
        "  lon1=np.radians(lon1)\n",
        "  lon2=np.radians(lon2)\n",
        "\n",
        "  #difference between two places latitude and longitude\n",
        "  dlat = lat2-lat1\n",
        "  dlon = lon2-lon1\n",
        "\n",
        "  #formula to claculate the distance between two place\n",
        "  a = np.sin(dlat/2)**2+np.cos(lat1)*np.cos(lat2)*np.sin(dlon/2)**2\n",
        "\n",
        "  c = np.sqrt(a)\n",
        "  #distance / time = speed , returning the speed for the   \n",
        "  return c*rad"
      ],
      "execution_count": 55,
      "outputs": []
    },
    {
      "cell_type": "markdown",
      "metadata": {
        "id": "E6TRGgfMAsHY"
      },
      "source": [
        "creating a new col containing the distance between the merchant and the user"
      ]
    },
    {
      "cell_type": "code",
      "metadata": {
        "id": "CSnhY45j__hl"
      },
      "source": [
        "df_encoded['dist']=getDistance(df_encoded['lat'],df_encoded['long'],df_encoded['merch_lat'],df_encoded['merch_long'])"
      ],
      "execution_count": 58,
      "outputs": []
    },
    {
      "cell_type": "code",
      "metadata": {
        "colab": {
          "base_uri": "https://localhost:8080/",
          "height": 496
        },
        "id": "VUtFLFQ2__qN",
        "outputId": "71cd6321-b6e3-4142-bdd1-a4fc1a8244e0"
      },
      "source": [
        "df_encoded.head()"
      ],
      "execution_count": 59,
      "outputs": [
        {
          "output_type": "execute_result",
          "data": {
            "text/html": [
              "<div>\n",
              "<style scoped>\n",
              "    .dataframe tbody tr th:only-of-type {\n",
              "        vertical-align: middle;\n",
              "    }\n",
              "\n",
              "    .dataframe tbody tr th {\n",
              "        vertical-align: top;\n",
              "    }\n",
              "\n",
              "    .dataframe thead th {\n",
              "        text-align: right;\n",
              "    }\n",
              "</style>\n",
              "<table border=\"1\" class=\"dataframe\">\n",
              "  <thead>\n",
              "    <tr style=\"text-align: right;\">\n",
              "      <th></th>\n",
              "      <th>trans_date_trans_time</th>\n",
              "      <th>cc_num</th>\n",
              "      <th>merchant</th>\n",
              "      <th>category</th>\n",
              "      <th>amt</th>\n",
              "      <th>first</th>\n",
              "      <th>last</th>\n",
              "      <th>gender</th>\n",
              "      <th>street</th>\n",
              "      <th>city</th>\n",
              "      <th>state</th>\n",
              "      <th>zip</th>\n",
              "      <th>lat</th>\n",
              "      <th>long</th>\n",
              "      <th>city_pop</th>\n",
              "      <th>job</th>\n",
              "      <th>dob</th>\n",
              "      <th>trans_num</th>\n",
              "      <th>unix_time</th>\n",
              "      <th>merch_lat</th>\n",
              "      <th>merch_long</th>\n",
              "      <th>is_fraud</th>\n",
              "      <th>week_day</th>\n",
              "      <th>year_month</th>\n",
              "      <th>age</th>\n",
              "      <th>category_food_dining</th>\n",
              "      <th>category_gas_transport</th>\n",
              "      <th>category_grocery_net</th>\n",
              "      <th>category_grocery_pos</th>\n",
              "      <th>category_health_fitness</th>\n",
              "      <th>category_home</th>\n",
              "      <th>category_kids_pets</th>\n",
              "      <th>category_misc_net</th>\n",
              "      <th>category_misc_pos</th>\n",
              "      <th>category_personal_care</th>\n",
              "      <th>category_shopping_net</th>\n",
              "      <th>category_shopping_pos</th>\n",
              "      <th>category_travel</th>\n",
              "      <th>gender_M</th>\n",
              "      <th>week_day_Monday</th>\n",
              "      <th>week_day_Saturday</th>\n",
              "      <th>week_day_Sunday</th>\n",
              "      <th>week_day_Thursday</th>\n",
              "      <th>week_day_Tuesday</th>\n",
              "      <th>week_day_Wednesday</th>\n",
              "      <th>dist</th>\n",
              "    </tr>\n",
              "  </thead>\n",
              "  <tbody>\n",
              "    <tr>\n",
              "      <th>0</th>\n",
              "      <td>2019-01-01 00:00:18</td>\n",
              "      <td>2703186189652095</td>\n",
              "      <td>fraud_Rippin, Kub and Mann</td>\n",
              "      <td>misc_net</td>\n",
              "      <td>4.97</td>\n",
              "      <td>Jennifer</td>\n",
              "      <td>Banks</td>\n",
              "      <td>F</td>\n",
              "      <td>561 Perry Cove</td>\n",
              "      <td>Moravian Falls</td>\n",
              "      <td>NC</td>\n",
              "      <td>28654</td>\n",
              "      <td>36.0788</td>\n",
              "      <td>-81.1781</td>\n",
              "      <td>3495</td>\n",
              "      <td>Psychologist, counselling</td>\n",
              "      <td>1988-03-09</td>\n",
              "      <td>0b242abb623afc578575680df30655b9</td>\n",
              "      <td>1325376018</td>\n",
              "      <td>36.011293</td>\n",
              "      <td>-82.048315</td>\n",
              "      <td>0</td>\n",
              "      <td>Tuesday</td>\n",
              "      <td>2019-01</td>\n",
              "      <td>31.0</td>\n",
              "      <td>0</td>\n",
              "      <td>0</td>\n",
              "      <td>0</td>\n",
              "      <td>0</td>\n",
              "      <td>0</td>\n",
              "      <td>0</td>\n",
              "      <td>0</td>\n",
              "      <td>1</td>\n",
              "      <td>0</td>\n",
              "      <td>0</td>\n",
              "      <td>0</td>\n",
              "      <td>0</td>\n",
              "      <td>0</td>\n",
              "      <td>0</td>\n",
              "      <td>0</td>\n",
              "      <td>0</td>\n",
              "      <td>0</td>\n",
              "      <td>0</td>\n",
              "      <td>1</td>\n",
              "      <td>0</td>\n",
              "      <td>5769.599637</td>\n",
              "    </tr>\n",
              "    <tr>\n",
              "      <th>1</th>\n",
              "      <td>2019-01-01 00:00:44</td>\n",
              "      <td>630423337322</td>\n",
              "      <td>fraud_Heller, Gutmann and Zieme</td>\n",
              "      <td>grocery_pos</td>\n",
              "      <td>107.23</td>\n",
              "      <td>Stephanie</td>\n",
              "      <td>Gill</td>\n",
              "      <td>F</td>\n",
              "      <td>43039 Riley Greens Suite 393</td>\n",
              "      <td>Orient</td>\n",
              "      <td>WA</td>\n",
              "      <td>99160</td>\n",
              "      <td>48.8878</td>\n",
              "      <td>-118.2105</td>\n",
              "      <td>149</td>\n",
              "      <td>Special educational needs teacher</td>\n",
              "      <td>1978-06-21</td>\n",
              "      <td>1f76529f8574734946361c461b024d99</td>\n",
              "      <td>1325376044</td>\n",
              "      <td>49.159047</td>\n",
              "      <td>-118.186462</td>\n",
              "      <td>0</td>\n",
              "      <td>Tuesday</td>\n",
              "      <td>2019-01</td>\n",
              "      <td>41.0</td>\n",
              "      <td>0</td>\n",
              "      <td>0</td>\n",
              "      <td>0</td>\n",
              "      <td>1</td>\n",
              "      <td>0</td>\n",
              "      <td>0</td>\n",
              "      <td>0</td>\n",
              "      <td>0</td>\n",
              "      <td>0</td>\n",
              "      <td>0</td>\n",
              "      <td>0</td>\n",
              "      <td>0</td>\n",
              "      <td>0</td>\n",
              "      <td>0</td>\n",
              "      <td>0</td>\n",
              "      <td>0</td>\n",
              "      <td>0</td>\n",
              "      <td>0</td>\n",
              "      <td>1</td>\n",
              "      <td>0</td>\n",
              "      <td>5254.925202</td>\n",
              "    </tr>\n",
              "    <tr>\n",
              "      <th>2</th>\n",
              "      <td>2019-01-01 00:00:51</td>\n",
              "      <td>38859492057661</td>\n",
              "      <td>fraud_Lind-Buckridge</td>\n",
              "      <td>entertainment</td>\n",
              "      <td>220.11</td>\n",
              "      <td>Edward</td>\n",
              "      <td>Sanchez</td>\n",
              "      <td>M</td>\n",
              "      <td>594 White Dale Suite 530</td>\n",
              "      <td>Malad City</td>\n",
              "      <td>ID</td>\n",
              "      <td>83252</td>\n",
              "      <td>42.1808</td>\n",
              "      <td>-112.2620</td>\n",
              "      <td>4154</td>\n",
              "      <td>Nature conservation officer</td>\n",
              "      <td>1962-01-19</td>\n",
              "      <td>a1a22d70485983eac12b5b88dad1cf95</td>\n",
              "      <td>1325376051</td>\n",
              "      <td>43.150704</td>\n",
              "      <td>-112.154481</td>\n",
              "      <td>0</td>\n",
              "      <td>Tuesday</td>\n",
              "      <td>2019-01</td>\n",
              "      <td>57.0</td>\n",
              "      <td>0</td>\n",
              "      <td>0</td>\n",
              "      <td>0</td>\n",
              "      <td>0</td>\n",
              "      <td>0</td>\n",
              "      <td>0</td>\n",
              "      <td>0</td>\n",
              "      <td>0</td>\n",
              "      <td>0</td>\n",
              "      <td>0</td>\n",
              "      <td>0</td>\n",
              "      <td>0</td>\n",
              "      <td>0</td>\n",
              "      <td>1</td>\n",
              "      <td>0</td>\n",
              "      <td>0</td>\n",
              "      <td>0</td>\n",
              "      <td>0</td>\n",
              "      <td>1</td>\n",
              "      <td>0</td>\n",
              "      <td>5265.935520</td>\n",
              "    </tr>\n",
              "    <tr>\n",
              "      <th>3</th>\n",
              "      <td>2019-01-01 00:01:16</td>\n",
              "      <td>3534093764340240</td>\n",
              "      <td>fraud_Kutch, Hermiston and Farrell</td>\n",
              "      <td>gas_transport</td>\n",
              "      <td>45.00</td>\n",
              "      <td>Jeremy</td>\n",
              "      <td>White</td>\n",
              "      <td>M</td>\n",
              "      <td>9443 Cynthia Court Apt. 038</td>\n",
              "      <td>Boulder</td>\n",
              "      <td>MT</td>\n",
              "      <td>59632</td>\n",
              "      <td>46.2306</td>\n",
              "      <td>-112.1138</td>\n",
              "      <td>1939</td>\n",
              "      <td>Patent attorney</td>\n",
              "      <td>1967-01-12</td>\n",
              "      <td>6b849c168bdad6f867558c3793159a81</td>\n",
              "      <td>1325376076</td>\n",
              "      <td>47.034331</td>\n",
              "      <td>-112.561071</td>\n",
              "      <td>0</td>\n",
              "      <td>Tuesday</td>\n",
              "      <td>2019-01</td>\n",
              "      <td>52.0</td>\n",
              "      <td>0</td>\n",
              "      <td>1</td>\n",
              "      <td>0</td>\n",
              "      <td>0</td>\n",
              "      <td>0</td>\n",
              "      <td>0</td>\n",
              "      <td>0</td>\n",
              "      <td>0</td>\n",
              "      <td>0</td>\n",
              "      <td>0</td>\n",
              "      <td>0</td>\n",
              "      <td>0</td>\n",
              "      <td>0</td>\n",
              "      <td>1</td>\n",
              "      <td>0</td>\n",
              "      <td>0</td>\n",
              "      <td>0</td>\n",
              "      <td>0</td>\n",
              "      <td>1</td>\n",
              "      <td>0</td>\n",
              "      <td>5377.625588</td>\n",
              "    </tr>\n",
              "    <tr>\n",
              "      <th>4</th>\n",
              "      <td>2019-01-01 00:03:06</td>\n",
              "      <td>375534208663984</td>\n",
              "      <td>fraud_Keeling-Crist</td>\n",
              "      <td>misc_pos</td>\n",
              "      <td>41.96</td>\n",
              "      <td>Tyler</td>\n",
              "      <td>Garcia</td>\n",
              "      <td>M</td>\n",
              "      <td>408 Bradley Rest</td>\n",
              "      <td>Doe Hill</td>\n",
              "      <td>VA</td>\n",
              "      <td>24433</td>\n",
              "      <td>38.4207</td>\n",
              "      <td>-79.4629</td>\n",
              "      <td>99</td>\n",
              "      <td>Dance movement psychotherapist</td>\n",
              "      <td>1986-03-28</td>\n",
              "      <td>a41d7549acf90789359a9aa5346dcb46</td>\n",
              "      <td>1325376186</td>\n",
              "      <td>38.674999</td>\n",
              "      <td>-78.632459</td>\n",
              "      <td>0</td>\n",
              "      <td>Tuesday</td>\n",
              "      <td>2019-01</td>\n",
              "      <td>33.0</td>\n",
              "      <td>0</td>\n",
              "      <td>0</td>\n",
              "      <td>0</td>\n",
              "      <td>0</td>\n",
              "      <td>0</td>\n",
              "      <td>0</td>\n",
              "      <td>0</td>\n",
              "      <td>0</td>\n",
              "      <td>1</td>\n",
              "      <td>0</td>\n",
              "      <td>0</td>\n",
              "      <td>0</td>\n",
              "      <td>0</td>\n",
              "      <td>1</td>\n",
              "      <td>0</td>\n",
              "      <td>0</td>\n",
              "      <td>0</td>\n",
              "      <td>0</td>\n",
              "      <td>1</td>\n",
              "      <td>0</td>\n",
              "      <td>5833.347119</td>\n",
              "    </tr>\n",
              "  </tbody>\n",
              "</table>\n",
              "</div>"
            ],
            "text/plain": [
              "  trans_date_trans_time            cc_num  ... week_day_Wednesday         dist\n",
              "0   2019-01-01 00:00:18  2703186189652095  ...                  0  5769.599637\n",
              "1   2019-01-01 00:00:44      630423337322  ...                  0  5254.925202\n",
              "2   2019-01-01 00:00:51    38859492057661  ...                  0  5265.935520\n",
              "3   2019-01-01 00:01:16  3534093764340240  ...                  0  5377.625588\n",
              "4   2019-01-01 00:03:06   375534208663984  ...                  0  5833.347119\n",
              "\n",
              "[5 rows x 46 columns]"
            ]
          },
          "metadata": {
            "tags": []
          },
          "execution_count": 59
        }
      ]
    },
    {
      "cell_type": "code",
      "metadata": {
        "colab": {
          "base_uri": "https://localhost:8080/"
        },
        "id": "b4_p6syv__tP",
        "outputId": "4e4d0793-7608-4ab0-baf8-1265079393fc"
      },
      "source": [
        "df_encoded['dist'].describe()"
      ],
      "execution_count": 60,
      "outputs": [
        {
          "output_type": "execute_result",
          "data": {
            "text/plain": [
              "count    1.296675e+06\n",
              "mean     5.644584e+03\n",
              "std      3.234227e+02\n",
              "min      2.420561e+03\n",
              "25%      5.516237e+03\n",
              "50%      5.729283e+03\n",
              "75%      5.870925e+03\n",
              "max      6.007332e+03\n",
              "Name: dist, dtype: float64"
            ]
          },
          "metadata": {
            "tags": []
          },
          "execution_count": 60
        }
      ]
    },
    {
      "cell_type": "markdown",
      "metadata": {
        "id": "UbqySPYAB9wK"
      },
      "source": [
        ""
      ]
    },
    {
      "cell_type": "code",
      "metadata": {
        "id": "yPgaD5L___wQ"
      },
      "source": [
        ""
      ],
      "execution_count": null,
      "outputs": []
    },
    {
      "cell_type": "code",
      "metadata": {
        "id": "gkGKy_PI__1b"
      },
      "source": [
        ""
      ],
      "execution_count": null,
      "outputs": []
    },
    {
      "cell_type": "code",
      "metadata": {
        "id": "Cgrb07qe__5a"
      },
      "source": [
        ""
      ],
      "execution_count": null,
      "outputs": []
    },
    {
      "cell_type": "code",
      "metadata": {
        "id": "W7Z7rSRS__9H"
      },
      "source": [
        ""
      ],
      "execution_count": null,
      "outputs": []
    }
  ]
}