{
  "nbformat": 4,
  "nbformat_minor": 0,
  "metadata": {
    "kernelspec": {
      "language": "python",
      "display_name": "Python 3",
      "name": "python3"
    },
    "language_info": {
      "name": "python",
      "version": "3.7.10",
      "mimetype": "text/x-python",
      "codemirror_mode": {
        "name": "ipython",
        "version": 3
      },
      "pygments_lexer": "ipython3",
      "nbconvert_exporter": "python",
      "file_extension": ".py"
    },
    "colab": {
      "name": "PCA Analysis andRule on distance between last two transcation .ipynb",
      "provenance": [],
      "collapsed_sections": [],
      "include_colab_link": true
    }
  },
  "cells": [
    {
      "cell_type": "markdown",
      "metadata": {
        "id": "view-in-github",
        "colab_type": "text"
      },
      "source": [
        "<a href=\"https://colab.research.google.com/github/subhankar-nitt/Fraud-detection-demo/blob/subhankar/Spark-Streaming/PCA_Analysis_andRule_on_distance_between_last_two_transcation_.ipynb\" target=\"_parent\"><img src=\"https://colab.research.google.com/assets/colab-badge.svg\" alt=\"Open In Colab\"/></a>"
      ]
    },
    {
      "cell_type": "markdown",
      "metadata": {
        "id": "kz9HqYcT1uAv"
      },
      "source": [
        "# ****Topic - Rule extraction for Fraud detection DataSet****\n",
        "# ****Data- 18/06/2021****\n",
        "# ****Description - In this notebook we will try to extract rules can be used to tag the database based on outliers.****"
      ]
    },
    {
      "cell_type": "markdown",
      "metadata": {
        "id": "KNnQNoe5MtoT"
      },
      "source": [
        "# **Loading the DataSet and analysing it**"
      ]
    },
    {
      "cell_type": "code",
      "metadata": {
        "colab": {
          "base_uri": "https://localhost:8080/"
        },
        "id": "9405MS_i11vU",
        "outputId": "5df84f4c-717d-4e5c-9566-1187c1dcd348"
      },
      "source": [
        "#mounting the gdrive here\n",
        "from google.colab import drive\n",
        "drive.mount(\"/content/drive\")"
      ],
      "execution_count": null,
      "outputs": [
        {
          "output_type": "stream",
          "text": [
            "Mounted at /content/drive\n"
          ],
          "name": "stdout"
        }
      ]
    },
    {
      "cell_type": "code",
      "metadata": {
        "execution": {
          "iopub.status.busy": "2021-06-18T02:45:45.222274Z",
          "iopub.execute_input": "2021-06-18T02:45:45.222907Z",
          "iopub.status.idle": "2021-06-18T02:45:46.094343Z",
          "shell.execute_reply.started": "2021-06-18T02:45:45.222854Z",
          "shell.execute_reply": "2021-06-18T02:45:46.093240Z"
        },
        "trusted": true,
        "id": "LMyVGWhd1uAz"
      },
      "source": [
        "#importing the python libraries to be used in this session\n",
        "import pandas as pd  #used for data analysis\n",
        "import numpy as np #used for numerical calculations\n",
        "import seaborn as sns #used for data visualization and plotting\n",
        "import matplotlib.pyplot as plt  #used for data visualization and plotting\n",
        "%matplotlib inline"
      ],
      "execution_count": null,
      "outputs": []
    },
    {
      "cell_type": "code",
      "metadata": {
        "execution": {
          "iopub.status.busy": "2021-06-18T02:45:49.622231Z",
          "iopub.execute_input": "2021-06-18T02:45:49.624539Z",
          "iopub.status.idle": "2021-06-18T02:45:55.990556Z",
          "shell.execute_reply.started": "2021-06-18T02:45:49.624495Z",
          "shell.execute_reply": "2021-06-18T02:45:55.989298Z"
        },
        "trusted": true,
        "id": "WnY24zKP1uA2"
      },
      "source": [
        "#importing the dataset using pandas\n",
        "\n",
        "data = pd.read_csv(\"/content/drive/MyDrive/kaggle/CCDMS_dataset.csv\") #reading the data from the dataset,find the dataset description in the readme file\n"
      ],
      "execution_count": null,
      "outputs": []
    },
    {
      "cell_type": "code",
      "metadata": {
        "execution": {
          "iopub.status.busy": "2021-06-18T02:46:03.209153Z",
          "iopub.execute_input": "2021-06-18T02:46:03.209894Z",
          "iopub.status.idle": "2021-06-18T02:46:03.280853Z",
          "shell.execute_reply.started": "2021-06-18T02:46:03.209828Z",
          "shell.execute_reply": "2021-06-18T02:46:03.279672Z"
        },
        "trusted": true,
        "colab": {
          "base_uri": "https://localhost:8080/",
          "height": 821
        },
        "id": "uqJz2olv1uA4",
        "outputId": "e569f8e8-7502-41f6-f027-c8c7cace9807"
      },
      "source": [
        "data.head(10) #showing the first 10 data of the dataset "
      ],
      "execution_count": null,
      "outputs": [
        {
          "output_type": "execute_result",
          "data": {
            "text/html": [
              "<div>\n",
              "<style scoped>\n",
              "    .dataframe tbody tr th:only-of-type {\n",
              "        vertical-align: middle;\n",
              "    }\n",
              "\n",
              "    .dataframe tbody tr th {\n",
              "        vertical-align: top;\n",
              "    }\n",
              "\n",
              "    .dataframe thead th {\n",
              "        text-align: right;\n",
              "    }\n",
              "</style>\n",
              "<table border=\"1\" class=\"dataframe\">\n",
              "  <thead>\n",
              "    <tr style=\"text-align: right;\">\n",
              "      <th></th>\n",
              "      <th>trans_id</th>\n",
              "      <th>trans_date_trans_time</th>\n",
              "      <th>card_num</th>\n",
              "      <th>merchant</th>\n",
              "      <th>purchase_category</th>\n",
              "      <th>trans_amt</th>\n",
              "      <th>first</th>\n",
              "      <th>last</th>\n",
              "      <th>gender</th>\n",
              "      <th>street</th>\n",
              "      <th>city</th>\n",
              "      <th>state</th>\n",
              "      <th>zip</th>\n",
              "      <th>lat</th>\n",
              "      <th>long</th>\n",
              "      <th>city_pop</th>\n",
              "      <th>job</th>\n",
              "      <th>dob</th>\n",
              "      <th>trans_num</th>\n",
              "      <th>unix_time</th>\n",
              "      <th>merch_lat</th>\n",
              "      <th>merch_long</th>\n",
              "      <th>debit_credit_indicator</th>\n",
              "      <th>trans_type</th>\n",
              "      <th>card_type</th>\n",
              "    </tr>\n",
              "  </thead>\n",
              "  <tbody>\n",
              "    <tr>\n",
              "      <th>0</th>\n",
              "      <td>1</td>\n",
              "      <td>6/21/2020 12:14</td>\n",
              "      <td>3573030041201290</td>\n",
              "      <td>Sporer-Keebler</td>\n",
              "      <td>personal_care</td>\n",
              "      <td>29.84</td>\n",
              "      <td>Joanne</td>\n",
              "      <td>Williams</td>\n",
              "      <td>F</td>\n",
              "      <td>3638 Marsh Union</td>\n",
              "      <td>Altonah</td>\n",
              "      <td>UT</td>\n",
              "      <td>84002</td>\n",
              "      <td>40.3207</td>\n",
              "      <td>-110.4360</td>\n",
              "      <td>302</td>\n",
              "      <td>Sales professional, IT</td>\n",
              "      <td>1/17/1990</td>\n",
              "      <td>324cc204407e99f51b0d6ca0055005e7</td>\n",
              "      <td>1371816873</td>\n",
              "      <td>39.450498</td>\n",
              "      <td>-109.960431</td>\n",
              "      <td>debit</td>\n",
              "      <td>purchase</td>\n",
              "      <td>NaN</td>\n",
              "    </tr>\n",
              "    <tr>\n",
              "      <th>1</th>\n",
              "      <td>2</td>\n",
              "      <td>6/21/2020 12:14</td>\n",
              "      <td>3598215285024750</td>\n",
              "      <td>Swaniawski, Nitzsche and Welch</td>\n",
              "      <td>health</td>\n",
              "      <td>41.28</td>\n",
              "      <td>Ashley</td>\n",
              "      <td>Lopez</td>\n",
              "      <td>F</td>\n",
              "      <td>9333 Valentine Point</td>\n",
              "      <td>Bellmore</td>\n",
              "      <td>NY</td>\n",
              "      <td>11710</td>\n",
              "      <td>40.6729</td>\n",
              "      <td>-73.5365</td>\n",
              "      <td>34496</td>\n",
              "      <td>Librarian, public</td>\n",
              "      <td>10/21/1970</td>\n",
              "      <td>c81755dbbbea9d5c77f094348a7579be</td>\n",
              "      <td>1371816893</td>\n",
              "      <td>40.495810</td>\n",
              "      <td>-74.196111</td>\n",
              "      <td>debit</td>\n",
              "      <td>purchase</td>\n",
              "      <td>NaN</td>\n",
              "    </tr>\n",
              "    <tr>\n",
              "      <th>2</th>\n",
              "      <td>3</td>\n",
              "      <td>6/21/2020 12:15</td>\n",
              "      <td>3591919803438420</td>\n",
              "      <td>Haley Group</td>\n",
              "      <td>misc_pos</td>\n",
              "      <td>60.05</td>\n",
              "      <td>Brian</td>\n",
              "      <td>Williams</td>\n",
              "      <td>M</td>\n",
              "      <td>32941 Krystal Mill Apt. 552</td>\n",
              "      <td>Titusville</td>\n",
              "      <td>FL</td>\n",
              "      <td>32780</td>\n",
              "      <td>28.5697</td>\n",
              "      <td>-80.8191</td>\n",
              "      <td>54767</td>\n",
              "      <td>Set designer</td>\n",
              "      <td>7/25/1987</td>\n",
              "      <td>2159175b9efe66dc301f149d3d5abf8c</td>\n",
              "      <td>1371816915</td>\n",
              "      <td>28.812398</td>\n",
              "      <td>-80.883061</td>\n",
              "      <td>debit</td>\n",
              "      <td>purchase</td>\n",
              "      <td>NaN</td>\n",
              "    </tr>\n",
              "    <tr>\n",
              "      <th>3</th>\n",
              "      <td>4</td>\n",
              "      <td>6/21/2020 12:15</td>\n",
              "      <td>3526826139003040</td>\n",
              "      <td>Johnston-Casper</td>\n",
              "      <td>travel</td>\n",
              "      <td>3.19</td>\n",
              "      <td>Nathan</td>\n",
              "      <td>Massey</td>\n",
              "      <td>M</td>\n",
              "      <td>5783 Evan Roads Apt. 465</td>\n",
              "      <td>Falmouth</td>\n",
              "      <td>MI</td>\n",
              "      <td>49632</td>\n",
              "      <td>44.2529</td>\n",
              "      <td>-85.0170</td>\n",
              "      <td>1126</td>\n",
              "      <td>Furniture designer</td>\n",
              "      <td>7/6/1955</td>\n",
              "      <td>57ff021bd3f328f8738bb535c302a31b</td>\n",
              "      <td>1371816917</td>\n",
              "      <td>44.959148</td>\n",
              "      <td>-85.884734</td>\n",
              "      <td>debit</td>\n",
              "      <td>purchase</td>\n",
              "      <td>NaN</td>\n",
              "    </tr>\n",
              "    <tr>\n",
              "      <th>4</th>\n",
              "      <td>5</td>\n",
              "      <td>6/21/2020 12:15</td>\n",
              "      <td>30407675418785</td>\n",
              "      <td>Daugherty LLC</td>\n",
              "      <td>kids_pets</td>\n",
              "      <td>19.55</td>\n",
              "      <td>Danielle</td>\n",
              "      <td>Evans</td>\n",
              "      <td>F</td>\n",
              "      <td>76752 David Lodge Apt. 064</td>\n",
              "      <td>Breesport</td>\n",
              "      <td>NY</td>\n",
              "      <td>14816</td>\n",
              "      <td>42.1939</td>\n",
              "      <td>-76.7361</td>\n",
              "      <td>520</td>\n",
              "      <td>Psychotherapist</td>\n",
              "      <td>10/13/1991</td>\n",
              "      <td>798db04aaceb4febd084f1a7c404da93</td>\n",
              "      <td>1371816937</td>\n",
              "      <td>41.747157</td>\n",
              "      <td>-77.584197</td>\n",
              "      <td>debit</td>\n",
              "      <td>purchase</td>\n",
              "      <td>NaN</td>\n",
              "    </tr>\n",
              "    <tr>\n",
              "      <th>5</th>\n",
              "      <td>6</td>\n",
              "      <td>6/21/2020 12:15</td>\n",
              "      <td>213180742685905</td>\n",
              "      <td>Romaguera Ltd</td>\n",
              "      <td>health</td>\n",
              "      <td>133.93</td>\n",
              "      <td>Kayla</td>\n",
              "      <td>Sutton</td>\n",
              "      <td>F</td>\n",
              "      <td>010 Weaver Land</td>\n",
              "      <td>Carlotta</td>\n",
              "      <td>CA</td>\n",
              "      <td>95528</td>\n",
              "      <td>40.5070</td>\n",
              "      <td>-123.9743</td>\n",
              "      <td>1139</td>\n",
              "      <td>Therapist, occupational</td>\n",
              "      <td>1/15/1951</td>\n",
              "      <td>17003d7ce534440eadb10c4750e020e5</td>\n",
              "      <td>1371816944</td>\n",
              "      <td>41.499458</td>\n",
              "      <td>-124.888729</td>\n",
              "      <td>debit</td>\n",
              "      <td>purchase</td>\n",
              "      <td>NaN</td>\n",
              "    </tr>\n",
              "    <tr>\n",
              "      <th>6</th>\n",
              "      <td>7</td>\n",
              "      <td>6/21/2020 12:15</td>\n",
              "      <td>3589289942931260</td>\n",
              "      <td>Reichel LLC</td>\n",
              "      <td>personal_care</td>\n",
              "      <td>10.37</td>\n",
              "      <td>Paula</td>\n",
              "      <td>Estrada</td>\n",
              "      <td>F</td>\n",
              "      <td>350 Stacy Glens</td>\n",
              "      <td>Spencer</td>\n",
              "      <td>SD</td>\n",
              "      <td>57374</td>\n",
              "      <td>43.7557</td>\n",
              "      <td>-97.5936</td>\n",
              "      <td>343</td>\n",
              "      <td>Development worker, international aid</td>\n",
              "      <td>3/5/1972</td>\n",
              "      <td>8be473af4f05fc6146ea55ace73e7ca2</td>\n",
              "      <td>1371816950</td>\n",
              "      <td>44.495498</td>\n",
              "      <td>-97.728453</td>\n",
              "      <td>debit</td>\n",
              "      <td>purchase</td>\n",
              "      <td>NaN</td>\n",
              "    </tr>\n",
              "    <tr>\n",
              "      <th>7</th>\n",
              "      <td>8</td>\n",
              "      <td>6/21/2020 12:16</td>\n",
              "      <td>3596357274378600</td>\n",
              "      <td>Goyette, Howell and Collier</td>\n",
              "      <td>shopping_pos</td>\n",
              "      <td>4.37</td>\n",
              "      <td>David</td>\n",
              "      <td>Everett</td>\n",
              "      <td>M</td>\n",
              "      <td>4138 David Fall</td>\n",
              "      <td>Morrisdale</td>\n",
              "      <td>PA</td>\n",
              "      <td>16858</td>\n",
              "      <td>41.0001</td>\n",
              "      <td>-78.2357</td>\n",
              "      <td>3688</td>\n",
              "      <td>Advice worker</td>\n",
              "      <td>5/27/1973</td>\n",
              "      <td>71a1da150d1ce510193d7622e08e784e</td>\n",
              "      <td>1371816970</td>\n",
              "      <td>41.546067</td>\n",
              "      <td>-78.120238</td>\n",
              "      <td>debit</td>\n",
              "      <td>purchase</td>\n",
              "      <td>NaN</td>\n",
              "    </tr>\n",
              "    <tr>\n",
              "      <th>8</th>\n",
              "      <td>9</td>\n",
              "      <td>6/21/2020 12:16</td>\n",
              "      <td>3546897637165770</td>\n",
              "      <td>Kilback Group</td>\n",
              "      <td>food</td>\n",
              "      <td>66.54</td>\n",
              "      <td>Kayla</td>\n",
              "      <td>Obrien</td>\n",
              "      <td>F</td>\n",
              "      <td>7921 Robert Port Suite 343</td>\n",
              "      <td>Prairie Hill</td>\n",
              "      <td>TX</td>\n",
              "      <td>76678</td>\n",
              "      <td>31.6591</td>\n",
              "      <td>-96.8094</td>\n",
              "      <td>263</td>\n",
              "      <td>Barrister</td>\n",
              "      <td>5/30/1956</td>\n",
              "      <td>a7915132c7c4240996ba03a47f81e3bd</td>\n",
              "      <td>1371816971</td>\n",
              "      <td>31.782919</td>\n",
              "      <td>-96.366185</td>\n",
              "      <td>debit</td>\n",
              "      <td>payments</td>\n",
              "      <td>NaN</td>\n",
              "    </tr>\n",
              "    <tr>\n",
              "      <th>9</th>\n",
              "      <td>10</td>\n",
              "      <td>6/21/2020 12:16</td>\n",
              "      <td>2242542703101230</td>\n",
              "      <td>Feil, Hilpert and Koss</td>\n",
              "      <td>food</td>\n",
              "      <td>7.01</td>\n",
              "      <td>Samuel</td>\n",
              "      <td>Jenkins</td>\n",
              "      <td>M</td>\n",
              "      <td>43235 Mckenzie Views Apt. 837</td>\n",
              "      <td>Westport</td>\n",
              "      <td>KY</td>\n",
              "      <td>40077</td>\n",
              "      <td>38.4921</td>\n",
              "      <td>-85.4524</td>\n",
              "      <td>564</td>\n",
              "      <td>Pensions consultant</td>\n",
              "      <td>4/10/1996</td>\n",
              "      <td>3b8e4d02d9e1a3bf97cf449eb0317f2c</td>\n",
              "      <td>1371816980</td>\n",
              "      <td>38.977546</td>\n",
              "      <td>-84.727994</td>\n",
              "      <td>debit</td>\n",
              "      <td>payments</td>\n",
              "      <td>NaN</td>\n",
              "    </tr>\n",
              "  </tbody>\n",
              "</table>\n",
              "</div>"
            ],
            "text/plain": [
              "   trans_id trans_date_trans_time  ...  trans_type card_type\n",
              "0         1       6/21/2020 12:14  ...    purchase       NaN\n",
              "1         2       6/21/2020 12:14  ...    purchase       NaN\n",
              "2         3       6/21/2020 12:15  ...    purchase       NaN\n",
              "3         4       6/21/2020 12:15  ...    purchase       NaN\n",
              "4         5       6/21/2020 12:15  ...    purchase       NaN\n",
              "5         6       6/21/2020 12:15  ...    purchase       NaN\n",
              "6         7       6/21/2020 12:15  ...    purchase       NaN\n",
              "7         8       6/21/2020 12:16  ...    purchase       NaN\n",
              "8         9       6/21/2020 12:16  ...    payments       NaN\n",
              "9        10       6/21/2020 12:16  ...    payments       NaN\n",
              "\n",
              "[10 rows x 25 columns]"
            ]
          },
          "metadata": {
            "tags": []
          },
          "execution_count": 4
        }
      ]
    },
    {
      "cell_type": "code",
      "metadata": {
        "execution": {
          "iopub.status.busy": "2021-06-18T02:46:09.862516Z",
          "iopub.execute_input": "2021-06-18T02:46:09.862993Z",
          "iopub.status.idle": "2021-06-18T02:46:10.234933Z",
          "shell.execute_reply.started": "2021-06-18T02:46:09.862958Z",
          "shell.execute_reply": "2021-06-18T02:46:10.233545Z"
        },
        "trusted": true,
        "id": "MRmmQJ1d1uA-",
        "outputId": "41ad9b57-60d0-4d6a-a219-7d72ee543472"
      },
      "source": [
        "data.describe() # describes the different dataSet fields, and there properties"
      ],
      "execution_count": null,
      "outputs": [
        {
          "output_type": "execute_result",
          "data": {
            "text/plain": [
              "            trans_id      card_num      trans_amt            zip  \\\n",
              "count  555718.000000  5.557180e+05  555718.000000  555718.000000   \n",
              "mean   277859.500000  4.178312e+17      69.392930   48842.663345   \n",
              "std    160422.112784  1.309826e+18     156.746057   26855.294575   \n",
              "min         1.000000  6.041621e+10       1.000000    1257.000000   \n",
              "25%    138930.250000  1.800429e+14       9.630000   26292.000000   \n",
              "50%    277859.500000  3.521417e+15      47.290000   48174.000000   \n",
              "75%    416788.750000  4.635331e+15      83.010000   72011.000000   \n",
              "max    555718.000000  4.992346e+18   22768.110000   99921.000000   \n",
              "\n",
              "                 lat           long      city_pop     unix_time  \\\n",
              "count  555718.000000  555718.000000  5.557180e+05  5.557180e+05   \n",
              "mean       38.543261     -90.231342  8.822145e+04  1.380679e+09   \n",
              "std         5.061337      13.721786  3.003910e+05  5.201095e+06   \n",
              "min        20.027100    -165.672300  2.300000e+01  1.371817e+09   \n",
              "25%        34.668900     -96.798000  7.410000e+02  1.376029e+09   \n",
              "50%        39.371600     -87.476900  2.408000e+03  1.380762e+09   \n",
              "75%        41.894800     -80.175200  1.968500e+04  1.385867e+09   \n",
              "max        65.689900     -67.950300  2.906700e+06  1.388534e+09   \n",
              "\n",
              "           merch_lat     merch_long  card_type  \n",
              "count  555718.000000  555718.000000        0.0  \n",
              "mean       38.542806     -90.231397        NaN  \n",
              "std         5.095830      13.733078        NaN  \n",
              "min        19.027422    -166.671575        NaN  \n",
              "25%        34.755316     -96.905148        NaN  \n",
              "50%        39.376608     -87.445206        NaN  \n",
              "75%        41.954165     -80.264631        NaN  \n",
              "max        66.679297     -66.952026        NaN  "
            ],
            "text/html": [
              "<div>\n",
              "<style scoped>\n",
              "    .dataframe tbody tr th:only-of-type {\n",
              "        vertical-align: middle;\n",
              "    }\n",
              "\n",
              "    .dataframe tbody tr th {\n",
              "        vertical-align: top;\n",
              "    }\n",
              "\n",
              "    .dataframe thead th {\n",
              "        text-align: right;\n",
              "    }\n",
              "</style>\n",
              "<table border=\"1\" class=\"dataframe\">\n",
              "  <thead>\n",
              "    <tr style=\"text-align: right;\">\n",
              "      <th></th>\n",
              "      <th>trans_id</th>\n",
              "      <th>card_num</th>\n",
              "      <th>trans_amt</th>\n",
              "      <th>zip</th>\n",
              "      <th>lat</th>\n",
              "      <th>long</th>\n",
              "      <th>city_pop</th>\n",
              "      <th>unix_time</th>\n",
              "      <th>merch_lat</th>\n",
              "      <th>merch_long</th>\n",
              "      <th>card_type</th>\n",
              "    </tr>\n",
              "  </thead>\n",
              "  <tbody>\n",
              "    <tr>\n",
              "      <th>count</th>\n",
              "      <td>555718.000000</td>\n",
              "      <td>5.557180e+05</td>\n",
              "      <td>555718.000000</td>\n",
              "      <td>555718.000000</td>\n",
              "      <td>555718.000000</td>\n",
              "      <td>555718.000000</td>\n",
              "      <td>5.557180e+05</td>\n",
              "      <td>5.557180e+05</td>\n",
              "      <td>555718.000000</td>\n",
              "      <td>555718.000000</td>\n",
              "      <td>0.0</td>\n",
              "    </tr>\n",
              "    <tr>\n",
              "      <th>mean</th>\n",
              "      <td>277859.500000</td>\n",
              "      <td>4.178312e+17</td>\n",
              "      <td>69.392930</td>\n",
              "      <td>48842.663345</td>\n",
              "      <td>38.543261</td>\n",
              "      <td>-90.231342</td>\n",
              "      <td>8.822145e+04</td>\n",
              "      <td>1.380679e+09</td>\n",
              "      <td>38.542806</td>\n",
              "      <td>-90.231397</td>\n",
              "      <td>NaN</td>\n",
              "    </tr>\n",
              "    <tr>\n",
              "      <th>std</th>\n",
              "      <td>160422.112784</td>\n",
              "      <td>1.309826e+18</td>\n",
              "      <td>156.746057</td>\n",
              "      <td>26855.294575</td>\n",
              "      <td>5.061337</td>\n",
              "      <td>13.721786</td>\n",
              "      <td>3.003910e+05</td>\n",
              "      <td>5.201095e+06</td>\n",
              "      <td>5.095830</td>\n",
              "      <td>13.733078</td>\n",
              "      <td>NaN</td>\n",
              "    </tr>\n",
              "    <tr>\n",
              "      <th>min</th>\n",
              "      <td>1.000000</td>\n",
              "      <td>6.041621e+10</td>\n",
              "      <td>1.000000</td>\n",
              "      <td>1257.000000</td>\n",
              "      <td>20.027100</td>\n",
              "      <td>-165.672300</td>\n",
              "      <td>2.300000e+01</td>\n",
              "      <td>1.371817e+09</td>\n",
              "      <td>19.027422</td>\n",
              "      <td>-166.671575</td>\n",
              "      <td>NaN</td>\n",
              "    </tr>\n",
              "    <tr>\n",
              "      <th>25%</th>\n",
              "      <td>138930.250000</td>\n",
              "      <td>1.800429e+14</td>\n",
              "      <td>9.630000</td>\n",
              "      <td>26292.000000</td>\n",
              "      <td>34.668900</td>\n",
              "      <td>-96.798000</td>\n",
              "      <td>7.410000e+02</td>\n",
              "      <td>1.376029e+09</td>\n",
              "      <td>34.755316</td>\n",
              "      <td>-96.905148</td>\n",
              "      <td>NaN</td>\n",
              "    </tr>\n",
              "    <tr>\n",
              "      <th>50%</th>\n",
              "      <td>277859.500000</td>\n",
              "      <td>3.521417e+15</td>\n",
              "      <td>47.290000</td>\n",
              "      <td>48174.000000</td>\n",
              "      <td>39.371600</td>\n",
              "      <td>-87.476900</td>\n",
              "      <td>2.408000e+03</td>\n",
              "      <td>1.380762e+09</td>\n",
              "      <td>39.376608</td>\n",
              "      <td>-87.445206</td>\n",
              "      <td>NaN</td>\n",
              "    </tr>\n",
              "    <tr>\n",
              "      <th>75%</th>\n",
              "      <td>416788.750000</td>\n",
              "      <td>4.635331e+15</td>\n",
              "      <td>83.010000</td>\n",
              "      <td>72011.000000</td>\n",
              "      <td>41.894800</td>\n",
              "      <td>-80.175200</td>\n",
              "      <td>1.968500e+04</td>\n",
              "      <td>1.385867e+09</td>\n",
              "      <td>41.954165</td>\n",
              "      <td>-80.264631</td>\n",
              "      <td>NaN</td>\n",
              "    </tr>\n",
              "    <tr>\n",
              "      <th>max</th>\n",
              "      <td>555718.000000</td>\n",
              "      <td>4.992346e+18</td>\n",
              "      <td>22768.110000</td>\n",
              "      <td>99921.000000</td>\n",
              "      <td>65.689900</td>\n",
              "      <td>-67.950300</td>\n",
              "      <td>2.906700e+06</td>\n",
              "      <td>1.388534e+09</td>\n",
              "      <td>66.679297</td>\n",
              "      <td>-66.952026</td>\n",
              "      <td>NaN</td>\n",
              "    </tr>\n",
              "  </tbody>\n",
              "</table>\n",
              "</div>"
            ]
          },
          "metadata": {
            "tags": []
          },
          "execution_count": 6
        }
      ]
    },
    {
      "cell_type": "code",
      "metadata": {
        "execution": {
          "iopub.status.busy": "2021-06-18T02:46:16.732844Z",
          "iopub.execute_input": "2021-06-18T02:46:16.733348Z",
          "iopub.status.idle": "2021-06-18T02:46:17.520282Z",
          "shell.execute_reply.started": "2021-06-18T02:46:16.733313Z",
          "shell.execute_reply": "2021-06-18T02:46:17.519029Z"
        },
        "trusted": true,
        "id": "5yvZhvUV1uA_",
        "outputId": "d320bcfa-d05c-456d-8ac4-add7baeec6c8"
      },
      "source": [
        "data.isnull().sum() #checking the total number of null values in the dataset"
      ],
      "execution_count": null,
      "outputs": [
        {
          "output_type": "execute_result",
          "data": {
            "text/plain": [
              "trans_id                       0\n",
              "trans_date_trans_time          0\n",
              "card_num                       0\n",
              "merchant                       0\n",
              "purchase_category              0\n",
              "trans_amt                      0\n",
              "first                          0\n",
              "last                           0\n",
              "gender                         0\n",
              "street                         0\n",
              "city                           0\n",
              "state                          0\n",
              "zip                            0\n",
              "lat                            0\n",
              "long                           0\n",
              "city_pop                       0\n",
              "job                            0\n",
              "dob                            0\n",
              "trans_num                      0\n",
              "unix_time                      0\n",
              "merch_lat                      0\n",
              "merch_long                     0\n",
              "debit_credit_indicator         0\n",
              "trans_type                     0\n",
              "card_type                 555718\n",
              "dtype: int64"
            ]
          },
          "metadata": {
            "tags": []
          },
          "execution_count": 7
        }
      ]
    },
    {
      "cell_type": "code",
      "metadata": {
        "execution": {
          "iopub.status.busy": "2021-06-18T02:46:23.533309Z",
          "iopub.execute_input": "2021-06-18T02:46:23.533748Z",
          "iopub.status.idle": "2021-06-18T02:46:36.816983Z",
          "shell.execute_reply.started": "2021-06-18T02:46:23.533710Z",
          "shell.execute_reply": "2021-06-18T02:46:36.816289Z"
        },
        "trusted": true,
        "id": "cw7iwBUI1uBB",
        "outputId": "115ba037-dd2e-4d5b-f557-9ea7282e8ff2"
      },
      "source": [
        "sns.heatmap(data.isnull(),yticklabels=False,cmap='viridis') #creating a heatmap to check the fields having null values graphically"
      ],
      "execution_count": null,
      "outputs": [
        {
          "output_type": "execute_result",
          "data": {
            "text/plain": [
              "<AxesSubplot:>"
            ]
          },
          "metadata": {
            "tags": []
          },
          "execution_count": 8
        },
        {
          "output_type": "display_data",
          "data": {
            "text/plain": [
              "<Figure size 432x288 with 2 Axes>"
            ],
            "image/png": "[encoded data removed]"
          },
          "metadata": {
            "tags": [],
            "needs_background": "light"
          }
        }
      ]
    },
    {
      "cell_type": "code",
      "metadata": {
        "execution": {
          "iopub.status.busy": "2021-06-18T02:46:41.702444Z",
          "iopub.execute_input": "2021-06-18T02:46:41.703007Z",
          "iopub.status.idle": "2021-06-18T02:46:41.806956Z",
          "shell.execute_reply.started": "2021-06-18T02:46:41.702972Z",
          "shell.execute_reply": "2021-06-18T02:46:41.805912Z"
        },
        "trusted": true,
        "id": "T22lVgit1uBC"
      },
      "source": [
        "#As we have seen that the card_type field having only null values so we are discarding that field\n",
        "data = data.drop([\"card_type\"],axis=1)"
      ],
      "execution_count": null,
      "outputs": []
    },
    {
      "cell_type": "code",
      "metadata": {
        "execution": {
          "iopub.status.busy": "2021-06-18T02:46:49.967981Z",
          "iopub.execute_input": "2021-06-18T02:46:49.968564Z",
          "iopub.status.idle": "2021-06-18T02:46:49.999540Z",
          "shell.execute_reply.started": "2021-06-18T02:46:49.968517Z",
          "shell.execute_reply": "2021-06-18T02:46:49.998058Z"
        },
        "trusted": true,
        "id": "Wfi9aXhA1uBD",
        "outputId": "d7268950-c186-4b20-c8df-fdb07aec2c5b"
      },
      "source": [
        "#checking wheather the card_type field is discarded or not\n",
        "\n",
        "data.head(2)"
      ],
      "execution_count": null,
      "outputs": [
        {
          "output_type": "execute_result",
          "data": {
            "text/plain": [
              "   trans_id trans_date_trans_time          card_num  \\\n",
              "0         1       6/21/2020 12:14  3573030041201290   \n",
              "1         2       6/21/2020 12:14  3598215285024750   \n",
              "\n",
              "                         merchant purchase_category  trans_amt   first  \\\n",
              "0                  Sporer-Keebler     personal_care      29.84  Joanne   \n",
              "1  Swaniawski, Nitzsche and Welch            health      41.28  Ashley   \n",
              "\n",
              "       last gender                street  ...      long city_pop  \\\n",
              "0  Williams      F      3638 Marsh Union  ... -110.4360      302   \n",
              "1     Lopez      F  9333 Valentine Point  ...  -73.5365    34496   \n",
              "\n",
              "                      job         dob                         trans_num  \\\n",
              "0  Sales professional, IT   1/17/1990  324cc204407e99f51b0d6ca0055005e7   \n",
              "1       Librarian, public  10/21/1970  c81755dbbbea9d5c77f094348a7579be   \n",
              "\n",
              "    unix_time  merch_lat  merch_long debit_credit_indicator  trans_type  \n",
              "0  1371816873  39.450498 -109.960431                  debit    purchase  \n",
              "1  1371816893  40.495810  -74.196111                  debit    purchase  \n",
              "\n",
              "[2 rows x 24 columns]"
            ],
            "text/html": [
              "<div>\n",
              "<style scoped>\n",
              "    .dataframe tbody tr th:only-of-type {\n",
              "        vertical-align: middle;\n",
              "    }\n",
              "\n",
              "    .dataframe tbody tr th {\n",
              "        vertical-align: top;\n",
              "    }\n",
              "\n",
              "    .dataframe thead th {\n",
              "        text-align: right;\n",
              "    }\n",
              "</style>\n",
              "<table border=\"1\" class=\"dataframe\">\n",
              "  <thead>\n",
              "    <tr style=\"text-align: right;\">\n",
              "      <th></th>\n",
              "      <th>trans_id</th>\n",
              "      <th>trans_date_trans_time</th>\n",
              "      <th>card_num</th>\n",
              "      <th>merchant</th>\n",
              "      <th>purchase_category</th>\n",
              "      <th>trans_amt</th>\n",
              "      <th>first</th>\n",
              "      <th>last</th>\n",
              "      <th>gender</th>\n",
              "      <th>street</th>\n",
              "      <th>...</th>\n",
              "      <th>long</th>\n",
              "      <th>city_pop</th>\n",
              "      <th>job</th>\n",
              "      <th>dob</th>\n",
              "      <th>trans_num</th>\n",
              "      <th>unix_time</th>\n",
              "      <th>merch_lat</th>\n",
              "      <th>merch_long</th>\n",
              "      <th>debit_credit_indicator</th>\n",
              "      <th>trans_type</th>\n",
              "    </tr>\n",
              "  </thead>\n",
              "  <tbody>\n",
              "    <tr>\n",
              "      <th>0</th>\n",
              "      <td>1</td>\n",
              "      <td>6/21/2020 12:14</td>\n",
              "      <td>3573030041201290</td>\n",
              "      <td>Sporer-Keebler</td>\n",
              "      <td>personal_care</td>\n",
              "      <td>29.84</td>\n",
              "      <td>Joanne</td>\n",
              "      <td>Williams</td>\n",
              "      <td>F</td>\n",
              "      <td>3638 Marsh Union</td>\n",
              "      <td>...</td>\n",
              "      <td>-110.4360</td>\n",
              "      <td>302</td>\n",
              "      <td>Sales professional, IT</td>\n",
              "      <td>1/17/1990</td>\n",
              "      <td>324cc204407e99f51b0d6ca0055005e7</td>\n",
              "      <td>1371816873</td>\n",
              "      <td>39.450498</td>\n",
              "      <td>-109.960431</td>\n",
              "      <td>debit</td>\n",
              "      <td>purchase</td>\n",
              "    </tr>\n",
              "    <tr>\n",
              "      <th>1</th>\n",
              "      <td>2</td>\n",
              "      <td>6/21/2020 12:14</td>\n",
              "      <td>3598215285024750</td>\n",
              "      <td>Swaniawski, Nitzsche and Welch</td>\n",
              "      <td>health</td>\n",
              "      <td>41.28</td>\n",
              "      <td>Ashley</td>\n",
              "      <td>Lopez</td>\n",
              "      <td>F</td>\n",
              "      <td>9333 Valentine Point</td>\n",
              "      <td>...</td>\n",
              "      <td>-73.5365</td>\n",
              "      <td>34496</td>\n",
              "      <td>Librarian, public</td>\n",
              "      <td>10/21/1970</td>\n",
              "      <td>c81755dbbbea9d5c77f094348a7579be</td>\n",
              "      <td>1371816893</td>\n",
              "      <td>40.495810</td>\n",
              "      <td>-74.196111</td>\n",
              "      <td>debit</td>\n",
              "      <td>purchase</td>\n",
              "    </tr>\n",
              "  </tbody>\n",
              "</table>\n",
              "<p>2 rows × 24 columns</p>\n",
              "</div>"
            ]
          },
          "metadata": {
            "tags": []
          },
          "execution_count": 10
        }
      ]
    },
    {
      "cell_type": "code",
      "metadata": {
        "execution": {
          "iopub.status.busy": "2021-06-18T02:46:54.932362Z",
          "iopub.execute_input": "2021-06-18T02:46:54.932769Z",
          "iopub.status.idle": "2021-06-18T02:46:55.017078Z",
          "shell.execute_reply.started": "2021-06-18T02:46:54.932736Z",
          "shell.execute_reply": "2021-06-18T02:46:55.015665Z"
        },
        "trusted": true,
        "id": "-vSkI_2F1uBD"
      },
      "source": [
        "#removing some fields that does not add value to the data set as the first and last name , street,city,zip,state,trans_num,\n",
        "\n",
        "data = data.drop(['first','last','state','city','street','zip'],axis=1)\n"
      ],
      "execution_count": null,
      "outputs": []
    },
    {
      "cell_type": "code",
      "metadata": {
        "execution": {
          "iopub.status.busy": "2021-06-18T02:47:00.512262Z",
          "iopub.execute_input": "2021-06-18T02:47:00.512610Z",
          "iopub.status.idle": "2021-06-18T02:47:00.517705Z",
          "shell.execute_reply.started": "2021-06-18T02:47:00.512581Z",
          "shell.execute_reply": "2021-06-18T02:47:00.516814Z"
        },
        "trusted": true,
        "id": "-6iAnccc1uBQ",
        "outputId": "b3632054-118e-45d8-c43d-57a583e49160"
      },
      "source": [
        "#checking the columns which are present which are present\n",
        "data.columns"
      ],
      "execution_count": null,
      "outputs": [
        {
          "output_type": "execute_result",
          "data": {
            "text/plain": [
              "Index(['trans_id', 'trans_date_trans_time', 'card_num', 'merchant',\n",
              "       'purchase_category', 'trans_amt', 'gender', 'lat', 'long', 'city_pop',\n",
              "       'job', 'dob', 'trans_num', 'unix_time', 'merch_lat', 'merch_long',\n",
              "       'debit_credit_indicator', 'trans_type'],\n",
              "      dtype='object')"
            ]
          },
          "metadata": {
            "tags": []
          },
          "execution_count": 12
        }
      ]
    },
    {
      "cell_type": "code",
      "metadata": {
        "execution": {
          "iopub.status.busy": "2021-06-18T02:47:05.277111Z",
          "iopub.execute_input": "2021-06-18T02:47:05.277461Z",
          "iopub.status.idle": "2021-06-18T02:47:05.599869Z",
          "shell.execute_reply.started": "2021-06-18T02:47:05.277434Z",
          "shell.execute_reply": "2021-06-18T02:47:05.598490Z"
        },
        "trusted": true,
        "id": "T910ReSR1uBS",
        "outputId": "6cb73ed7-86ec-4df4-baec-3cf9f4f61cab"
      },
      "source": [
        "#Hot endcoding the gender field to 0 and 1for ease of use\n",
        "data = pd.get_dummies(data=data,columns=['gender'],drop_first=True)\n",
        "data.head(2) #checking wheather it has been dropped successfully dropped or not"
      ],
      "execution_count": null,
      "outputs": [
        {
          "output_type": "execute_result",
          "data": {
            "text/plain": [
              "   trans_id trans_date_trans_time          card_num  \\\n",
              "0         1       6/21/2020 12:14  3573030041201290   \n",
              "1         2       6/21/2020 12:14  3598215285024750   \n",
              "\n",
              "                         merchant purchase_category  trans_amt      lat  \\\n",
              "0                  Sporer-Keebler     personal_care      29.84  40.3207   \n",
              "1  Swaniawski, Nitzsche and Welch            health      41.28  40.6729   \n",
              "\n",
              "       long  city_pop                     job         dob  \\\n",
              "0 -110.4360       302  Sales professional, IT   1/17/1990   \n",
              "1  -73.5365     34496       Librarian, public  10/21/1970   \n",
              "\n",
              "                          trans_num   unix_time  merch_lat  merch_long  \\\n",
              "0  324cc204407e99f51b0d6ca0055005e7  1371816873  39.450498 -109.960431   \n",
              "1  c81755dbbbea9d5c77f094348a7579be  1371816893  40.495810  -74.196111   \n",
              "\n",
              "  debit_credit_indicator trans_type  gender_M  \n",
              "0                  debit   purchase         0  \n",
              "1                  debit   purchase         0  "
            ],
            "text/html": [
              "<div>\n",
              "<style scoped>\n",
              "    .dataframe tbody tr th:only-of-type {\n",
              "        vertical-align: middle;\n",
              "    }\n",
              "\n",
              "    .dataframe tbody tr th {\n",
              "        vertical-align: top;\n",
              "    }\n",
              "\n",
              "    .dataframe thead th {\n",
              "        text-align: right;\n",
              "    }\n",
              "</style>\n",
              "<table border=\"1\" class=\"dataframe\">\n",
              "  <thead>\n",
              "    <tr style=\"text-align: right;\">\n",
              "      <th></th>\n",
              "      <th>trans_id</th>\n",
              "      <th>trans_date_trans_time</th>\n",
              "      <th>card_num</th>\n",
              "      <th>merchant</th>\n",
              "      <th>purchase_category</th>\n",
              "      <th>trans_amt</th>\n",
              "      <th>lat</th>\n",
              "      <th>long</th>\n",
              "      <th>city_pop</th>\n",
              "      <th>job</th>\n",
              "      <th>dob</th>\n",
              "      <th>trans_num</th>\n",
              "      <th>unix_time</th>\n",
              "      <th>merch_lat</th>\n",
              "      <th>merch_long</th>\n",
              "      <th>debit_credit_indicator</th>\n",
              "      <th>trans_type</th>\n",
              "      <th>gender_M</th>\n",
              "    </tr>\n",
              "  </thead>\n",
              "  <tbody>\n",
              "    <tr>\n",
              "      <th>0</th>\n",
              "      <td>1</td>\n",
              "      <td>6/21/2020 12:14</td>\n",
              "      <td>3573030041201290</td>\n",
              "      <td>Sporer-Keebler</td>\n",
              "      <td>personal_care</td>\n",
              "      <td>29.84</td>\n",
              "      <td>40.3207</td>\n",
              "      <td>-110.4360</td>\n",
              "      <td>302</td>\n",
              "      <td>Sales professional, IT</td>\n",
              "      <td>1/17/1990</td>\n",
              "      <td>324cc204407e99f51b0d6ca0055005e7</td>\n",
              "      <td>1371816873</td>\n",
              "      <td>39.450498</td>\n",
              "      <td>-109.960431</td>\n",
              "      <td>debit</td>\n",
              "      <td>purchase</td>\n",
              "      <td>0</td>\n",
              "    </tr>\n",
              "    <tr>\n",
              "      <th>1</th>\n",
              "      <td>2</td>\n",
              "      <td>6/21/2020 12:14</td>\n",
              "      <td>3598215285024750</td>\n",
              "      <td>Swaniawski, Nitzsche and Welch</td>\n",
              "      <td>health</td>\n",
              "      <td>41.28</td>\n",
              "      <td>40.6729</td>\n",
              "      <td>-73.5365</td>\n",
              "      <td>34496</td>\n",
              "      <td>Librarian, public</td>\n",
              "      <td>10/21/1970</td>\n",
              "      <td>c81755dbbbea9d5c77f094348a7579be</td>\n",
              "      <td>1371816893</td>\n",
              "      <td>40.495810</td>\n",
              "      <td>-74.196111</td>\n",
              "      <td>debit</td>\n",
              "      <td>purchase</td>\n",
              "      <td>0</td>\n",
              "    </tr>\n",
              "  </tbody>\n",
              "</table>\n",
              "</div>"
            ]
          },
          "metadata": {
            "tags": []
          },
          "execution_count": 13
        }
      ]
    },
    {
      "cell_type": "markdown",
      "metadata": {
        "id": "fhndVCeN1uBT"
      },
      "source": [
        "# **PCA ANALYSIS OF THE DATASET FOR CHECKING THE CO-REALATION OF THE FIELDS**"
      ]
    },
    {
      "cell_type": "code",
      "metadata": {
        "execution": {
          "iopub.status.busy": "2021-06-18T02:47:15.332298Z",
          "iopub.execute_input": "2021-06-18T02:47:15.332702Z",
          "iopub.status.idle": "2021-06-18T02:47:15.815185Z",
          "shell.execute_reply.started": "2021-06-18T02:47:15.332670Z",
          "shell.execute_reply": "2021-06-18T02:47:15.813930Z"
        },
        "trusted": true,
        "id": "gXM5YzJa1uBU",
        "outputId": "ae6fa86b-8c64-45cc-dffd-ed9025fdd298"
      },
      "source": [
        "#describing  different types of fields in the dataset\n",
        "data.info()"
      ],
      "execution_count": null,
      "outputs": [
        {
          "output_type": "stream",
          "text": [
            "<class 'pandas.core.frame.DataFrame'>\n",
            "RangeIndex: 555718 entries, 0 to 555717\n",
            "Data columns (total 18 columns):\n",
            " #   Column                  Non-Null Count   Dtype  \n",
            "---  ------                  --------------   -----  \n",
            " 0   trans_id                555718 non-null  int64  \n",
            " 1   trans_date_trans_time   555718 non-null  object \n",
            " 2   card_num                555718 non-null  int64  \n",
            " 3   merchant                555718 non-null  object \n",
            " 4   purchase_category       555718 non-null  object \n",
            " 5   trans_amt               555718 non-null  float64\n",
            " 6   lat                     555718 non-null  float64\n",
            " 7   long                    555718 non-null  float64\n",
            " 8   city_pop                555718 non-null  int64  \n",
            " 9   job                     555718 non-null  object \n",
            " 10  dob                     555718 non-null  object \n",
            " 11  trans_num               555718 non-null  object \n",
            " 12  unix_time               555718 non-null  int64  \n",
            " 13  merch_lat               555718 non-null  float64\n",
            " 14  merch_long              555718 non-null  float64\n",
            " 15  debit_credit_indicator  555718 non-null  object \n",
            " 16  trans_type              555718 non-null  object \n",
            " 17  gender_M                555718 non-null  uint8  \n",
            "dtypes: float64(5), int64(4), object(8), uint8(1)\n",
            "memory usage: 72.6+ MB\n"
          ],
          "name": "stdout"
        }
      ]
    },
    {
      "cell_type": "code",
      "metadata": {
        "execution": {
          "iopub.status.busy": "2021-06-18T02:47:21.713142Z",
          "iopub.execute_input": "2021-06-18T02:47:21.713658Z",
          "iopub.status.idle": "2021-06-18T02:47:21.925828Z",
          "shell.execute_reply.started": "2021-06-18T02:47:21.713593Z",
          "shell.execute_reply": "2021-06-18T02:47:21.924758Z"
        },
        "trusted": true,
        "id": "Lfwm2qSS1uBV"
      },
      "source": [
        "#selecting few specific columns for analysis\n",
        "pca_data = data.drop(['trans_id','trans_date_trans_time','merchant','purchase_category','job','dob','trans_num','trans_type','debit_credit_indicator'],axis=1)"
      ],
      "execution_count": null,
      "outputs": []
    },
    {
      "cell_type": "code",
      "metadata": {
        "execution": {
          "iopub.status.busy": "2021-06-18T02:47:26.472464Z",
          "iopub.execute_input": "2021-06-18T02:47:26.472850Z",
          "iopub.status.idle": "2021-06-18T02:47:26.498805Z",
          "shell.execute_reply.started": "2021-06-18T02:47:26.472820Z",
          "shell.execute_reply": "2021-06-18T02:47:26.498074Z"
        },
        "trusted": true,
        "id": "PU0o1Qkt1uBW",
        "outputId": "f5eb39dd-fe63-497a-9304-03310157e902"
      },
      "source": [
        "#checking wheather all the fields are dropped or not\n",
        "pca_data.info() "
      ],
      "execution_count": null,
      "outputs": [
        {
          "output_type": "stream",
          "text": [
            "<class 'pandas.core.frame.DataFrame'>\n",
            "RangeIndex: 555718 entries, 0 to 555717\n",
            "Data columns (total 9 columns):\n",
            " #   Column      Non-Null Count   Dtype  \n",
            "---  ------      --------------   -----  \n",
            " 0   card_num    555718 non-null  int64  \n",
            " 1   trans_amt   555718 non-null  float64\n",
            " 2   lat         555718 non-null  float64\n",
            " 3   long        555718 non-null  float64\n",
            " 4   city_pop    555718 non-null  int64  \n",
            " 5   unix_time   555718 non-null  int64  \n",
            " 6   merch_lat   555718 non-null  float64\n",
            " 7   merch_long  555718 non-null  float64\n",
            " 8   gender_M    555718 non-null  uint8  \n",
            "dtypes: float64(5), int64(3), uint8(1)\n",
            "memory usage: 34.4 MB\n"
          ],
          "name": "stdout"
        }
      ]
    },
    {
      "cell_type": "code",
      "metadata": {
        "execution": {
          "iopub.status.busy": "2021-06-18T02:47:30.982383Z",
          "iopub.execute_input": "2021-06-18T02:47:30.983001Z",
          "iopub.status.idle": "2021-06-18T02:47:31.152290Z",
          "shell.execute_reply.started": "2021-06-18T02:47:30.982967Z",
          "shell.execute_reply": "2021-06-18T02:47:31.151079Z"
        },
        "trusted": true,
        "id": "_7lw3kxa1uBX"
      },
      "source": [
        "#importing standardScaler form sklearn to scale the data set\n",
        "from sklearn.preprocessing import StandardScaler"
      ],
      "execution_count": null,
      "outputs": []
    },
    {
      "cell_type": "code",
      "metadata": {
        "execution": {
          "iopub.status.busy": "2021-06-18T02:47:38.102884Z",
          "iopub.execute_input": "2021-06-18T02:47:38.103231Z",
          "iopub.status.idle": "2021-06-18T02:47:38.246520Z",
          "shell.execute_reply.started": "2021-06-18T02:47:38.103203Z",
          "shell.execute_reply": "2021-06-18T02:47:38.245436Z"
        },
        "trusted": true,
        "id": "mEscSSa-1uBY"
      },
      "source": [
        "#scaling the range of each data\n",
        "scaler = StandardScaler() #initializing the StandardScaler\n",
        "scaler.fit(pca_data) #fitting the data into the scaler\n",
        "scaled_data =scaler.transform(pca_data) # transforming the data is the scaled version"
      ],
      "execution_count": null,
      "outputs": []
    },
    {
      "cell_type": "code",
      "metadata": {
        "execution": {
          "iopub.status.busy": "2021-06-18T02:47:42.393785Z",
          "iopub.execute_input": "2021-06-18T02:47:42.394403Z",
          "iopub.status.idle": "2021-06-18T02:47:42.402754Z",
          "shell.execute_reply.started": "2021-06-18T02:47:42.394336Z",
          "shell.execute_reply": "2021-06-18T02:47:42.401629Z"
        },
        "trusted": true,
        "id": "GuBTrbFU1uBY",
        "outputId": "27f503eb-eb33-442c-fe2b-9341a04486b2"
      },
      "source": [
        "#printint the scaled data\n",
        "display(scaled_data)"
      ],
      "execution_count": null,
      "outputs": [
        {
          "output_type": "display_data",
          "data": {
            "text/plain": [
              "array([[-0.31626993, -0.25233787,  0.35118004, ...,  0.17812462,\n",
              "        -1.43660819, -0.90703225],\n",
              "       [-0.3162507 , -0.17935351,  0.42076646, ...,  0.38325566,\n",
              "         1.16764067, -0.90703225],\n",
              "       [-0.31625551, -0.05960557, -1.97054058, ..., -1.90948607,\n",
              "         0.68071734,  1.10249663],\n",
              "       ...,\n",
              "       [-0.31440808,  0.11156316,  1.51211938, ...,  1.59258473,\n",
              "        -2.14691013, -0.90703225],\n",
              "       [-0.31899468, -0.39173544,  1.20170705, ...,  1.16324998,\n",
              "        -1.95509819,  1.10249663],\n",
              "       [-0.31581364, -0.19944973, -0.56838018, ..., -0.45776861,\n",
              "        -0.49551757,  1.10249663]])"
            ]
          },
          "metadata": {
            "tags": []
          }
        }
      ]
    },
    {
      "cell_type": "code",
      "metadata": {
        "execution": {
          "iopub.status.busy": "2021-06-18T02:47:47.983657Z",
          "iopub.execute_input": "2021-06-18T02:47:47.984263Z",
          "iopub.status.idle": "2021-06-18T02:47:48.197691Z",
          "shell.execute_reply.started": "2021-06-18T02:47:47.984212Z",
          "shell.execute_reply": "2021-06-18T02:47:48.196641Z"
        },
        "trusted": true,
        "id": "ZL1vk3A11uBZ"
      },
      "source": [
        "#importing the PCA  from sklearn module\n",
        "from sklearn.decomposition import PCA"
      ],
      "execution_count": null,
      "outputs": []
    },
    {
      "cell_type": "code",
      "metadata": {
        "execution": {
          "iopub.status.busy": "2021-06-18T02:48:10.922721Z",
          "iopub.execute_input": "2021-06-18T02:48:10.923233Z",
          "iopub.status.idle": "2021-06-18T02:48:12.618994Z",
          "shell.execute_reply.started": "2021-06-18T02:48:10.923187Z",
          "shell.execute_reply": "2021-06-18T02:48:12.617613Z"
        },
        "trusted": true,
        "id": "mSq5yecG1uBZ"
      },
      "source": [
        "pca = PCA(n_components=2) #dividing the data into two principle components\n",
        "pca.fit(pca_data) #fit data to pca model\n",
        "data_pca = pca.transform(pca_data) #transform into two components\n",
        "\n"
      ],
      "execution_count": null,
      "outputs": []
    },
    {
      "cell_type": "code",
      "metadata": {
        "execution": {
          "iopub.status.busy": "2021-06-18T02:48:18.527969Z",
          "iopub.execute_input": "2021-06-18T02:48:18.528377Z",
          "iopub.status.idle": "2021-06-18T02:48:19.717354Z",
          "shell.execute_reply.started": "2021-06-18T02:48:18.528340Z",
          "shell.execute_reply": "2021-06-18T02:48:19.716280Z"
        },
        "trusted": true,
        "id": "lwMmJ0FT1uBZ",
        "outputId": "070eccd0-3d08-442e-d704-b37aae8fa5c5"
      },
      "source": [
        "#plotting the two principle components \n",
        "sns.scatterplot(data_pca[:,0],data_pca[:,1])"
      ],
      "execution_count": null,
      "outputs": [
        {
          "output_type": "stream",
          "text": [
            "/opt/conda/lib/python3.7/site-packages/seaborn/_decorators.py:43: FutureWarning: Pass the following variables as keyword args: x, y. From version 0.12, the only valid positional argument will be `data`, and passing other arguments without an explicit keyword will result in an error or misinterpretation.\n",
            "  FutureWarning\n"
          ],
          "name": "stderr"
        },
        {
          "output_type": "execute_result",
          "data": {
            "text/plain": [
              "<AxesSubplot:>"
            ]
          },
          "metadata": {
            "tags": []
          },
          "execution_count": 22
        },
        {
          "output_type": "display_data",
          "data": {
            "text/plain": [
              "<Figure size 432x288 with 1 Axes>"
            ],
            "image/png": "[encoded data removed]"
          },
          "metadata": {
            "tags": [],
            "needs_background": "light"
          }
        }
      ]
    },
    {
      "cell_type": "code",
      "metadata": {
        "execution": {
          "iopub.status.busy": "2021-06-18T02:48:23.812465Z",
          "iopub.execute_input": "2021-06-18T02:48:23.813059Z",
          "iopub.status.idle": "2021-06-18T02:48:23.820756Z",
          "shell.execute_reply.started": "2021-06-18T02:48:23.813008Z",
          "shell.execute_reply": "2021-06-18T02:48:23.819347Z"
        },
        "trusted": true,
        "id": "SlYwj2Ql1uBe",
        "outputId": "3eda0b91-7265-4ce3-ca1f-396bed2d04d1"
      },
      "source": [
        "print(pca.components_) #print two component of the pca"
      ],
      "execution_count": null,
      "outputs": [
        {
          "output_type": "stream",
          "text": [
            "[[ 1.00000000e+00  0.00000000e+00 -0.00000000e+00 -0.00000000e+00\n",
            "  -0.00000000e+00 -0.00000000e+00 -0.00000000e+00 -0.00000000e+00\n",
            "  -0.00000000e+00]\n",
            " [-0.00000000e+00  2.93491106e-08 -2.45907700e-10  3.95025543e-09\n",
            "   4.31499648e-05 -9.99999999e-01 -3.10685531e-10  4.01963693e-09\n",
            "   5.49824889e-11]]\n"
          ],
          "name": "stdout"
        }
      ]
    },
    {
      "cell_type": "code",
      "metadata": {
        "execution": {
          "iopub.status.busy": "2021-06-18T02:48:30.183203Z",
          "iopub.execute_input": "2021-06-18T02:48:30.183630Z",
          "iopub.status.idle": "2021-06-18T02:48:30.604132Z",
          "shell.execute_reply.started": "2021-06-18T02:48:30.183593Z",
          "shell.execute_reply": "2021-06-18T02:48:30.602746Z"
        },
        "trusted": true,
        "id": "eaTk_KMk1uBf",
        "outputId": "343dfc80-bc0e-45cc-d395-c5aa20798ff2"
      },
      "source": [
        "#Describing the co-relation of features in the heatmap where the same color index meaning they are increasing or decreasing propotionally\n",
        "\n",
        "plt.figure(figsize=(10,3))\n",
        "sns.heatmap(pca.components_,cmap='viridis',yticklabels=['FirstFeature','SecondFeature'],xticklabels=pca_data.columns)"
      ],
      "execution_count": null,
      "outputs": [
        {
          "output_type": "execute_result",
          "data": {
            "text/plain": [
              "<AxesSubplot:>"
            ]
          },
          "metadata": {
            "tags": []
          },
          "execution_count": 24
        },
        {
          "output_type": "display_data",
          "data": {
            "text/plain": [
              "<Figure size 720x216 with 2 Axes>"
            ],
            "image/png": "[encoded data removed]"
          },
          "metadata": {
            "tags": [],
            "needs_background": "light"
          }
        }
      ]
    },
    {
      "cell_type": "markdown",
      "metadata": {
        "id": "QQbieigM1uBg"
      },
      "source": [
        "using t-SNE for feature extraction"
      ]
    },
    {
      "cell_type": "code",
      "metadata": {
        "execution": {
          "iopub.status.busy": "2021-06-17T08:42:49.81389Z",
          "iopub.execute_input": "2021-06-17T08:42:49.814207Z",
          "iopub.status.idle": "2021-06-17T08:42:49.921003Z",
          "shell.execute_reply.started": "2021-06-17T08:42:49.814176Z",
          "shell.execute_reply": "2021-06-17T08:42:49.91985Z"
        },
        "trusted": true,
        "id": "n0GDPxAI1uBh"
      },
      "source": [
        "#import TSNE from sklearn\n",
        "\n",
        "from sklearn.manifold import TSNE\n"
      ],
      "execution_count": null,
      "outputs": []
    },
    {
      "cell_type": "code",
      "metadata": {
        "execution": {
          "iopub.status.busy": "2021-06-17T08:42:49.922773Z",
          "iopub.execute_input": "2021-06-17T08:42:49.923187Z",
          "iopub.status.idle": "2021-06-17T08:50:00.391337Z",
          "shell.execute_reply.started": "2021-06-17T08:42:49.923153Z",
          "shell.execute_reply": "2021-06-17T08:50:00.389942Z"
        },
        "trusted": true,
        "id": "LkyPZ4CG1uBh"
      },
      "source": [
        "#error taking a long time\n",
        "\n",
        "tsne = TSNE(n_components=2,random_state=0) #initializing the TSNE \n",
        "data_tsne = tsne.fit_transform(pca_data) #fitting the data frame and transforming it"
      ],
      "execution_count": null,
      "outputs": []
    },
    {
      "cell_type": "markdown",
      "metadata": {
        "id": "Ak0jmQuw1uBh"
      },
      "source": [
        "# **Extracting rule based on the time vs distance from the last transaction**"
      ]
    },
    {
      "cell_type": "code",
      "metadata": {
        "execution": {
          "iopub.status.busy": "2021-06-18T02:48:45.382356Z",
          "iopub.execute_input": "2021-06-18T02:48:45.382769Z",
          "iopub.status.idle": "2021-06-18T02:48:45.397320Z",
          "shell.execute_reply.started": "2021-06-18T02:48:45.382737Z",
          "shell.execute_reply": "2021-06-18T02:48:45.396056Z"
        },
        "trusted": true,
        "colab": {
          "base_uri": "https://localhost:8080/"
        },
        "id": "dYzRY31g1uBi",
        "outputId": "0fdd4a4d-9954-48db-b390-606ec200d200"
      },
      "source": [
        "#count of the unique credit cards \n",
        "len(data['card_num'].unique())"
      ],
      "execution_count": null,
      "outputs": [
        {
          "output_type": "execute_result",
          "data": {
            "text/plain": [
              "925"
            ]
          },
          "metadata": {
            "tags": []
          },
          "execution_count": 5
        }
      ]
    },
    {
      "cell_type": "code",
      "metadata": {
        "execution": {
          "iopub.status.busy": "2021-06-18T02:48:50.372270Z",
          "iopub.execute_input": "2021-06-18T02:48:50.372642Z",
          "iopub.status.idle": "2021-06-18T02:48:50.388460Z",
          "shell.execute_reply.started": "2021-06-18T02:48:50.372613Z",
          "shell.execute_reply": "2021-06-18T02:48:50.386822Z"
        },
        "trusted": true,
        "id": "zJZqeTOe1uBi"
      },
      "source": [
        "#grouping by creditcard numbers\n",
        "unique_cards=data.groupby([\"card_num\"]).size().to_frame(\"no of time\").reset_index()"
      ],
      "execution_count": null,
      "outputs": []
    },
    {
      "cell_type": "code",
      "metadata": {
        "execution": {
          "iopub.status.busy": "2021-06-18T02:48:59.152064Z",
          "iopub.execute_input": "2021-06-18T02:48:59.152603Z",
          "iopub.status.idle": "2021-06-18T02:48:59.163112Z",
          "shell.execute_reply.started": "2021-06-18T02:48:59.152552Z",
          "shell.execute_reply": "2021-06-18T02:48:59.161830Z"
        },
        "trusted": true,
        "id": "9ujed2BT1uBj"
      },
      "source": [
        "#function to calculate speed from the lat and long of two place\n",
        "def getDistance(lat1,lat2,lon1,lon2,time):\n",
        "  rad = 6371 #radious of the earth is 6371\n",
        "\n",
        "  #converting to radians for different \n",
        "  lat1=np.radians(lat1)  \n",
        "  lat2=np.radians(lat2)\n",
        "  lon1=np.radians(lon1)\n",
        "  lon2=np.radians(lon2)\n",
        "\n",
        "  #difference between two places latitude and longitude\n",
        "  dlat = lat2-lat1\n",
        "  dlon = lon2-lon1\n",
        "\n",
        "  #formula to claculate the distance between two place\n",
        "  a = np.sin(dlat/2)**2+np.cos(lat1)*np.cos(lat2)*np.sin(dlon/2)**2\n",
        "\n",
        "  c = np.sqrt(a)\n",
        "  #distance / time = speed , returning the speed for the   \n",
        "  return c*rad/time"
      ],
      "execution_count": null,
      "outputs": []
    },
    {
      "cell_type": "code",
      "metadata": {
        "execution": {
          "iopub.status.busy": "2021-06-18T02:49:03.692528Z",
          "iopub.execute_input": "2021-06-18T02:49:03.693036Z",
          "iopub.status.idle": "2021-06-18T02:49:03.699405Z",
          "shell.execute_reply.started": "2021-06-18T02:49:03.692999Z",
          "shell.execute_reply": "2021-06-18T02:49:03.698427Z"
        },
        "trusted": true,
        "id": "3tkxjWHd1uBj"
      },
      "source": [
        "data['speed']=0.0 #creating a new column with speed field "
      ],
      "execution_count": null,
      "outputs": []
    },
    {
      "cell_type": "code",
      "metadata": {
        "execution": {
          "iopub.status.busy": "2021-06-18T02:49:05.692247Z",
          "iopub.execute_input": "2021-06-18T02:49:05.692690Z",
          "iopub.status.idle": "2021-06-18T02:49:06.167948Z",
          "shell.execute_reply.started": "2021-06-18T02:49:05.692655Z",
          "shell.execute_reply": "2021-06-18T02:49:06.167147Z"
        },
        "trusted": true,
        "colab": {
          "base_uri": "https://localhost:8080/"
        },
        "id": "j2_fQpVf1uBj",
        "outputId": "742691f8-2f9b-4c0f-b441-8a18190c4c63"
      },
      "source": [
        "data.info() #checking the types of data in all fields"
      ],
      "execution_count": null,
      "outputs": [
        {
          "output_type": "stream",
          "text": [
            "<class 'pandas.core.frame.DataFrame'>\n",
            "RangeIndex: 555718 entries, 0 to 555717\n",
            "Data columns (total 26 columns):\n",
            " #   Column                  Non-Null Count   Dtype  \n",
            "---  ------                  --------------   -----  \n",
            " 0   trans_id                555718 non-null  int64  \n",
            " 1   trans_date_trans_time   555718 non-null  object \n",
            " 2   card_num                555718 non-null  int64  \n",
            " 3   merchant                555718 non-null  object \n",
            " 4   purchase_category       555718 non-null  object \n",
            " 5   trans_amt               555718 non-null  float64\n",
            " 6   first                   555718 non-null  object \n",
            " 7   last                    555718 non-null  object \n",
            " 8   gender                  555718 non-null  object \n",
            " 9   street                  555718 non-null  object \n",
            " 10  city                    555718 non-null  object \n",
            " 11  state                   555718 non-null  object \n",
            " 12  zip                     555718 non-null  int64  \n",
            " 13  lat                     555718 non-null  float64\n",
            " 14  long                    555718 non-null  float64\n",
            " 15  city_pop                555718 non-null  int64  \n",
            " 16  job                     555718 non-null  object \n",
            " 17  dob                     555718 non-null  object \n",
            " 18  trans_num               555718 non-null  object \n",
            " 19  unix_time               555718 non-null  int64  \n",
            " 20  merch_lat               555718 non-null  float64\n",
            " 21  merch_long              555718 non-null  float64\n",
            " 22  debit_credit_indicator  555718 non-null  object \n",
            " 23  trans_type              555718 non-null  object \n",
            " 24  card_type               0 non-null       float64\n",
            " 25  speed                   555718 non-null  float64\n",
            "dtypes: float64(7), int64(5), object(14)\n",
            "memory usage: 110.2+ MB\n"
          ],
          "name": "stdout"
        }
      ]
    },
    {
      "cell_type": "code",
      "metadata": {
        "execution": {
          "iopub.status.busy": "2021-06-18T02:49:22.413024Z",
          "iopub.execute_input": "2021-06-18T02:49:22.413589Z",
          "iopub.status.idle": "2021-06-18T02:49:29.050788Z",
          "shell.execute_reply.started": "2021-06-18T02:49:22.413553Z",
          "shell.execute_reply": "2021-06-18T02:49:29.049935Z"
        },
        "trusted": true,
        "id": "g37i8_jf1uBk"
      },
      "source": [
        "speed={}  #creating a empty dictionary\n",
        "\n",
        "#checking each card number and making a directory with key as card number and value as a list of speed which is calculated as \n",
        "#distance between the last two transaction / the time difference between last two transaction\n",
        "for num in unique_cards.card_num:  \n",
        "\n",
        "  each_card = data[data.card_num ==num]\n",
        "  i =0 \n",
        "  time_diff=(each_card.unix_time-each_card.unix_time.shift(1))/3600\n",
        "\n",
        "  speed_approx = getDistance(each_card.merch_lat.shift(1),each_card.merch_lat,each_card.merch_long.shift(1),each_card.merch_long,time_diff).tolist()\n",
        "  speed[num]=speed_approx\n"
      ],
      "execution_count": null,
      "outputs": []
    },
    {
      "cell_type": "code",
      "metadata": {
        "execution": {
          "iopub.status.busy": "2021-06-18T02:49:37.423114Z",
          "iopub.execute_input": "2021-06-18T02:49:37.424759Z",
          "iopub.status.idle": "2021-06-18T02:56:14.893208Z",
          "shell.execute_reply.started": "2021-06-18T02:49:37.424700Z",
          "shell.execute_reply": "2021-06-18T02:56:14.891783Z"
        },
        "trusted": true,
        "id": "4IDQuicr1uBm"
      },
      "source": [
        "#adding the speed to each customer row \n",
        "\n",
        "#creating an empty dataframe with same column as the main dataframe\n",
        "df_cols = data.columns\n",
        "df = pd.DataFrame(columns=df_cols)\n",
        "\n",
        "#retrive all the transactions card numberwise and retrive the speed from the speed dictionary and append those values in the speed fields\n",
        "for card in unique_cards.card_num:\n",
        "    dataSet =data[data.card_num == card]\n",
        "    speedlist = speed[card]\n",
        "    i=0\n",
        "    for index in dataSet.trans_id:\n",
        "      dataSet.at[index-1,'speed']=speedlist[i]\n",
        "      i+=1\n",
        "    #print(len(speedlist),len(dataSet))\n",
        "    #display(dataSet.head())\n",
        "    df=df.append(dataSet)\n"
      ],
      "execution_count": null,
      "outputs": []
    },
    {
      "cell_type": "code",
      "metadata": {
        "execution": {
          "iopub.status.busy": "2021-06-18T03:00:29.478015Z",
          "iopub.execute_input": "2021-06-18T03:00:29.478379Z",
          "iopub.status.idle": "2021-06-18T03:00:29.487733Z",
          "shell.execute_reply.started": "2021-06-18T03:00:29.478350Z",
          "shell.execute_reply": "2021-06-18T03:00:29.486610Z"
        },
        "trusted": true,
        "id": "libYNhTg1uBo"
      },
      "source": [
        "df['speed']=df['speed'].fillna(0) #filling the NaN values with 0"
      ],
      "execution_count": null,
      "outputs": []
    },
    {
      "cell_type": "code",
      "metadata": {
        "execution": {
          "iopub.status.busy": "2021-06-18T03:00:36.802664Z",
          "iopub.execute_input": "2021-06-18T03:00:36.803013Z",
          "iopub.status.idle": "2021-06-18T03:00:36.832838Z",
          "shell.execute_reply.started": "2021-06-18T03:00:36.802983Z",
          "shell.execute_reply": "2021-06-18T03:00:36.831427Z"
        },
        "trusted": true,
        "colab": {
          "base_uri": "https://localhost:8080/",
          "height": 394
        },
        "id": "34dcaDQE1uBp",
        "outputId": "69c3af86-8d90-4913-ec48-a9e9370f9cbd"
      },
      "source": [
        "df.head() #showing the df head "
      ],
      "execution_count": null,
      "outputs": [
        {
          "output_type": "execute_result",
          "data": {
            "text/html": [
              "<div>\n",
              "<style scoped>\n",
              "    .dataframe tbody tr th:only-of-type {\n",
              "        vertical-align: middle;\n",
              "    }\n",
              "\n",
              "    .dataframe tbody tr th {\n",
              "        vertical-align: top;\n",
              "    }\n",
              "\n",
              "    .dataframe thead th {\n",
              "        text-align: right;\n",
              "    }\n",
              "</style>\n",
              "<table border=\"1\" class=\"dataframe\">\n",
              "  <thead>\n",
              "    <tr style=\"text-align: right;\">\n",
              "      <th></th>\n",
              "      <th>trans_id</th>\n",
              "      <th>trans_date_trans_time</th>\n",
              "      <th>card_num</th>\n",
              "      <th>merchant</th>\n",
              "      <th>purchase_category</th>\n",
              "      <th>trans_amt</th>\n",
              "      <th>first</th>\n",
              "      <th>last</th>\n",
              "      <th>gender</th>\n",
              "      <th>street</th>\n",
              "      <th>city</th>\n",
              "      <th>state</th>\n",
              "      <th>zip</th>\n",
              "      <th>lat</th>\n",
              "      <th>long</th>\n",
              "      <th>city_pop</th>\n",
              "      <th>job</th>\n",
              "      <th>dob</th>\n",
              "      <th>trans_num</th>\n",
              "      <th>unix_time</th>\n",
              "      <th>merch_lat</th>\n",
              "      <th>merch_long</th>\n",
              "      <th>debit_credit_indicator</th>\n",
              "      <th>trans_type</th>\n",
              "      <th>card_type</th>\n",
              "      <th>speed</th>\n",
              "    </tr>\n",
              "  </thead>\n",
              "  <tbody>\n",
              "    <tr>\n",
              "      <th>156</th>\n",
              "      <td>157</td>\n",
              "      <td>6/21/2020 13:05</td>\n",
              "      <td>60416207185</td>\n",
              "      <td>Kutch-Ferry</td>\n",
              "      <td>home</td>\n",
              "      <td>124.66</td>\n",
              "      <td>Mary</td>\n",
              "      <td>Diaz</td>\n",
              "      <td>F</td>\n",
              "      <td>9886 Anita Drive</td>\n",
              "      <td>Fort Washakie</td>\n",
              "      <td>WY</td>\n",
              "      <td>82514</td>\n",
              "      <td>43.0048</td>\n",
              "      <td>-108.8964</td>\n",
              "      <td>1645</td>\n",
              "      <td>Information systems manager</td>\n",
              "      <td>2/17/1986</td>\n",
              "      <td>f21e1a09f59c50a66735409308285b1d</td>\n",
              "      <td>1371819942</td>\n",
              "      <td>42.945526</td>\n",
              "      <td>-108.530901</td>\n",
              "      <td>debit</td>\n",
              "      <td>purchase</td>\n",
              "      <td>NaN</td>\n",
              "      <td>0.000000</td>\n",
              "    </tr>\n",
              "    <tr>\n",
              "      <th>740</th>\n",
              "      <td>741</td>\n",
              "      <td>6/21/2020 16:25</td>\n",
              "      <td>60416207185</td>\n",
              "      <td>Halvorson Group</td>\n",
              "      <td>misc_pos</td>\n",
              "      <td>78.52</td>\n",
              "      <td>Mary</td>\n",
              "      <td>Diaz</td>\n",
              "      <td>F</td>\n",
              "      <td>9886 Anita Drive</td>\n",
              "      <td>Fort Washakie</td>\n",
              "      <td>WY</td>\n",
              "      <td>82514</td>\n",
              "      <td>43.0048</td>\n",
              "      <td>-108.8964</td>\n",
              "      <td>1645</td>\n",
              "      <td>Information systems manager</td>\n",
              "      <td>2/17/1986</td>\n",
              "      <td>08f67c9765438973006f8250351d8c1f</td>\n",
              "      <td>1371831936</td>\n",
              "      <td>42.193130</td>\n",
              "      <td>-108.682054</td>\n",
              "      <td>debit</td>\n",
              "      <td>purchase</td>\n",
              "      <td>NaN</td>\n",
              "      <td>12.692246</td>\n",
              "    </tr>\n",
              "    <tr>\n",
              "      <th>3046</th>\n",
              "      <td>3047</td>\n",
              "      <td>6/22/2020 7:58</td>\n",
              "      <td>60416207185</td>\n",
              "      <td>Conroy-Cruickshank</td>\n",
              "      <td>gas_transport</td>\n",
              "      <td>65.25</td>\n",
              "      <td>Mary</td>\n",
              "      <td>Diaz</td>\n",
              "      <td>F</td>\n",
              "      <td>9886 Anita Drive</td>\n",
              "      <td>Fort Washakie</td>\n",
              "      <td>WY</td>\n",
              "      <td>82514</td>\n",
              "      <td>43.0048</td>\n",
              "      <td>-108.8964</td>\n",
              "      <td>1645</td>\n",
              "      <td>Information systems manager</td>\n",
              "      <td>2/17/1986</td>\n",
              "      <td>ca1f04d9d549c507356ffa8f9b43d81f</td>\n",
              "      <td>1371887913</td>\n",
              "      <td>43.932724</td>\n",
              "      <td>-109.699794</td>\n",
              "      <td>debit</td>\n",
              "      <td>purchase</td>\n",
              "      <td>NaN</td>\n",
              "      <td>6.764004</td>\n",
              "    </tr>\n",
              "    <tr>\n",
              "      <th>4350</th>\n",
              "      <td>4351</td>\n",
              "      <td>6/22/2020 15:32</td>\n",
              "      <td>60416207185</td>\n",
              "      <td>Larkin Ltd</td>\n",
              "      <td>kids_pets</td>\n",
              "      <td>87.74</td>\n",
              "      <td>Mary</td>\n",
              "      <td>Diaz</td>\n",
              "      <td>F</td>\n",
              "      <td>9886 Anita Drive</td>\n",
              "      <td>Fort Washakie</td>\n",
              "      <td>WY</td>\n",
              "      <td>82514</td>\n",
              "      <td>43.0048</td>\n",
              "      <td>-108.8964</td>\n",
              "      <td>1645</td>\n",
              "      <td>Information systems manager</td>\n",
              "      <td>2/17/1986</td>\n",
              "      <td>d671d98fded8ca75d799959a444577a5</td>\n",
              "      <td>1371915151</td>\n",
              "      <td>43.546064</td>\n",
              "      <td>-109.212939</td>\n",
              "      <td>debit</td>\n",
              "      <td>purchase</td>\n",
              "      <td>NaN</td>\n",
              "      <td>3.841013</td>\n",
              "    </tr>\n",
              "    <tr>\n",
              "      <th>7694</th>\n",
              "      <td>7695</td>\n",
              "      <td>6/23/2020 12:28</td>\n",
              "      <td>60416207185</td>\n",
              "      <td>Leffler-Goldner</td>\n",
              "      <td>personal_care</td>\n",
              "      <td>148.02</td>\n",
              "      <td>Mary</td>\n",
              "      <td>Diaz</td>\n",
              "      <td>F</td>\n",
              "      <td>9886 Anita Drive</td>\n",
              "      <td>Fort Washakie</td>\n",
              "      <td>WY</td>\n",
              "      <td>82514</td>\n",
              "      <td>43.0048</td>\n",
              "      <td>-108.8964</td>\n",
              "      <td>1645</td>\n",
              "      <td>Information systems manager</td>\n",
              "      <td>2/17/1986</td>\n",
              "      <td>86d346444b5b262159976aa4d8b64fbb</td>\n",
              "      <td>1371990534</td>\n",
              "      <td>42.876538</td>\n",
              "      <td>-109.333220</td>\n",
              "      <td>debit</td>\n",
              "      <td>purchase</td>\n",
              "      <td>NaN</td>\n",
              "      <td>1.792834</td>\n",
              "    </tr>\n",
              "  </tbody>\n",
              "</table>\n",
              "</div>"
            ],
            "text/plain": [
              "     trans_id trans_date_trans_time  ... card_type      speed\n",
              "156       157       6/21/2020 13:05  ...       NaN   0.000000\n",
              "740       741       6/21/2020 16:25  ...       NaN  12.692246\n",
              "3046     3047        6/22/2020 7:58  ...       NaN   6.764004\n",
              "4350     4351       6/22/2020 15:32  ...       NaN   3.841013\n",
              "7694     7695       6/23/2020 12:28  ...       NaN   1.792834\n",
              "\n",
              "[5 rows x 26 columns]"
            ]
          },
          "metadata": {
            "tags": []
          },
          "execution_count": 16
        }
      ]
    },
    {
      "cell_type": "code",
      "metadata": {
        "execution": {
          "iopub.status.busy": "2021-06-18T03:15:55.267586Z",
          "iopub.execute_input": "2021-06-18T03:15:55.267983Z",
          "iopub.status.idle": "2021-06-18T03:15:55.365525Z",
          "shell.execute_reply.started": "2021-06-18T03:15:55.267950Z",
          "shell.execute_reply": "2021-06-18T03:15:55.364746Z"
        },
        "trusted": true,
        "id": "rGtgz__-1uBv"
      },
      "source": [
        "#laying off some of the not so important fields\n",
        "cleaned_data=df.drop(['first','last','trans_date_trans_time','city_pop','dob','trans_num','card_type','street','city','state','zip','debit_credit_indicator','trans_type'],axis=1)"
      ],
      "execution_count": null,
      "outputs": []
    },
    {
      "cell_type": "code",
      "metadata": {
        "id": "C_yhcQ9c4Sdx"
      },
      "source": [
        "cleaned_data = pd.get_dummies(cleaned_data,columns=['gender'],drop_first=True)"
      ],
      "execution_count": null,
      "outputs": []
    },
    {
      "cell_type": "code",
      "metadata": {
        "execution": {
          "iopub.status.busy": "2021-06-18T03:15:05.713554Z",
          "iopub.execute_input": "2021-06-18T03:15:05.713930Z",
          "iopub.status.idle": "2021-06-18T03:15:06.213972Z",
          "shell.execute_reply.started": "2021-06-18T03:15:05.713897Z",
          "shell.execute_reply": "2021-06-18T03:15:06.212885Z"
        },
        "trusted": true,
        "id": "DbvSSm9f1uBq"
      },
      "source": [
        "#chenging gender type as object to numeric\n",
        "cleaned_data['gender_M']=cleaned_data['gender_M'].astype('str').astype('int')"
      ],
      "execution_count": null,
      "outputs": []
    },
    {
      "cell_type": "code",
      "metadata": {
        "execution": {
          "iopub.status.busy": "2021-06-18T03:15:25.143581Z",
          "iopub.execute_input": "2021-06-18T03:15:25.144322Z",
          "iopub.status.idle": "2021-06-18T03:15:26.191026Z",
          "shell.execute_reply.started": "2021-06-18T03:15:25.144265Z",
          "shell.execute_reply": "2021-06-18T03:15:26.187827Z"
        },
        "trusted": true,
        "colab": {
          "base_uri": "https://localhost:8080/"
        },
        "id": "yf8chvMZ1uBq",
        "outputId": "8d2c7e1d-c021-4fd0-bfab-cc6cf3ae35d2"
      },
      "source": [
        "#dimensions of the data\n",
        "cleaned_data.info()"
      ],
      "execution_count": null,
      "outputs": [
        {
          "output_type": "stream",
          "text": [
            "<class 'pandas.core.frame.DataFrame'>\n",
            "Int64Index: 555718 entries, 156 to 553882\n",
            "Data columns (total 13 columns):\n",
            " #   Column             Non-Null Count   Dtype  \n",
            "---  ------             --------------   -----  \n",
            " 0   trans_id           555718 non-null  object \n",
            " 1   card_num           555718 non-null  object \n",
            " 2   merchant           555718 non-null  object \n",
            " 3   purchase_category  555718 non-null  object \n",
            " 4   trans_amt          555718 non-null  float64\n",
            " 5   lat                555718 non-null  float64\n",
            " 6   long               555718 non-null  float64\n",
            " 7   job                555718 non-null  object \n",
            " 8   unix_time          555718 non-null  object \n",
            " 9   merch_lat          555718 non-null  float64\n",
            " 10  merch_long         555718 non-null  float64\n",
            " 11  speed              555718 non-null  float64\n",
            " 12  gender_M           555718 non-null  int64  \n",
            "dtypes: float64(6), int64(1), object(6)\n",
            "memory usage: 59.4+ MB\n"
          ],
          "name": "stdout"
        }
      ]
    },
    {
      "cell_type": "code",
      "metadata": {
        "execution": {
          "iopub.status.busy": "2021-06-18T03:16:33.472252Z",
          "iopub.execute_input": "2021-06-18T03:16:33.472757Z",
          "iopub.status.idle": "2021-06-18T03:16:33.493463Z",
          "shell.execute_reply.started": "2021-06-18T03:16:33.472717Z",
          "shell.execute_reply": "2021-06-18T03:16:33.492747Z"
        },
        "trusted": true,
        "colab": {
          "base_uri": "https://localhost:8080/",
          "height": 394
        },
        "id": "X_6dJwq71uBv",
        "outputId": "6602722d-3880-46df-c816-596b95f20fbb"
      },
      "source": [
        "cleaned_data.head()"
      ],
      "execution_count": null,
      "outputs": [
        {
          "output_type": "execute_result",
          "data": {
            "text/html": [
              "<div>\n",
              "<style scoped>\n",
              "    .dataframe tbody tr th:only-of-type {\n",
              "        vertical-align: middle;\n",
              "    }\n",
              "\n",
              "    .dataframe tbody tr th {\n",
              "        vertical-align: top;\n",
              "    }\n",
              "\n",
              "    .dataframe thead th {\n",
              "        text-align: right;\n",
              "    }\n",
              "</style>\n",
              "<table border=\"1\" class=\"dataframe\">\n",
              "  <thead>\n",
              "    <tr style=\"text-align: right;\">\n",
              "      <th></th>\n",
              "      <th>trans_id</th>\n",
              "      <th>card_num</th>\n",
              "      <th>merchant</th>\n",
              "      <th>purchase_category</th>\n",
              "      <th>trans_amt</th>\n",
              "      <th>lat</th>\n",
              "      <th>long</th>\n",
              "      <th>job</th>\n",
              "      <th>unix_time</th>\n",
              "      <th>merch_lat</th>\n",
              "      <th>merch_long</th>\n",
              "      <th>speed</th>\n",
              "      <th>gender_M</th>\n",
              "    </tr>\n",
              "  </thead>\n",
              "  <tbody>\n",
              "    <tr>\n",
              "      <th>156</th>\n",
              "      <td>157</td>\n",
              "      <td>60416207185</td>\n",
              "      <td>Kutch-Ferry</td>\n",
              "      <td>home</td>\n",
              "      <td>124.66</td>\n",
              "      <td>43.0048</td>\n",
              "      <td>-108.8964</td>\n",
              "      <td>Information systems manager</td>\n",
              "      <td>1371819942</td>\n",
              "      <td>42.945526</td>\n",
              "      <td>-108.530901</td>\n",
              "      <td>0.000000</td>\n",
              "      <td>0</td>\n",
              "    </tr>\n",
              "    <tr>\n",
              "      <th>740</th>\n",
              "      <td>741</td>\n",
              "      <td>60416207185</td>\n",
              "      <td>Halvorson Group</td>\n",
              "      <td>misc_pos</td>\n",
              "      <td>78.52</td>\n",
              "      <td>43.0048</td>\n",
              "      <td>-108.8964</td>\n",
              "      <td>Information systems manager</td>\n",
              "      <td>1371831936</td>\n",
              "      <td>42.193130</td>\n",
              "      <td>-108.682054</td>\n",
              "      <td>12.692246</td>\n",
              "      <td>0</td>\n",
              "    </tr>\n",
              "    <tr>\n",
              "      <th>3046</th>\n",
              "      <td>3047</td>\n",
              "      <td>60416207185</td>\n",
              "      <td>Conroy-Cruickshank</td>\n",
              "      <td>gas_transport</td>\n",
              "      <td>65.25</td>\n",
              "      <td>43.0048</td>\n",
              "      <td>-108.8964</td>\n",
              "      <td>Information systems manager</td>\n",
              "      <td>1371887913</td>\n",
              "      <td>43.932724</td>\n",
              "      <td>-109.699794</td>\n",
              "      <td>6.764004</td>\n",
              "      <td>0</td>\n",
              "    </tr>\n",
              "    <tr>\n",
              "      <th>4350</th>\n",
              "      <td>4351</td>\n",
              "      <td>60416207185</td>\n",
              "      <td>Larkin Ltd</td>\n",
              "      <td>kids_pets</td>\n",
              "      <td>87.74</td>\n",
              "      <td>43.0048</td>\n",
              "      <td>-108.8964</td>\n",
              "      <td>Information systems manager</td>\n",
              "      <td>1371915151</td>\n",
              "      <td>43.546064</td>\n",
              "      <td>-109.212939</td>\n",
              "      <td>3.841013</td>\n",
              "      <td>0</td>\n",
              "    </tr>\n",
              "    <tr>\n",
              "      <th>7694</th>\n",
              "      <td>7695</td>\n",
              "      <td>60416207185</td>\n",
              "      <td>Leffler-Goldner</td>\n",
              "      <td>personal_care</td>\n",
              "      <td>148.02</td>\n",
              "      <td>43.0048</td>\n",
              "      <td>-108.8964</td>\n",
              "      <td>Information systems manager</td>\n",
              "      <td>1371990534</td>\n",
              "      <td>42.876538</td>\n",
              "      <td>-109.333220</td>\n",
              "      <td>1.792834</td>\n",
              "      <td>0</td>\n",
              "    </tr>\n",
              "  </tbody>\n",
              "</table>\n",
              "</div>"
            ],
            "text/plain": [
              "     trans_id     card_num            merchant  ...  merch_long      speed  gender_M\n",
              "156       157  60416207185         Kutch-Ferry  ... -108.530901   0.000000         0\n",
              "740       741  60416207185     Halvorson Group  ... -108.682054  12.692246         0\n",
              "3046     3047  60416207185  Conroy-Cruickshank  ... -109.699794   6.764004         0\n",
              "4350     4351  60416207185          Larkin Ltd  ... -109.212939   3.841013         0\n",
              "7694     7695  60416207185     Leffler-Goldner  ... -109.333220   1.792834         0\n",
              "\n",
              "[5 rows x 13 columns]"
            ]
          },
          "metadata": {
            "tags": []
          },
          "execution_count": 28
        }
      ]
    },
    {
      "cell_type": "code",
      "metadata": {
        "execution": {
          "iopub.status.busy": "2021-06-18T03:22:03.053889Z",
          "iopub.execute_input": "2021-06-18T03:22:03.054338Z",
          "iopub.status.idle": "2021-06-18T03:22:03.163534Z",
          "shell.execute_reply.started": "2021-06-18T03:22:03.054304Z",
          "shell.execute_reply": "2021-06-18T03:22:03.162274Z"
        },
        "trusted": true,
        "colab": {
          "base_uri": "https://localhost:8080/",
          "height": 295
        },
        "id": "U8qy4DTc1uBy",
        "outputId": "41f0a482-c125-4c53-b665-a874832a8629"
      },
      "source": [
        "#taking an individual card user  defined as unique card \n",
        "unique_card=cleaned_data[cleaned_data['card_num']==4992346398065150000]\n",
        "unique_card.head(4) #showing the first 4 values\n",
        "\n"
      ],
      "execution_count": null,
      "outputs": [
        {
          "output_type": "execute_result",
          "data": {
            "text/html": [
              "<div>\n",
              "<style scoped>\n",
              "    .dataframe tbody tr th:only-of-type {\n",
              "        vertical-align: middle;\n",
              "    }\n",
              "\n",
              "    .dataframe tbody tr th {\n",
              "        vertical-align: top;\n",
              "    }\n",
              "\n",
              "    .dataframe thead th {\n",
              "        text-align: right;\n",
              "    }\n",
              "</style>\n",
              "<table border=\"1\" class=\"dataframe\">\n",
              "  <thead>\n",
              "    <tr style=\"text-align: right;\">\n",
              "      <th></th>\n",
              "      <th>trans_id</th>\n",
              "      <th>card_num</th>\n",
              "      <th>merchant</th>\n",
              "      <th>purchase_category</th>\n",
              "      <th>trans_amt</th>\n",
              "      <th>lat</th>\n",
              "      <th>long</th>\n",
              "      <th>job</th>\n",
              "      <th>unix_time</th>\n",
              "      <th>merch_lat</th>\n",
              "      <th>merch_long</th>\n",
              "      <th>speed</th>\n",
              "      <th>gender_M</th>\n",
              "    </tr>\n",
              "  </thead>\n",
              "  <tbody>\n",
              "    <tr>\n",
              "      <th>1627</th>\n",
              "      <td>1628</td>\n",
              "      <td>4992346398065150000</td>\n",
              "      <td>Ernser-Lynch</td>\n",
              "      <td>food</td>\n",
              "      <td>40.58</td>\n",
              "      <td>41.173</td>\n",
              "      <td>-89.2187</td>\n",
              "      <td>Audiological scientist</td>\n",
              "      <td>1371850896</td>\n",
              "      <td>40.381153</td>\n",
              "      <td>-89.112005</td>\n",
              "      <td>0.000000</td>\n",
              "      <td>1</td>\n",
              "    </tr>\n",
              "    <tr>\n",
              "      <th>2371</th>\n",
              "      <td>2372</td>\n",
              "      <td>4992346398065150000</td>\n",
              "      <td>Hayes, Marquardt and Dibbert</td>\n",
              "      <td>misc_net</td>\n",
              "      <td>390.20</td>\n",
              "      <td>41.173</td>\n",
              "      <td>-89.2187</td>\n",
              "      <td>Audiological scientist</td>\n",
              "      <td>1371869777</td>\n",
              "      <td>42.155824</td>\n",
              "      <td>-88.837710</td>\n",
              "      <td>18.938387</td>\n",
              "      <td>1</td>\n",
              "    </tr>\n",
              "    <tr>\n",
              "      <th>2648</th>\n",
              "      <td>2649</td>\n",
              "      <td>4992346398065150000</td>\n",
              "      <td>Friesen Inc</td>\n",
              "      <td>shopping_pos</td>\n",
              "      <td>7.60</td>\n",
              "      <td>41.173</td>\n",
              "      <td>-89.2187</td>\n",
              "      <td>Audiological scientist</td>\n",
              "      <td>1371877080</td>\n",
              "      <td>41.234514</td>\n",
              "      <td>-88.551230</td>\n",
              "      <td>25.921361</td>\n",
              "      <td>1</td>\n",
              "    </tr>\n",
              "    <tr>\n",
              "      <th>4251</th>\n",
              "      <td>4252</td>\n",
              "      <td>4992346398065150000</td>\n",
              "      <td>Gleason and Sons</td>\n",
              "      <td>kids_pets</td>\n",
              "      <td>2.39</td>\n",
              "      <td>41.173</td>\n",
              "      <td>-89.2187</td>\n",
              "      <td>Audiological scientist</td>\n",
              "      <td>1371913487</td>\n",
              "      <td>40.189618</td>\n",
              "      <td>-88.340787</td>\n",
              "      <td>5.810877</td>\n",
              "      <td>1</td>\n",
              "    </tr>\n",
              "  </tbody>\n",
              "</table>\n",
              "</div>"
            ],
            "text/plain": [
              "     trans_id             card_num  ...      speed gender_M\n",
              "1627     1628  4992346398065150000  ...   0.000000        1\n",
              "2371     2372  4992346398065150000  ...  18.938387        1\n",
              "2648     2649  4992346398065150000  ...  25.921361        1\n",
              "4251     4252  4992346398065150000  ...   5.810877        1\n",
              "\n",
              "[4 rows x 13 columns]"
            ]
          },
          "metadata": {
            "tags": []
          },
          "execution_count": 29
        }
      ]
    },
    {
      "cell_type": "markdown",
      "metadata": {
        "id": "URLToYbx1uBz"
      },
      "source": [
        "# **checking rules based on transaction amt and speed from the merchant to get outliers**"
      ]
    },
    {
      "cell_type": "code",
      "metadata": {
        "execution": {
          "iopub.status.busy": "2021-06-18T03:25:01.323400Z",
          "iopub.execute_input": "2021-06-18T03:25:01.323790Z",
          "iopub.status.idle": "2021-06-18T03:25:01.329663Z",
          "shell.execute_reply.started": "2021-06-18T03:25:01.323757Z",
          "shell.execute_reply": "2021-06-18T03:25:01.328765Z"
        },
        "trusted": true,
        "colab": {
          "base_uri": "https://localhost:8080/"
        },
        "id": "NnM6dbUO1uBz",
        "outputId": "2d30b774-830f-4876-e745-6a0b920aedc4"
      },
      "source": [
        "len(unique_card) #size of the unique_card data"
      ],
      "execution_count": null,
      "outputs": [
        {
          "output_type": "execute_result",
          "data": {
            "text/plain": [
              "863"
            ]
          },
          "metadata": {
            "tags": []
          },
          "execution_count": 30
        }
      ]
    },
    {
      "cell_type": "code",
      "metadata": {
        "execution": {
          "iopub.status.busy": "2021-06-18T03:29:28.332224Z",
          "iopub.execute_input": "2021-06-18T03:29:28.332655Z",
          "iopub.status.idle": "2021-06-18T03:29:28.501182Z",
          "shell.execute_reply.started": "2021-06-18T03:29:28.332621Z",
          "shell.execute_reply": "2021-06-18T03:29:28.500211Z"
        },
        "trusted": true,
        "colab": {
          "base_uri": "https://localhost:8080/",
          "height": 297
        },
        "id": "JzrlAq471uBz",
        "outputId": "623fa962-c302-46b6-9e3b-e9d8e588cb7b"
      },
      "source": [
        "sns.scatterplot(x=\"trans_amt\",y=\"speed\",data=unique_card) #checking the total transaction amount verses speed "
      ],
      "execution_count": null,
      "outputs": [
        {
          "output_type": "execute_result",
          "data": {
            "text/plain": [
              "<matplotlib.axes._subplots.AxesSubplot at 0x7f464ca370d0>"
            ]
          },
          "metadata": {
            "tags": []
          },
          "execution_count": 31
        },
        {
          "output_type": "display_data",
          "data": {
            "image/png": "[encoded data removed]",
            "text/plain": [
              "<Figure size 432x288 with 1 Axes>"
            ]
          },
          "metadata": {
            "tags": [],
            "needs_background": "light"
          }
        }
      ]
    },
    {
      "cell_type": "code",
      "metadata": {
        "execution": {
          "iopub.status.busy": "2021-06-18T03:38:11.263216Z",
          "iopub.execute_input": "2021-06-18T03:38:11.263615Z",
          "iopub.status.idle": "2021-06-18T03:38:12.255129Z",
          "shell.execute_reply.started": "2021-06-18T03:38:11.263582Z",
          "shell.execute_reply": "2021-06-18T03:38:12.254166Z"
        },
        "trusted": true,
        "colab": {
          "base_uri": "https://localhost:8080/",
          "height": 284
        },
        "id": "XC1bkZjz1uB0",
        "outputId": "55228b06-df7c-42c5-f300-c817138aa1f7"
      },
      "source": [
        "#checking trans_amt vs speed for the full dataset\n",
        "\n",
        "scatterPlot = sns.scatterplot(x=\"trans_amt\",y=\"speed\",data=cleaned_data)\n",
        "\n",
        "#setting the x and y axis limits\n",
        "scatterPlot.set(xlim=(0,2000))\n",
        "scatterPlot.set(ylim=(0,140000))\n",
        "\n",
        "plt.show()"
      ],
      "execution_count": null,
      "outputs": [
        {
          "output_type": "display_data",
          "data": {
            "image/png": "[encoded data removed]",
            "text/plain": [
              "<Figure size 432x288 with 1 Axes>"
            ]
          },
          "metadata": {
            "tags": [],
            "needs_background": "light"
          }
        }
      ]
    },
    {
      "cell_type": "code",
      "metadata": {
        "execution": {
          "iopub.status.busy": "2021-06-18T03:52:35.503059Z",
          "iopub.execute_input": "2021-06-18T03:52:35.503440Z",
          "iopub.status.idle": "2021-06-18T03:52:35.531478Z",
          "shell.execute_reply.started": "2021-06-18T03:52:35.503400Z",
          "shell.execute_reply": "2021-06-18T03:52:35.530545Z"
        },
        "trusted": true,
        "colab": {
          "base_uri": "https://localhost:8080/"
        },
        "id": "AmWieit21uB1",
        "outputId": "06b3d125-8a86-4c13-e0c8-f6be5819171c"
      },
      "source": [
        "len(cleaned_data[cleaned_data.speed > 600]) #total no of points with speed more than 600 km/h(though normal flight speed is 900 km/h)\n",
        "                                             #for saftey have taken this as 600km/h                   "
      ],
      "execution_count": null,
      "outputs": [
        {
          "output_type": "execute_result",
          "data": {
            "text/plain": [
              "10758"
            ]
          },
          "metadata": {
            "tags": []
          },
          "execution_count": 33
        }
      ]
    },
    {
      "cell_type": "code",
      "metadata": {
        "execution": {
          "iopub.status.busy": "2021-06-18T04:08:55.392416Z",
          "iopub.execute_input": "2021-06-18T04:08:55.392771Z",
          "iopub.status.idle": "2021-06-18T04:08:55.935666Z",
          "shell.execute_reply.started": "2021-06-18T04:08:55.392742Z",
          "shell.execute_reply": "2021-06-18T04:08:55.934301Z"
        },
        "trusted": true,
        "colab": {
          "base_uri": "https://localhost:8080/",
          "height": 711
        },
        "id": "llB61UjH1uB1",
        "outputId": "84192406-437f-47b4-e765-782ff58c6c54"
      },
      "source": [
        "#classifying and adding a new column if the speed is more than 600 km/h then tag it as  1 else 0\n",
        "dup_cleaned_data = cleaned_data\n",
        "dup_cleaned_data['suspectable_speed'] = cleaned_data['speed'].apply(lambda x: 1 if x>600 else 0)\n",
        "dup_cleaned_data"
      ],
      "execution_count": null,
      "outputs": [
        {
          "output_type": "execute_result",
          "data": {
            "text/html": [
              "<div>\n",
              "<style scoped>\n",
              "    .dataframe tbody tr th:only-of-type {\n",
              "        vertical-align: middle;\n",
              "    }\n",
              "\n",
              "    .dataframe tbody tr th {\n",
              "        vertical-align: top;\n",
              "    }\n",
              "\n",
              "    .dataframe thead th {\n",
              "        text-align: right;\n",
              "    }\n",
              "</style>\n",
              "<table border=\"1\" class=\"dataframe\">\n",
              "  <thead>\n",
              "    <tr style=\"text-align: right;\">\n",
              "      <th></th>\n",
              "      <th>trans_id</th>\n",
              "      <th>card_num</th>\n",
              "      <th>merchant</th>\n",
              "      <th>purchase_category</th>\n",
              "      <th>trans_amt</th>\n",
              "      <th>lat</th>\n",
              "      <th>long</th>\n",
              "      <th>job</th>\n",
              "      <th>unix_time</th>\n",
              "      <th>merch_lat</th>\n",
              "      <th>merch_long</th>\n",
              "      <th>speed</th>\n",
              "      <th>gender_M</th>\n",
              "      <th>suspectable_speed</th>\n",
              "    </tr>\n",
              "  </thead>\n",
              "  <tbody>\n",
              "    <tr>\n",
              "      <th>156</th>\n",
              "      <td>157</td>\n",
              "      <td>60416207185</td>\n",
              "      <td>Kutch-Ferry</td>\n",
              "      <td>home</td>\n",
              "      <td>124.66</td>\n",
              "      <td>43.0048</td>\n",
              "      <td>-108.8964</td>\n",
              "      <td>Information systems manager</td>\n",
              "      <td>1371819942</td>\n",
              "      <td>42.945526</td>\n",
              "      <td>-108.530901</td>\n",
              "      <td>0.000000</td>\n",
              "      <td>0</td>\n",
              "      <td>0</td>\n",
              "    </tr>\n",
              "    <tr>\n",
              "      <th>740</th>\n",
              "      <td>741</td>\n",
              "      <td>60416207185</td>\n",
              "      <td>Halvorson Group</td>\n",
              "      <td>misc_pos</td>\n",
              "      <td>78.52</td>\n",
              "      <td>43.0048</td>\n",
              "      <td>-108.8964</td>\n",
              "      <td>Information systems manager</td>\n",
              "      <td>1371831936</td>\n",
              "      <td>42.193130</td>\n",
              "      <td>-108.682054</td>\n",
              "      <td>12.692246</td>\n",
              "      <td>0</td>\n",
              "      <td>0</td>\n",
              "    </tr>\n",
              "    <tr>\n",
              "      <th>3046</th>\n",
              "      <td>3047</td>\n",
              "      <td>60416207185</td>\n",
              "      <td>Conroy-Cruickshank</td>\n",
              "      <td>gas_transport</td>\n",
              "      <td>65.25</td>\n",
              "      <td>43.0048</td>\n",
              "      <td>-108.8964</td>\n",
              "      <td>Information systems manager</td>\n",
              "      <td>1371887913</td>\n",
              "      <td>43.932724</td>\n",
              "      <td>-109.699794</td>\n",
              "      <td>6.764004</td>\n",
              "      <td>0</td>\n",
              "      <td>0</td>\n",
              "    </tr>\n",
              "    <tr>\n",
              "      <th>4350</th>\n",
              "      <td>4351</td>\n",
              "      <td>60416207185</td>\n",
              "      <td>Larkin Ltd</td>\n",
              "      <td>kids_pets</td>\n",
              "      <td>87.74</td>\n",
              "      <td>43.0048</td>\n",
              "      <td>-108.8964</td>\n",
              "      <td>Information systems manager</td>\n",
              "      <td>1371915151</td>\n",
              "      <td>43.546064</td>\n",
              "      <td>-109.212939</td>\n",
              "      <td>3.841013</td>\n",
              "      <td>0</td>\n",
              "      <td>0</td>\n",
              "    </tr>\n",
              "    <tr>\n",
              "      <th>7694</th>\n",
              "      <td>7695</td>\n",
              "      <td>60416207185</td>\n",
              "      <td>Leffler-Goldner</td>\n",
              "      <td>personal_care</td>\n",
              "      <td>148.02</td>\n",
              "      <td>43.0048</td>\n",
              "      <td>-108.8964</td>\n",
              "      <td>Information systems manager</td>\n",
              "      <td>1371990534</td>\n",
              "      <td>42.876538</td>\n",
              "      <td>-109.333220</td>\n",
              "      <td>1.792834</td>\n",
              "      <td>0</td>\n",
              "      <td>0</td>\n",
              "    </tr>\n",
              "    <tr>\n",
              "      <th>...</th>\n",
              "      <td>...</td>\n",
              "      <td>...</td>\n",
              "      <td>...</td>\n",
              "      <td>...</td>\n",
              "      <td>...</td>\n",
              "      <td>...</td>\n",
              "      <td>...</td>\n",
              "      <td>...</td>\n",
              "      <td>...</td>\n",
              "      <td>...</td>\n",
              "      <td>...</td>\n",
              "      <td>...</td>\n",
              "      <td>...</td>\n",
              "      <td>...</td>\n",
              "    </tr>\n",
              "    <tr>\n",
              "      <th>552583</th>\n",
              "      <td>552584</td>\n",
              "      <td>4992346398065150000</td>\n",
              "      <td>Parisian and Sons</td>\n",
              "      <td>gas_transport</td>\n",
              "      <td>66.11</td>\n",
              "      <td>41.1730</td>\n",
              "      <td>-89.2187</td>\n",
              "      <td>Audiological scientist</td>\n",
              "      <td>1388455810</td>\n",
              "      <td>40.915589</td>\n",
              "      <td>-88.806426</td>\n",
              "      <td>24.638529</td>\n",
              "      <td>1</td>\n",
              "      <td>0</td>\n",
              "    </tr>\n",
              "    <tr>\n",
              "      <th>552891</th>\n",
              "      <td>552892</td>\n",
              "      <td>4992346398065150000</td>\n",
              "      <td>Bogisich-Homenick</td>\n",
              "      <td>misc_net</td>\n",
              "      <td>4.58</td>\n",
              "      <td>41.1730</td>\n",
              "      <td>-89.2187</td>\n",
              "      <td>Audiological scientist</td>\n",
              "      <td>1388466815</td>\n",
              "      <td>40.637488</td>\n",
              "      <td>-89.880600</td>\n",
              "      <td>15.634545</td>\n",
              "      <td>1</td>\n",
              "      <td>0</td>\n",
              "    </tr>\n",
              "    <tr>\n",
              "      <th>553558</th>\n",
              "      <td>553559</td>\n",
              "      <td>4992346398065150000</td>\n",
              "      <td>Erdman-Kertzmann</td>\n",
              "      <td>gas_transport</td>\n",
              "      <td>95.96</td>\n",
              "      <td>41.1730</td>\n",
              "      <td>-89.2187</td>\n",
              "      <td>Audiological scientist</td>\n",
              "      <td>1388488544</td>\n",
              "      <td>40.869708</td>\n",
              "      <td>-89.066993</td>\n",
              "      <td>6.066670</td>\n",
              "      <td>1</td>\n",
              "      <td>0</td>\n",
              "    </tr>\n",
              "    <tr>\n",
              "      <th>553559</th>\n",
              "      <td>553560</td>\n",
              "      <td>4992346398065150000</td>\n",
              "      <td>Stracke-Lemke</td>\n",
              "      <td>grocery_pos</td>\n",
              "      <td>149.48</td>\n",
              "      <td>41.1730</td>\n",
              "      <td>-89.2187</td>\n",
              "      <td>Audiological scientist</td>\n",
              "      <td>1388488645</td>\n",
              "      <td>41.437224</td>\n",
              "      <td>-90.132253</td>\n",
              "      <td>1947.075604</td>\n",
              "      <td>1</td>\n",
              "      <td>1</td>\n",
              "    </tr>\n",
              "    <tr>\n",
              "      <th>553882</th>\n",
              "      <td>553883</td>\n",
              "      <td>4992346398065150000</td>\n",
              "      <td>Roberts, Daniel and Macejkovic</td>\n",
              "      <td>kids_pets</td>\n",
              "      <td>20.55</td>\n",
              "      <td>41.1730</td>\n",
              "      <td>-89.2187</td>\n",
              "      <td>Audiological scientist</td>\n",
              "      <td>1388496276</td>\n",
              "      <td>41.313939</td>\n",
              "      <td>-89.032702</td>\n",
              "      <td>21.881034</td>\n",
              "      <td>1</td>\n",
              "      <td>0</td>\n",
              "    </tr>\n",
              "  </tbody>\n",
              "</table>\n",
              "<p>555718 rows × 14 columns</p>\n",
              "</div>"
            ],
            "text/plain": [
              "       trans_id             card_num  ... gender_M suspectable_speed\n",
              "156         157          60416207185  ...        0                 0\n",
              "740         741          60416207185  ...        0                 0\n",
              "3046       3047          60416207185  ...        0                 0\n",
              "4350       4351          60416207185  ...        0                 0\n",
              "7694       7695          60416207185  ...        0                 0\n",
              "...         ...                  ...  ...      ...               ...\n",
              "552583   552584  4992346398065150000  ...        1                 0\n",
              "552891   552892  4992346398065150000  ...        1                 0\n",
              "553558   553559  4992346398065150000  ...        1                 0\n",
              "553559   553560  4992346398065150000  ...        1                 1\n",
              "553882   553883  4992346398065150000  ...        1                 0\n",
              "\n",
              "[555718 rows x 14 columns]"
            ]
          },
          "metadata": {
            "tags": []
          },
          "execution_count": 34
        }
      ]
    },
    {
      "cell_type": "code",
      "metadata": {
        "execution": {
          "iopub.status.busy": "2021-06-18T04:16:20.240112Z",
          "iopub.execute_input": "2021-06-18T04:16:20.240567Z",
          "iopub.status.idle": "2021-06-18T04:16:20.407326Z",
          "shell.execute_reply.started": "2021-06-18T04:16:20.240530Z",
          "shell.execute_reply": "2021-06-18T04:16:20.406343Z"
        },
        "trusted": true,
        "colab": {
          "base_uri": "https://localhost:8080/",
          "height": 297
        },
        "id": "N_sfLzUy1uB2",
        "outputId": "f1ebb610-3e24-4cf4-a693-527fb2e168ad"
      },
      "source": [
        "sns.countplot(x=\"suspectable_speed\",data=dup_cleaned_data)"
      ],
      "execution_count": null,
      "outputs": [
        {
          "output_type": "execute_result",
          "data": {
            "text/plain": [
              "<matplotlib.axes._subplots.AxesSubplot at 0x7f464e75afd0>"
            ]
          },
          "metadata": {
            "tags": []
          },
          "execution_count": 35
        },
        {
          "output_type": "display_data",
          "data": {
            "image/png": "[encoded data removed]",
            "text/plain": [
              "<Figure size 432x288 with 1 Axes>"
            ]
          },
          "metadata": {
            "tags": [],
            "needs_background": "light"
          }
        }
      ]
    },
    {
      "cell_type": "markdown",
      "metadata": {
        "id": "VNKv4CzR1uB3"
      },
      "source": [
        ""
      ]
    },
    {
      "cell_type": "code",
      "metadata": {
        "execution": {
          "iopub.status.busy": "2021-06-18T04:31:31.899946Z",
          "iopub.execute_input": "2021-06-18T04:31:31.900402Z",
          "iopub.status.idle": "2021-06-18T04:31:31.936293Z",
          "shell.execute_reply.started": "2021-06-18T04:31:31.900348Z",
          "shell.execute_reply": "2021-06-18T04:31:31.935105Z"
        },
        "trusted": true,
        "id": "VQzkadmv1uB4",
        "outputId": "8e6e895a-2de1-4e59-9508-9f7c68607a72"
      },
      "source": [
        "unique_card"
      ],
      "execution_count": null,
      "outputs": [
        {
          "output_type": "execute_result",
          "data": {
            "text/plain": [
              "       trans_id             card_num                        merchant  \\\n",
              "1627       1628  4992346398065150000                    Ernser-Lynch   \n",
              "2371       2372  4992346398065150000    Hayes, Marquardt and Dibbert   \n",
              "2648       2649  4992346398065150000                     Friesen Inc   \n",
              "4251       4252  4992346398065150000                Gleason and Sons   \n",
              "4798       4799  4992346398065150000          Feil, Hilpert and Koss   \n",
              "...         ...                  ...                             ...   \n",
              "552583   552584  4992346398065150000               Parisian and Sons   \n",
              "552891   552892  4992346398065150000               Bogisich-Homenick   \n",
              "553558   553559  4992346398065150000                Erdman-Kertzmann   \n",
              "553559   553560  4992346398065150000                   Stracke-Lemke   \n",
              "553882   553883  4992346398065150000  Roberts, Daniel and Macejkovic   \n",
              "\n",
              "       purchase_category  trans_amt     lat     long                     job  \\\n",
              "1627                food      40.58  41.173 -89.2187  Audiological scientist   \n",
              "2371            misc_net     390.20  41.173 -89.2187  Audiological scientist   \n",
              "2648        shopping_pos       7.60  41.173 -89.2187  Audiological scientist   \n",
              "4251           kids_pets       2.39  41.173 -89.2187  Audiological scientist   \n",
              "4798                food      35.43  41.173 -89.2187  Audiological scientist   \n",
              "...                  ...        ...     ...      ...                     ...   \n",
              "552583     gas_transport      66.11  41.173 -89.2187  Audiological scientist   \n",
              "552891          misc_net       4.58  41.173 -89.2187  Audiological scientist   \n",
              "553558     gas_transport      95.96  41.173 -89.2187  Audiological scientist   \n",
              "553559       grocery_pos     149.48  41.173 -89.2187  Audiological scientist   \n",
              "553882         kids_pets      20.55  41.173 -89.2187  Audiological scientist   \n",
              "\n",
              "         unix_time  merch_lat  merch_long debit_credit_indicator  \\\n",
              "1627    1371850896  40.381153  -89.112005                  debit   \n",
              "2371    1371869777  42.155824  -88.837710                  debit   \n",
              "2648    1371877080  41.234514  -88.551230                  debit   \n",
              "4251    1371913487  40.189618  -88.340787                  debit   \n",
              "4798    1371923127  40.691328  -90.023732                  debit   \n",
              "...            ...        ...         ...                    ...   \n",
              "552583  1388455810  40.915589  -88.806426                  debit   \n",
              "552891  1388466815  40.637488  -89.880600                  debit   \n",
              "553558  1388488544  40.869708  -89.066993                  debit   \n",
              "553559  1388488645  41.437224  -90.132253                  debit   \n",
              "553882  1388496276  41.313939  -89.032702                  debit   \n",
              "\n",
              "          trans_type  gender_M        speed  \n",
              "1627        purchase         1     0.000000  \n",
              "2371        purchase         1    18.938387  \n",
              "2648        purchase         1    25.921361  \n",
              "4251        purchase         1     5.810877  \n",
              "4798        purchase         1    28.559865  \n",
              "...              ...       ...          ...  \n",
              "552583  misc_credits         1    24.638529  \n",
              "552891  misc_credits         1    15.634545  \n",
              "553558  misc_credits         1     6.066670  \n",
              "553559  misc_credits         1  1947.075604  \n",
              "553882  misc_credits         1    21.881034  \n",
              "\n",
              "[863 rows x 15 columns]"
            ],
            "text/html": [
              "<div>\n",
              "<style scoped>\n",
              "    .dataframe tbody tr th:only-of-type {\n",
              "        vertical-align: middle;\n",
              "    }\n",
              "\n",
              "    .dataframe tbody tr th {\n",
              "        vertical-align: top;\n",
              "    }\n",
              "\n",
              "    .dataframe thead th {\n",
              "        text-align: right;\n",
              "    }\n",
              "</style>\n",
              "<table border=\"1\" class=\"dataframe\">\n",
              "  <thead>\n",
              "    <tr style=\"text-align: right;\">\n",
              "      <th></th>\n",
              "      <th>trans_id</th>\n",
              "      <th>card_num</th>\n",
              "      <th>merchant</th>\n",
              "      <th>purchase_category</th>\n",
              "      <th>trans_amt</th>\n",
              "      <th>lat</th>\n",
              "      <th>long</th>\n",
              "      <th>job</th>\n",
              "      <th>unix_time</th>\n",
              "      <th>merch_lat</th>\n",
              "      <th>merch_long</th>\n",
              "      <th>debit_credit_indicator</th>\n",
              "      <th>trans_type</th>\n",
              "      <th>gender_M</th>\n",
              "      <th>speed</th>\n",
              "    </tr>\n",
              "  </thead>\n",
              "  <tbody>\n",
              "    <tr>\n",
              "      <th>1627</th>\n",
              "      <td>1628</td>\n",
              "      <td>4992346398065150000</td>\n",
              "      <td>Ernser-Lynch</td>\n",
              "      <td>food</td>\n",
              "      <td>40.58</td>\n",
              "      <td>41.173</td>\n",
              "      <td>-89.2187</td>\n",
              "      <td>Audiological scientist</td>\n",
              "      <td>1371850896</td>\n",
              "      <td>40.381153</td>\n",
              "      <td>-89.112005</td>\n",
              "      <td>debit</td>\n",
              "      <td>purchase</td>\n",
              "      <td>1</td>\n",
              "      <td>0.000000</td>\n",
              "    </tr>\n",
              "    <tr>\n",
              "      <th>2371</th>\n",
              "      <td>2372</td>\n",
              "      <td>4992346398065150000</td>\n",
              "      <td>Hayes, Marquardt and Dibbert</td>\n",
              "      <td>misc_net</td>\n",
              "      <td>390.20</td>\n",
              "      <td>41.173</td>\n",
              "      <td>-89.2187</td>\n",
              "      <td>Audiological scientist</td>\n",
              "      <td>1371869777</td>\n",
              "      <td>42.155824</td>\n",
              "      <td>-88.837710</td>\n",
              "      <td>debit</td>\n",
              "      <td>purchase</td>\n",
              "      <td>1</td>\n",
              "      <td>18.938387</td>\n",
              "    </tr>\n",
              "    <tr>\n",
              "      <th>2648</th>\n",
              "      <td>2649</td>\n",
              "      <td>4992346398065150000</td>\n",
              "      <td>Friesen Inc</td>\n",
              "      <td>shopping_pos</td>\n",
              "      <td>7.60</td>\n",
              "      <td>41.173</td>\n",
              "      <td>-89.2187</td>\n",
              "      <td>Audiological scientist</td>\n",
              "      <td>1371877080</td>\n",
              "      <td>41.234514</td>\n",
              "      <td>-88.551230</td>\n",
              "      <td>debit</td>\n",
              "      <td>purchase</td>\n",
              "      <td>1</td>\n",
              "      <td>25.921361</td>\n",
              "    </tr>\n",
              "    <tr>\n",
              "      <th>4251</th>\n",
              "      <td>4252</td>\n",
              "      <td>4992346398065150000</td>\n",
              "      <td>Gleason and Sons</td>\n",
              "      <td>kids_pets</td>\n",
              "      <td>2.39</td>\n",
              "      <td>41.173</td>\n",
              "      <td>-89.2187</td>\n",
              "      <td>Audiological scientist</td>\n",
              "      <td>1371913487</td>\n",
              "      <td>40.189618</td>\n",
              "      <td>-88.340787</td>\n",
              "      <td>debit</td>\n",
              "      <td>purchase</td>\n",
              "      <td>1</td>\n",
              "      <td>5.810877</td>\n",
              "    </tr>\n",
              "    <tr>\n",
              "      <th>4798</th>\n",
              "      <td>4799</td>\n",
              "      <td>4992346398065150000</td>\n",
              "      <td>Feil, Hilpert and Koss</td>\n",
              "      <td>food</td>\n",
              "      <td>35.43</td>\n",
              "      <td>41.173</td>\n",
              "      <td>-89.2187</td>\n",
              "      <td>Audiological scientist</td>\n",
              "      <td>1371923127</td>\n",
              "      <td>40.691328</td>\n",
              "      <td>-90.023732</td>\n",
              "      <td>debit</td>\n",
              "      <td>purchase</td>\n",
              "      <td>1</td>\n",
              "      <td>28.559865</td>\n",
              "    </tr>\n",
              "    <tr>\n",
              "      <th>...</th>\n",
              "      <td>...</td>\n",
              "      <td>...</td>\n",
              "      <td>...</td>\n",
              "      <td>...</td>\n",
              "      <td>...</td>\n",
              "      <td>...</td>\n",
              "      <td>...</td>\n",
              "      <td>...</td>\n",
              "      <td>...</td>\n",
              "      <td>...</td>\n",
              "      <td>...</td>\n",
              "      <td>...</td>\n",
              "      <td>...</td>\n",
              "      <td>...</td>\n",
              "      <td>...</td>\n",
              "    </tr>\n",
              "    <tr>\n",
              "      <th>552583</th>\n",
              "      <td>552584</td>\n",
              "      <td>4992346398065150000</td>\n",
              "      <td>Parisian and Sons</td>\n",
              "      <td>gas_transport</td>\n",
              "      <td>66.11</td>\n",
              "      <td>41.173</td>\n",
              "      <td>-89.2187</td>\n",
              "      <td>Audiological scientist</td>\n",
              "      <td>1388455810</td>\n",
              "      <td>40.915589</td>\n",
              "      <td>-88.806426</td>\n",
              "      <td>debit</td>\n",
              "      <td>misc_credits</td>\n",
              "      <td>1</td>\n",
              "      <td>24.638529</td>\n",
              "    </tr>\n",
              "    <tr>\n",
              "      <th>552891</th>\n",
              "      <td>552892</td>\n",
              "      <td>4992346398065150000</td>\n",
              "      <td>Bogisich-Homenick</td>\n",
              "      <td>misc_net</td>\n",
              "      <td>4.58</td>\n",
              "      <td>41.173</td>\n",
              "      <td>-89.2187</td>\n",
              "      <td>Audiological scientist</td>\n",
              "      <td>1388466815</td>\n",
              "      <td>40.637488</td>\n",
              "      <td>-89.880600</td>\n",
              "      <td>debit</td>\n",
              "      <td>misc_credits</td>\n",
              "      <td>1</td>\n",
              "      <td>15.634545</td>\n",
              "    </tr>\n",
              "    <tr>\n",
              "      <th>553558</th>\n",
              "      <td>553559</td>\n",
              "      <td>4992346398065150000</td>\n",
              "      <td>Erdman-Kertzmann</td>\n",
              "      <td>gas_transport</td>\n",
              "      <td>95.96</td>\n",
              "      <td>41.173</td>\n",
              "      <td>-89.2187</td>\n",
              "      <td>Audiological scientist</td>\n",
              "      <td>1388488544</td>\n",
              "      <td>40.869708</td>\n",
              "      <td>-89.066993</td>\n",
              "      <td>debit</td>\n",
              "      <td>misc_credits</td>\n",
              "      <td>1</td>\n",
              "      <td>6.066670</td>\n",
              "    </tr>\n",
              "    <tr>\n",
              "      <th>553559</th>\n",
              "      <td>553560</td>\n",
              "      <td>4992346398065150000</td>\n",
              "      <td>Stracke-Lemke</td>\n",
              "      <td>grocery_pos</td>\n",
              "      <td>149.48</td>\n",
              "      <td>41.173</td>\n",
              "      <td>-89.2187</td>\n",
              "      <td>Audiological scientist</td>\n",
              "      <td>1388488645</td>\n",
              "      <td>41.437224</td>\n",
              "      <td>-90.132253</td>\n",
              "      <td>debit</td>\n",
              "      <td>misc_credits</td>\n",
              "      <td>1</td>\n",
              "      <td>1947.075604</td>\n",
              "    </tr>\n",
              "    <tr>\n",
              "      <th>553882</th>\n",
              "      <td>553883</td>\n",
              "      <td>4992346398065150000</td>\n",
              "      <td>Roberts, Daniel and Macejkovic</td>\n",
              "      <td>kids_pets</td>\n",
              "      <td>20.55</td>\n",
              "      <td>41.173</td>\n",
              "      <td>-89.2187</td>\n",
              "      <td>Audiological scientist</td>\n",
              "      <td>1388496276</td>\n",
              "      <td>41.313939</td>\n",
              "      <td>-89.032702</td>\n",
              "      <td>debit</td>\n",
              "      <td>misc_credits</td>\n",
              "      <td>1</td>\n",
              "      <td>21.881034</td>\n",
              "    </tr>\n",
              "  </tbody>\n",
              "</table>\n",
              "<p>863 rows × 15 columns</p>\n",
              "</div>"
            ]
          },
          "metadata": {
            "tags": []
          },
          "execution_count": 80
        }
      ]
    },
    {
      "cell_type": "code",
      "metadata": {
        "execution": {
          "iopub.status.busy": "2021-06-18T06:29:48.755320Z",
          "iopub.execute_input": "2021-06-18T06:29:48.756117Z",
          "iopub.status.idle": "2021-06-18T06:29:48.783411Z",
          "shell.execute_reply.started": "2021-06-18T06:29:48.756052Z",
          "shell.execute_reply": "2021-06-18T06:29:48.782245Z"
        },
        "trusted": true,
        "colab": {
          "base_uri": "https://localhost:8080/",
          "height": 329
        },
        "id": "dn1mLODz1uB4",
        "outputId": "4cef3e43-1a37-480a-ed4e-0a65cad8b8bb"
      },
      "source": [
        "dup_cleaned_data.head(4)"
      ],
      "execution_count": null,
      "outputs": [
        {
          "output_type": "execute_result",
          "data": {
            "text/html": [
              "<div>\n",
              "<style scoped>\n",
              "    .dataframe tbody tr th:only-of-type {\n",
              "        vertical-align: middle;\n",
              "    }\n",
              "\n",
              "    .dataframe tbody tr th {\n",
              "        vertical-align: top;\n",
              "    }\n",
              "\n",
              "    .dataframe thead th {\n",
              "        text-align: right;\n",
              "    }\n",
              "</style>\n",
              "<table border=\"1\" class=\"dataframe\">\n",
              "  <thead>\n",
              "    <tr style=\"text-align: right;\">\n",
              "      <th></th>\n",
              "      <th>trans_id</th>\n",
              "      <th>card_num</th>\n",
              "      <th>merchant</th>\n",
              "      <th>purchase_category</th>\n",
              "      <th>trans_amt</th>\n",
              "      <th>lat</th>\n",
              "      <th>long</th>\n",
              "      <th>job</th>\n",
              "      <th>unix_time</th>\n",
              "      <th>merch_lat</th>\n",
              "      <th>merch_long</th>\n",
              "      <th>speed</th>\n",
              "      <th>gender_M</th>\n",
              "      <th>suspectable_speed</th>\n",
              "    </tr>\n",
              "  </thead>\n",
              "  <tbody>\n",
              "    <tr>\n",
              "      <th>156</th>\n",
              "      <td>157</td>\n",
              "      <td>60416207185</td>\n",
              "      <td>Kutch-Ferry</td>\n",
              "      <td>home</td>\n",
              "      <td>124.66</td>\n",
              "      <td>43.0048</td>\n",
              "      <td>-108.8964</td>\n",
              "      <td>Information systems manager</td>\n",
              "      <td>1371819942</td>\n",
              "      <td>42.945526</td>\n",
              "      <td>-108.530901</td>\n",
              "      <td>0.000000</td>\n",
              "      <td>0</td>\n",
              "      <td>0</td>\n",
              "    </tr>\n",
              "    <tr>\n",
              "      <th>740</th>\n",
              "      <td>741</td>\n",
              "      <td>60416207185</td>\n",
              "      <td>Halvorson Group</td>\n",
              "      <td>misc_pos</td>\n",
              "      <td>78.52</td>\n",
              "      <td>43.0048</td>\n",
              "      <td>-108.8964</td>\n",
              "      <td>Information systems manager</td>\n",
              "      <td>1371831936</td>\n",
              "      <td>42.193130</td>\n",
              "      <td>-108.682054</td>\n",
              "      <td>12.692246</td>\n",
              "      <td>0</td>\n",
              "      <td>0</td>\n",
              "    </tr>\n",
              "    <tr>\n",
              "      <th>3046</th>\n",
              "      <td>3047</td>\n",
              "      <td>60416207185</td>\n",
              "      <td>Conroy-Cruickshank</td>\n",
              "      <td>gas_transport</td>\n",
              "      <td>65.25</td>\n",
              "      <td>43.0048</td>\n",
              "      <td>-108.8964</td>\n",
              "      <td>Information systems manager</td>\n",
              "      <td>1371887913</td>\n",
              "      <td>43.932724</td>\n",
              "      <td>-109.699794</td>\n",
              "      <td>6.764004</td>\n",
              "      <td>0</td>\n",
              "      <td>0</td>\n",
              "    </tr>\n",
              "    <tr>\n",
              "      <th>4350</th>\n",
              "      <td>4351</td>\n",
              "      <td>60416207185</td>\n",
              "      <td>Larkin Ltd</td>\n",
              "      <td>kids_pets</td>\n",
              "      <td>87.74</td>\n",
              "      <td>43.0048</td>\n",
              "      <td>-108.8964</td>\n",
              "      <td>Information systems manager</td>\n",
              "      <td>1371915151</td>\n",
              "      <td>43.546064</td>\n",
              "      <td>-109.212939</td>\n",
              "      <td>3.841013</td>\n",
              "      <td>0</td>\n",
              "      <td>0</td>\n",
              "    </tr>\n",
              "  </tbody>\n",
              "</table>\n",
              "</div>"
            ],
            "text/plain": [
              "     trans_id     card_num  ... gender_M suspectable_speed\n",
              "156       157  60416207185  ...        0                 0\n",
              "740       741  60416207185  ...        0                 0\n",
              "3046     3047  60416207185  ...        0                 0\n",
              "4350     4351  60416207185  ...        0                 0\n",
              "\n",
              "[4 rows x 14 columns]"
            ]
          },
          "metadata": {
            "tags": []
          },
          "execution_count": 36
        }
      ]
    },
    {
      "cell_type": "code",
      "metadata": {
        "execution": {
          "iopub.status.busy": "2021-06-18T05:18:48.269876Z",
          "iopub.execute_input": "2021-06-18T05:18:48.270278Z",
          "iopub.status.idle": "2021-06-18T05:18:48.946562Z",
          "shell.execute_reply.started": "2021-06-18T05:18:48.270245Z",
          "shell.execute_reply": "2021-06-18T05:18:48.945724Z"
        },
        "trusted": true,
        "id": "Omtvbscx1uB5"
      },
      "source": [
        "group_data = dup_cleaned_data.sort_values('card_num') #sorting the dataset according to creditcard number\n"
      ],
      "execution_count": null,
      "outputs": []
    },
    {
      "cell_type": "code",
      "metadata": {
        "execution": {
          "iopub.status.busy": "2021-06-18T06:26:02.045261Z",
          "iopub.execute_input": "2021-06-18T06:26:02.046054Z",
          "iopub.status.idle": "2021-06-18T06:26:02.383162Z",
          "shell.execute_reply.started": "2021-06-18T06:26:02.045881Z",
          "shell.execute_reply": "2021-06-18T06:26:02.381875Z"
        },
        "trusted": true,
        "id": "SYr4J39t1uB6"
      },
      "source": [
        "group_data=group_data.reset_index().drop('index',axis=1) #removing the index column"
      ],
      "execution_count": null,
      "outputs": []
    },
    {
      "cell_type": "code",
      "metadata": {
        "execution": {
          "iopub.status.busy": "2021-06-18T06:28:44.274627Z",
          "iopub.execute_input": "2021-06-18T06:28:44.275009Z",
          "iopub.status.idle": "2021-06-18T06:28:44.299763Z",
          "shell.execute_reply.started": "2021-06-18T06:28:44.274978Z",
          "shell.execute_reply": "2021-06-18T06:28:44.298494Z"
        },
        "trusted": true,
        "colab": {
          "base_uri": "https://localhost:8080/",
          "height": 346
        },
        "id": "aa_XpoRa1uB6",
        "outputId": "113480ff-35ad-4fcb-e962-6e9068ac88df"
      },
      "source": [
        "group_data.head(4)"
      ],
      "execution_count": null,
      "outputs": [
        {
          "output_type": "execute_result",
          "data": {
            "text/html": [
              "<div>\n",
              "<style scoped>\n",
              "    .dataframe tbody tr th:only-of-type {\n",
              "        vertical-align: middle;\n",
              "    }\n",
              "\n",
              "    .dataframe tbody tr th {\n",
              "        vertical-align: top;\n",
              "    }\n",
              "\n",
              "    .dataframe thead th {\n",
              "        text-align: right;\n",
              "    }\n",
              "</style>\n",
              "<table border=\"1\" class=\"dataframe\">\n",
              "  <thead>\n",
              "    <tr style=\"text-align: right;\">\n",
              "      <th></th>\n",
              "      <th>trans_id</th>\n",
              "      <th>card_num</th>\n",
              "      <th>merchant</th>\n",
              "      <th>purchase_category</th>\n",
              "      <th>trans_amt</th>\n",
              "      <th>lat</th>\n",
              "      <th>long</th>\n",
              "      <th>job</th>\n",
              "      <th>unix_time</th>\n",
              "      <th>merch_lat</th>\n",
              "      <th>merch_long</th>\n",
              "      <th>speed</th>\n",
              "      <th>gender_M</th>\n",
              "      <th>suspectable_speed</th>\n",
              "    </tr>\n",
              "  </thead>\n",
              "  <tbody>\n",
              "    <tr>\n",
              "      <th>0</th>\n",
              "      <td>157</td>\n",
              "      <td>60416207185</td>\n",
              "      <td>Kutch-Ferry</td>\n",
              "      <td>home</td>\n",
              "      <td>124.66</td>\n",
              "      <td>43.0048</td>\n",
              "      <td>-108.8964</td>\n",
              "      <td>Information systems manager</td>\n",
              "      <td>1371819942</td>\n",
              "      <td>42.945526</td>\n",
              "      <td>-108.530901</td>\n",
              "      <td>0.000000</td>\n",
              "      <td>0</td>\n",
              "      <td>0</td>\n",
              "    </tr>\n",
              "    <tr>\n",
              "      <th>1</th>\n",
              "      <td>369292</td>\n",
              "      <td>60416207185</td>\n",
              "      <td>Wiza, Schaden and Stark</td>\n",
              "      <td>misc_pos</td>\n",
              "      <td>13.82</td>\n",
              "      <td>43.0048</td>\n",
              "      <td>-108.8964</td>\n",
              "      <td>Information systems manager</td>\n",
              "      <td>1384172501</td>\n",
              "      <td>42.384495</td>\n",
              "      <td>-108.048072</td>\n",
              "      <td>3.069958</td>\n",
              "      <td>0</td>\n",
              "      <td>0</td>\n",
              "    </tr>\n",
              "    <tr>\n",
              "      <th>2</th>\n",
              "      <td>369297</td>\n",
              "      <td>60416207185</td>\n",
              "      <td>Auer LLC</td>\n",
              "      <td>personal_care</td>\n",
              "      <td>44.64</td>\n",
              "      <td>43.0048</td>\n",
              "      <td>-108.8964</td>\n",
              "      <td>Information systems manager</td>\n",
              "      <td>1384172666</td>\n",
              "      <td>43.593310</td>\n",
              "      <td>-109.570917</td>\n",
              "      <td>1993.851746</td>\n",
              "      <td>0</td>\n",
              "      <td>1</td>\n",
              "    </tr>\n",
              "    <tr>\n",
              "      <th>3</th>\n",
              "      <td>371914</td>\n",
              "      <td>60416207185</td>\n",
              "      <td>Kutch, Hermiston and Farrell</td>\n",
              "      <td>gas_transport</td>\n",
              "      <td>39.37</td>\n",
              "      <td>43.0048</td>\n",
              "      <td>-108.8964</td>\n",
              "      <td>Information systems manager</td>\n",
              "      <td>1384306094</td>\n",
              "      <td>43.011321</td>\n",
              "      <td>-108.584666</td>\n",
              "      <td>1.386097</td>\n",
              "      <td>0</td>\n",
              "      <td>0</td>\n",
              "    </tr>\n",
              "  </tbody>\n",
              "</table>\n",
              "</div>"
            ],
            "text/plain": [
              "  trans_id     card_num  ... gender_M suspectable_speed\n",
              "0      157  60416207185  ...        0                 0\n",
              "1   369292  60416207185  ...        0                 0\n",
              "2   369297  60416207185  ...        0                 1\n",
              "3   371914  60416207185  ...        0                 0\n",
              "\n",
              "[4 rows x 14 columns]"
            ]
          },
          "metadata": {
            "tags": []
          },
          "execution_count": 39
        }
      ]
    },
    {
      "cell_type": "code",
      "metadata": {
        "execution": {
          "iopub.status.busy": "2021-06-18T06:32:15.814715Z",
          "iopub.execute_input": "2021-06-18T06:32:15.815196Z"
        },
        "trusted": true,
        "id": "eH9X1QTA1uB7"
      },
      "source": [
        "count =0;\n",
        "for i in range(len(group_data)):\n",
        "    if(i!=0):\n",
        "        if(group_data.iloc[i-1].card_num == group_data.iloc[i].card_num  and group_data.iloc[i-1].suspectable_speed ==1 ):\n",
        "            #group_data.at[i,'suspectable_speed']=1\n",
        "            if(group_data.iloc[i].unix_time-group_data.iloc[i-1].unix_time <180):\n",
        "                group_data.at[i,'suspectable_speed']=1\n"
      ],
      "execution_count": null,
      "outputs": []
    },
    {
      "cell_type": "code",
      "metadata": {
        "execution": {
          "iopub.status.busy": "2021-06-18T06:23:58.774451Z",
          "iopub.execute_input": "2021-06-18T06:23:58.774940Z",
          "iopub.status.idle": "2021-06-18T06:23:58.799743Z",
          "shell.execute_reply.started": "2021-06-18T06:23:58.774901Z",
          "shell.execute_reply": "2021-06-18T06:23:58.799011Z"
        },
        "trusted": true,
        "colab": {
          "base_uri": "https://localhost:8080/"
        },
        "id": "RVdxLlTj1uB_",
        "outputId": "bf9007d3-7f93-4bf0-d411-774bdf4216bf"
      },
      "source": [
        "len(cleaned_data[cleaned_data.suspectable_speed ==1]) #total no of points with speed more than 600 km/h(though normal flight speed is 900 km/h)\n",
        "                                             #for saftey have taken this as 600km/h                   "
      ],
      "execution_count": null,
      "outputs": [
        {
          "output_type": "execute_result",
          "data": {
            "text/plain": [
              "10758"
            ]
          },
          "metadata": {
            "tags": []
          },
          "execution_count": 45
        }
      ]
    },
    {
      "cell_type": "code",
      "metadata": {
        "execution": {
          "iopub.status.busy": "2021-06-18T06:24:47.184740Z",
          "iopub.execute_input": "2021-06-18T06:24:47.185238Z",
          "iopub.status.idle": "2021-06-18T06:24:47.219409Z",
          "shell.execute_reply.started": "2021-06-18T06:24:47.185207Z",
          "shell.execute_reply": "2021-06-18T06:24:47.218438Z"
        },
        "trusted": true,
        "colab": {
          "base_uri": "https://localhost:8080/"
        },
        "id": "_GSKkOxS1uB_",
        "outputId": "33c96db9-5e42-4032-8fd9-a78125ce01dc"
      },
      "source": [
        "len(group_data[group_data.suspectable_speed==1]) #total points after applying the rule that consecutive fraud points"
      ],
      "execution_count": null,
      "outputs": [
        {
          "output_type": "execute_result",
          "data": {
            "text/plain": [
              "33136"
            ]
          },
          "metadata": {
            "tags": []
          },
          "execution_count": 48
        }
      ]
    },
    {
      "cell_type": "code",
      "metadata": {
        "colab": {
          "base_uri": "https://localhost:8080/",
          "height": 346
        },
        "id": "NtLEyoJA1uCA",
        "outputId": "5c8806d8-74f2-41d1-d052-f0c7a29edf7f"
      },
      "source": [
        "group_data.head(4) # successfully tagging the dataset based on customers speed"
      ],
      "execution_count": null,
      "outputs": [
        {
          "output_type": "execute_result",
          "data": {
            "text/html": [
              "<div>\n",
              "<style scoped>\n",
              "    .dataframe tbody tr th:only-of-type {\n",
              "        vertical-align: middle;\n",
              "    }\n",
              "\n",
              "    .dataframe tbody tr th {\n",
              "        vertical-align: top;\n",
              "    }\n",
              "\n",
              "    .dataframe thead th {\n",
              "        text-align: right;\n",
              "    }\n",
              "</style>\n",
              "<table border=\"1\" class=\"dataframe\">\n",
              "  <thead>\n",
              "    <tr style=\"text-align: right;\">\n",
              "      <th></th>\n",
              "      <th>trans_id</th>\n",
              "      <th>card_num</th>\n",
              "      <th>merchant</th>\n",
              "      <th>purchase_category</th>\n",
              "      <th>trans_amt</th>\n",
              "      <th>lat</th>\n",
              "      <th>long</th>\n",
              "      <th>job</th>\n",
              "      <th>unix_time</th>\n",
              "      <th>merch_lat</th>\n",
              "      <th>merch_long</th>\n",
              "      <th>speed</th>\n",
              "      <th>gender_M</th>\n",
              "      <th>suspectable_speed</th>\n",
              "    </tr>\n",
              "  </thead>\n",
              "  <tbody>\n",
              "    <tr>\n",
              "      <th>0</th>\n",
              "      <td>157</td>\n",
              "      <td>60416207185</td>\n",
              "      <td>Kutch-Ferry</td>\n",
              "      <td>home</td>\n",
              "      <td>124.66</td>\n",
              "      <td>43.0048</td>\n",
              "      <td>-108.8964</td>\n",
              "      <td>Information systems manager</td>\n",
              "      <td>1371819942</td>\n",
              "      <td>42.945526</td>\n",
              "      <td>-108.530901</td>\n",
              "      <td>0.000000</td>\n",
              "      <td>0</td>\n",
              "      <td>0</td>\n",
              "    </tr>\n",
              "    <tr>\n",
              "      <th>1</th>\n",
              "      <td>369292</td>\n",
              "      <td>60416207185</td>\n",
              "      <td>Wiza, Schaden and Stark</td>\n",
              "      <td>misc_pos</td>\n",
              "      <td>13.82</td>\n",
              "      <td>43.0048</td>\n",
              "      <td>-108.8964</td>\n",
              "      <td>Information systems manager</td>\n",
              "      <td>1384172501</td>\n",
              "      <td>42.384495</td>\n",
              "      <td>-108.048072</td>\n",
              "      <td>3.069958</td>\n",
              "      <td>0</td>\n",
              "      <td>0</td>\n",
              "    </tr>\n",
              "    <tr>\n",
              "      <th>2</th>\n",
              "      <td>369297</td>\n",
              "      <td>60416207185</td>\n",
              "      <td>Auer LLC</td>\n",
              "      <td>personal_care</td>\n",
              "      <td>44.64</td>\n",
              "      <td>43.0048</td>\n",
              "      <td>-108.8964</td>\n",
              "      <td>Information systems manager</td>\n",
              "      <td>1384172666</td>\n",
              "      <td>43.593310</td>\n",
              "      <td>-109.570917</td>\n",
              "      <td>1993.851746</td>\n",
              "      <td>0</td>\n",
              "      <td>1</td>\n",
              "    </tr>\n",
              "    <tr>\n",
              "      <th>3</th>\n",
              "      <td>371914</td>\n",
              "      <td>60416207185</td>\n",
              "      <td>Kutch, Hermiston and Farrell</td>\n",
              "      <td>gas_transport</td>\n",
              "      <td>39.37</td>\n",
              "      <td>43.0048</td>\n",
              "      <td>-108.8964</td>\n",
              "      <td>Information systems manager</td>\n",
              "      <td>1384306094</td>\n",
              "      <td>43.011321</td>\n",
              "      <td>-108.584666</td>\n",
              "      <td>1.386097</td>\n",
              "      <td>0</td>\n",
              "      <td>0</td>\n",
              "    </tr>\n",
              "  </tbody>\n",
              "</table>\n",
              "</div>"
            ],
            "text/plain": [
              "  trans_id     card_num  ... gender_M suspectable_speed\n",
              "0      157  60416207185  ...        0                 0\n",
              "1   369292  60416207185  ...        0                 0\n",
              "2   369297  60416207185  ...        0                 1\n",
              "3   371914  60416207185  ...        0                 0\n",
              "\n",
              "[4 rows x 14 columns]"
            ]
          },
          "metadata": {
            "tags": []
          },
          "execution_count": 49
        }
      ]
    },
    {
      "cell_type": "code",
      "metadata": {
        "colab": {
          "base_uri": "https://localhost:8080/",
          "height": 284
        },
        "id": "4Bf2-bmSWHYA",
        "outputId": "323ea423-2cb8-466f-eae9-9139ab4621e9"
      },
      "source": [
        "#checking trans_amt vs speed for the tagged  dataset\n",
        "\n",
        "scatterPlot = sns.scatterplot(x=\"trans_amt\",y=\"speed\",hue=\"suspectable_speed\",data=group_data)\n",
        "\n",
        "#setting the x and y axis limits\n",
        "scatterPlot.set(xlim=(0,2000))\n",
        "scatterPlot.set(ylim=(0,140000))\n",
        "\n",
        "plt.show()"
      ],
      "execution_count": null,
      "outputs": [
        {
          "output_type": "display_data",
          "data": {
            "image/png": "[encoded data removed]",
            "text/plain": [
              "<Figure size 432x288 with 1 Axes>"
            ]
          },
          "metadata": {
            "tags": [],
            "needs_background": "light"
          }
        }
      ]
    },
    {
      "cell_type": "code",
      "metadata": {
        "id": "Y5_hxrR-1uCA"
      },
      "source": [
        "#saving the dataframe as a csv file \n",
        "group_data.to_csv('/content/drive/MyDrive/kaggle/transaction_speed_tagged.csv',index=False)"
      ],
      "execution_count": null,
      "outputs": []
    },
    {
      "cell_type": "code",
      "metadata": {
        "id": "FyyjdHaJ1uCB"
      },
      "source": [
        ""
      ],
      "execution_count": null,
      "outputs": []
    },
    {
      "cell_type": "code",
      "metadata": {
        "id": "4IDdyuxP1uCB"
      },
      "source": [
        ""
      ],
      "execution_count": null,
      "outputs": []
    },
    {
      "cell_type": "code",
      "metadata": {
        "id": "HN-Z8tAJ1uCB"
      },
      "source": [
        ""
      ],
      "execution_count": null,
      "outputs": []
    },
    {
      "cell_type": "code",
      "metadata": {
        "id": "4fednBjb1uCC"
      },
      "source": [
        ""
      ],
      "execution_count": null,
      "outputs": []
    },
    {
      "cell_type": "code",
      "metadata": {
        "id": "FUX-DVJr1uCC"
      },
      "source": [
        ""
      ],
      "execution_count": null,
      "outputs": []
    }
  ]
}